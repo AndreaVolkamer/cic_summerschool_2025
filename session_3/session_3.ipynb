{
 "cells": [
  {
   "cell_type": "markdown",
   "id": "9a0828f6",
   "metadata": {},
   "source": [
    "# Session 4"
   ]
  }
 ],
 "metadata": {
  "language_info": {
   "name": "python"
  }
 },
 "nbformat": 4,
 "nbformat_minor": 5
}
