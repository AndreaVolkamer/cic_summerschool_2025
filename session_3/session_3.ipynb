{
 "cells": [
  {
   "cell_type": "markdown",
   "id": "9a0828f6",
   "metadata": {
    "id": "9a0828f6"
   },
   "source": [
    "# Session 4\n",
    "\n",
    "In this session, we will build and train a neural network for the EGFR activity prediction task using **Pytorch**.\n",
    "\n",
    "**Content:**\n",
    "1. What is Pytorch?\n",
    "2. Tensor\n",
    "3. Dataset and DataLoader\n",
    "4. Defining the Neural Network (MLP)\n",
    "5. Training\n",
    "6. Testing"
   ]
  },
  {
   "cell_type": "code",
   "execution_count": 1,
   "id": "502c5a85",
   "metadata": {
    "id": "502c5a85",
    "outputId": "7e34a19b-f74b-4e6e-c00d-41ae78912a2f",
    "colab": {
     "base_uri": "https://localhost:8080/"
    }
   },
   "outputs": [
    {
     "output_type": "stream",
     "name": "stdout",
     "text": [
      "Requirement already satisfied: PyTDC in /usr/local/lib/python3.12/dist-packages (1.0.0)\n",
      "Requirement already satisfied: biopython<2.0,>=1.78 in /usr/local/lib/python3.12/dist-packages (from PyTDC) (1.85)\n",
      "Requirement already satisfied: dataclasses<1.0,>=0.6 in /usr/local/lib/python3.12/dist-packages (from PyTDC) (0.6)\n",
      "Requirement already satisfied: fuzzywuzzy<1.0,>=0.18.0 in /usr/local/lib/python3.12/dist-packages (from PyTDC) (0.18.0)\n",
      "Requirement already satisfied: huggingface-hub<1.0,>=0.20.3 in /usr/local/lib/python3.12/dist-packages (from PyTDC) (0.34.4)\n",
      "Requirement already satisfied: mygene<4.0.0,>=3.2.2 in /usr/local/lib/python3.12/dist-packages (from PyTDC) (3.2.2)\n",
      "Requirement already satisfied: numpy<2.0.0,>=1.26.4 in /usr/local/lib/python3.12/dist-packages (from PyTDC) (1.26.4)\n",
      "Requirement already satisfied: openpyxl<4.0.0,>=3.0.10 in /usr/local/lib/python3.12/dist-packages (from PyTDC) (3.1.5)\n",
      "Requirement already satisfied: pandas<3.0.0,>=2.1.4 in /usr/local/lib/python3.12/dist-packages (from PyTDC) (2.2.2)\n",
      "Requirement already satisfied: requests<3.0.0,>=2.31.0 in /usr/local/lib/python3.12/dist-packages (from PyTDC) (2.32.4)\n",
      "Requirement already satisfied: scikit-learn==1.2.2 in /usr/local/lib/python3.12/dist-packages (from PyTDC) (1.2.2)\n",
      "Requirement already satisfied: seaborn<1.0.0,>=0.12.2 in /usr/local/lib/python3.12/dist-packages (from PyTDC) (0.13.2)\n",
      "Requirement already satisfied: tqdm<5.0.0,>=4.65.0 in /usr/local/lib/python3.12/dist-packages (from PyTDC) (4.67.1)\n",
      "Requirement already satisfied: cellxgene-census<2.0.0,>=1.10.2 in /usr/local/lib/python3.12/dist-packages (from PyTDC) (1.17.0)\n",
      "Requirement already satisfied: gget<1.0.0,>=0.28.4 in /usr/local/lib/python3.12/dist-packages (from PyTDC) (0.29.2)\n",
      "Requirement already satisfied: pydantic<3.0.0,>=2.6.3 in /usr/local/lib/python3.12/dist-packages (from PyTDC) (2.11.7)\n",
      "Requirement already satisfied: rdkit<2024.3.1,>=2023.9.5 in /usr/local/lib/python3.12/dist-packages (from PyTDC) (2023.9.6)\n",
      "Requirement already satisfied: tiledbsoma<2.0.0,>=1.7.2 in /usr/local/lib/python3.12/dist-packages (from PyTDC) (1.17.1)\n",
      "Requirement already satisfied: yapf<1.0.0,>=0.40.2 in /usr/local/lib/python3.12/dist-packages (from PyTDC) (0.43.0)\n",
      "Requirement already satisfied: scipy>=1.3.2 in /usr/local/lib/python3.12/dist-packages (from scikit-learn==1.2.2->PyTDC) (1.16.1)\n",
      "Requirement already satisfied: joblib>=1.1.1 in /usr/local/lib/python3.12/dist-packages (from scikit-learn==1.2.2->PyTDC) (1.5.1)\n",
      "Requirement already satisfied: threadpoolctl>=2.0.0 in /usr/local/lib/python3.12/dist-packages (from scikit-learn==1.2.2->PyTDC) (3.6.0)\n",
      "Requirement already satisfied: anndata in /usr/local/lib/python3.12/dist-packages (from cellxgene-census<2.0.0,>=1.10.2->PyTDC) (0.12.2)\n",
      "Requirement already satisfied: typing_extensions in /usr/local/lib/python3.12/dist-packages (from cellxgene-census<2.0.0,>=1.10.2->PyTDC) (4.14.1)\n",
      "Requirement already satisfied: s3fs>=2021.06.1 in /usr/local/lib/python3.12/dist-packages (from cellxgene-census<2.0.0,>=1.10.2->PyTDC) (2025.7.0)\n",
      "Requirement already satisfied: ipython in /usr/local/lib/python3.12/dist-packages (from gget<1.0.0,>=0.28.4->PyTDC) (7.34.0)\n",
      "Requirement already satisfied: matplotlib in /usr/local/lib/python3.12/dist-packages (from gget<1.0.0,>=0.28.4->PyTDC) (3.10.0)\n",
      "Requirement already satisfied: mysql-connector-python>=8.0.32 in /usr/local/lib/python3.12/dist-packages (from gget<1.0.0,>=0.28.4->PyTDC) (9.4.0)\n",
      "Requirement already satisfied: beautifulsoup4>=4.10.0 in /usr/local/lib/python3.12/dist-packages (from gget<1.0.0,>=0.28.4->PyTDC) (4.13.4)\n",
      "Requirement already satisfied: ipywidgets in /usr/local/lib/python3.12/dist-packages (from gget<1.0.0,>=0.28.4->PyTDC) (7.7.1)\n",
      "Requirement already satisfied: lxml in /usr/local/lib/python3.12/dist-packages (from gget<1.0.0,>=0.28.4->PyTDC) (5.4.0)\n",
      "Requirement already satisfied: filelock in /usr/local/lib/python3.12/dist-packages (from huggingface-hub<1.0,>=0.20.3->PyTDC) (3.19.1)\n",
      "Requirement already satisfied: fsspec>=2023.5.0 in /usr/local/lib/python3.12/dist-packages (from huggingface-hub<1.0,>=0.20.3->PyTDC) (2025.7.0)\n",
      "Requirement already satisfied: packaging>=20.9 in /usr/local/lib/python3.12/dist-packages (from huggingface-hub<1.0,>=0.20.3->PyTDC) (25.0)\n",
      "Requirement already satisfied: pyyaml>=5.1 in /usr/local/lib/python3.12/dist-packages (from huggingface-hub<1.0,>=0.20.3->PyTDC) (6.0.2)\n",
      "Requirement already satisfied: hf-xet<2.0.0,>=1.1.3 in /usr/local/lib/python3.12/dist-packages (from huggingface-hub<1.0,>=0.20.3->PyTDC) (1.1.7)\n",
      "Requirement already satisfied: biothings-client>=0.2.6 in /usr/local/lib/python3.12/dist-packages (from mygene<4.0.0,>=3.2.2->PyTDC) (0.4.1)\n",
      "Requirement already satisfied: et-xmlfile in /usr/local/lib/python3.12/dist-packages (from openpyxl<4.0.0,>=3.0.10->PyTDC) (2.0.0)\n",
      "Requirement already satisfied: python-dateutil>=2.8.2 in /usr/local/lib/python3.12/dist-packages (from pandas<3.0.0,>=2.1.4->PyTDC) (2.9.0.post0)\n",
      "Requirement already satisfied: pytz>=2020.1 in /usr/local/lib/python3.12/dist-packages (from pandas<3.0.0,>=2.1.4->PyTDC) (2025.2)\n",
      "Requirement already satisfied: tzdata>=2022.7 in /usr/local/lib/python3.12/dist-packages (from pandas<3.0.0,>=2.1.4->PyTDC) (2025.2)\n",
      "Requirement already satisfied: annotated-types>=0.6.0 in /usr/local/lib/python3.12/dist-packages (from pydantic<3.0.0,>=2.6.3->PyTDC) (0.7.0)\n",
      "Requirement already satisfied: pydantic-core==2.33.2 in /usr/local/lib/python3.12/dist-packages (from pydantic<3.0.0,>=2.6.3->PyTDC) (2.33.2)\n",
      "Requirement already satisfied: typing-inspection>=0.4.0 in /usr/local/lib/python3.12/dist-packages (from pydantic<3.0.0,>=2.6.3->PyTDC) (0.4.1)\n",
      "Requirement already satisfied: Pillow in /usr/local/lib/python3.12/dist-packages (from rdkit<2024.3.1,>=2023.9.5->PyTDC) (11.3.0)\n",
      "Requirement already satisfied: charset_normalizer<4,>=2 in /usr/local/lib/python3.12/dist-packages (from requests<3.0.0,>=2.31.0->PyTDC) (3.4.3)\n",
      "Requirement already satisfied: idna<4,>=2.5 in /usr/local/lib/python3.12/dist-packages (from requests<3.0.0,>=2.31.0->PyTDC) (3.10)\n",
      "Requirement already satisfied: urllib3<3,>=1.21.1 in /usr/local/lib/python3.12/dist-packages (from requests<3.0.0,>=2.31.0->PyTDC) (2.5.0)\n",
      "Requirement already satisfied: certifi>=2017.4.17 in /usr/local/lib/python3.12/dist-packages (from requests<3.0.0,>=2.31.0->PyTDC) (2025.8.3)\n",
      "Requirement already satisfied: attrs>=22.2 in /usr/local/lib/python3.12/dist-packages (from tiledbsoma<2.0.0,>=1.7.2->PyTDC) (25.3.0)\n",
      "Requirement already satisfied: more-itertools in /usr/local/lib/python3.12/dist-packages (from tiledbsoma<2.0.0,>=1.7.2->PyTDC) (10.7.0)\n",
      "Requirement already satisfied: pyarrow in /usr/local/lib/python3.12/dist-packages (from tiledbsoma<2.0.0,>=1.7.2->PyTDC) (18.1.0)\n",
      "Requirement already satisfied: scanpy>=1.9.2 in /usr/local/lib/python3.12/dist-packages (from tiledbsoma<2.0.0,>=1.7.2->PyTDC) (1.11.4)\n",
      "Requirement already satisfied: somacore==1.0.28 in /usr/local/lib/python3.12/dist-packages (from tiledbsoma<2.0.0,>=1.7.2->PyTDC) (1.0.28)\n",
      "Requirement already satisfied: pyarrow-hotfix in /usr/local/lib/python3.12/dist-packages (from somacore==1.0.28->tiledbsoma<2.0.0,>=1.7.2->PyTDC) (0.7)\n",
      "Requirement already satisfied: shapely in /usr/local/lib/python3.12/dist-packages (from somacore==1.0.28->tiledbsoma<2.0.0,>=1.7.2->PyTDC) (2.1.1)\n",
      "Requirement already satisfied: platformdirs>=3.5.1 in /usr/local/lib/python3.12/dist-packages (from yapf<1.0.0,>=0.40.2->PyTDC) (4.3.8)\n",
      "Requirement already satisfied: array-api-compat>=1.7.1 in /usr/local/lib/python3.12/dist-packages (from anndata->cellxgene-census<2.0.0,>=1.10.2->PyTDC) (1.12.0)\n",
      "Requirement already satisfied: h5py>=3.8 in /usr/local/lib/python3.12/dist-packages (from anndata->cellxgene-census<2.0.0,>=1.10.2->PyTDC) (3.14.0)\n",
      "Requirement already satisfied: legacy-api-wrap in /usr/local/lib/python3.12/dist-packages (from anndata->cellxgene-census<2.0.0,>=1.10.2->PyTDC) (1.4.1)\n",
      "Requirement already satisfied: natsort in /usr/local/lib/python3.12/dist-packages (from anndata->cellxgene-census<2.0.0,>=1.10.2->PyTDC) (8.4.0)\n",
      "Requirement already satisfied: zarr!=3.0.*,>=2.18.7 in /usr/local/lib/python3.12/dist-packages (from anndata->cellxgene-census<2.0.0,>=1.10.2->PyTDC) (3.1.2)\n",
      "Requirement already satisfied: soupsieve>1.2 in /usr/local/lib/python3.12/dist-packages (from beautifulsoup4>=4.10.0->gget<1.0.0,>=0.28.4->PyTDC) (2.7)\n",
      "Requirement already satisfied: httpx>=0.22.0 in /usr/local/lib/python3.12/dist-packages (from biothings-client>=0.2.6->mygene<4.0.0,>=3.2.2->PyTDC) (0.28.1)\n",
      "Requirement already satisfied: contourpy>=1.0.1 in /usr/local/lib/python3.12/dist-packages (from matplotlib->gget<1.0.0,>=0.28.4->PyTDC) (1.3.3)\n",
      "Requirement already satisfied: cycler>=0.10 in /usr/local/lib/python3.12/dist-packages (from matplotlib->gget<1.0.0,>=0.28.4->PyTDC) (0.12.1)\n",
      "Requirement already satisfied: fonttools>=4.22.0 in /usr/local/lib/python3.12/dist-packages (from matplotlib->gget<1.0.0,>=0.28.4->PyTDC) (4.59.1)\n",
      "Requirement already satisfied: kiwisolver>=1.3.1 in /usr/local/lib/python3.12/dist-packages (from matplotlib->gget<1.0.0,>=0.28.4->PyTDC) (1.4.9)\n",
      "Requirement already satisfied: pyparsing>=2.3.1 in /usr/local/lib/python3.12/dist-packages (from matplotlib->gget<1.0.0,>=0.28.4->PyTDC) (3.2.3)\n",
      "Requirement already satisfied: six>=1.5 in /usr/local/lib/python3.12/dist-packages (from python-dateutil>=2.8.2->pandas<3.0.0,>=2.1.4->PyTDC) (1.17.0)\n",
      "Requirement already satisfied: aiobotocore<3.0.0,>=2.5.4 in /usr/local/lib/python3.12/dist-packages (from s3fs>=2021.06.1->cellxgene-census<2.0.0,>=1.10.2->PyTDC) (2.24.1)\n",
      "Requirement already satisfied: aiohttp!=4.0.0a0,!=4.0.0a1 in /usr/local/lib/python3.12/dist-packages (from s3fs>=2021.06.1->cellxgene-census<2.0.0,>=1.10.2->PyTDC) (3.12.15)\n",
      "Requirement already satisfied: networkx>=2.7.1 in /usr/local/lib/python3.12/dist-packages (from scanpy>=1.9.2->tiledbsoma<2.0.0,>=1.7.2->PyTDC) (3.5)\n",
      "Requirement already satisfied: numba>=0.57.1 in /usr/local/lib/python3.12/dist-packages (from scanpy>=1.9.2->tiledbsoma<2.0.0,>=1.7.2->PyTDC) (0.60.0)\n",
      "Requirement already satisfied: patsy!=1.0.0 in /usr/local/lib/python3.12/dist-packages (from scanpy>=1.9.2->tiledbsoma<2.0.0,>=1.7.2->PyTDC) (1.0.1)\n",
      "Requirement already satisfied: pynndescent>=0.5.13 in /usr/local/lib/python3.12/dist-packages (from scanpy>=1.9.2->tiledbsoma<2.0.0,>=1.7.2->PyTDC) (0.5.13)\n",
      "Requirement already satisfied: session-info2 in /usr/local/lib/python3.12/dist-packages (from scanpy>=1.9.2->tiledbsoma<2.0.0,>=1.7.2->PyTDC) (0.2.1)\n",
      "Requirement already satisfied: statsmodels>=0.14.5 in /usr/local/lib/python3.12/dist-packages (from scanpy>=1.9.2->tiledbsoma<2.0.0,>=1.7.2->PyTDC) (0.14.5)\n",
      "Requirement already satisfied: umap-learn>=0.5.6 in /usr/local/lib/python3.12/dist-packages (from scanpy>=1.9.2->tiledbsoma<2.0.0,>=1.7.2->PyTDC) (0.5.7)\n",
      "Requirement already satisfied: setuptools>=18.5 in /usr/local/lib/python3.12/dist-packages (from ipython->gget<1.0.0,>=0.28.4->PyTDC) (75.2.0)\n",
      "Requirement already satisfied: jedi>=0.16 in /usr/local/lib/python3.12/dist-packages (from ipython->gget<1.0.0,>=0.28.4->PyTDC) (0.19.2)\n",
      "Requirement already satisfied: decorator in /usr/local/lib/python3.12/dist-packages (from ipython->gget<1.0.0,>=0.28.4->PyTDC) (4.4.2)\n",
      "Requirement already satisfied: pickleshare in /usr/local/lib/python3.12/dist-packages (from ipython->gget<1.0.0,>=0.28.4->PyTDC) (0.7.5)\n",
      "Requirement already satisfied: traitlets>=4.2 in /usr/local/lib/python3.12/dist-packages (from ipython->gget<1.0.0,>=0.28.4->PyTDC) (5.7.1)\n",
      "Requirement already satisfied: prompt-toolkit!=3.0.0,!=3.0.1,<3.1.0,>=2.0.0 in /usr/local/lib/python3.12/dist-packages (from ipython->gget<1.0.0,>=0.28.4->PyTDC) (3.0.51)\n",
      "Requirement already satisfied: pygments in /usr/local/lib/python3.12/dist-packages (from ipython->gget<1.0.0,>=0.28.4->PyTDC) (2.19.2)\n",
      "Requirement already satisfied: backcall in /usr/local/lib/python3.12/dist-packages (from ipython->gget<1.0.0,>=0.28.4->PyTDC) (0.2.0)\n",
      "Requirement already satisfied: matplotlib-inline in /usr/local/lib/python3.12/dist-packages (from ipython->gget<1.0.0,>=0.28.4->PyTDC) (0.1.7)\n",
      "Requirement already satisfied: pexpect>4.3 in /usr/local/lib/python3.12/dist-packages (from ipython->gget<1.0.0,>=0.28.4->PyTDC) (4.9.0)\n",
      "Requirement already satisfied: ipykernel>=4.5.1 in /usr/local/lib/python3.12/dist-packages (from ipywidgets->gget<1.0.0,>=0.28.4->PyTDC) (6.17.1)\n",
      "Requirement already satisfied: ipython-genutils~=0.2.0 in /usr/local/lib/python3.12/dist-packages (from ipywidgets->gget<1.0.0,>=0.28.4->PyTDC) (0.2.0)\n",
      "Requirement already satisfied: widgetsnbextension~=3.6.0 in /usr/local/lib/python3.12/dist-packages (from ipywidgets->gget<1.0.0,>=0.28.4->PyTDC) (3.6.10)\n",
      "Requirement already satisfied: jupyterlab-widgets>=1.0.0 in /usr/local/lib/python3.12/dist-packages (from ipywidgets->gget<1.0.0,>=0.28.4->PyTDC) (3.0.15)\n",
      "Requirement already satisfied: aioitertools<1.0.0,>=0.5.1 in /usr/local/lib/python3.12/dist-packages (from aiobotocore<3.0.0,>=2.5.4->s3fs>=2021.06.1->cellxgene-census<2.0.0,>=1.10.2->PyTDC) (0.12.0)\n",
      "Requirement already satisfied: botocore<1.39.12,>=1.39.9 in /usr/local/lib/python3.12/dist-packages (from aiobotocore<3.0.0,>=2.5.4->s3fs>=2021.06.1->cellxgene-census<2.0.0,>=1.10.2->PyTDC) (1.39.11)\n",
      "Requirement already satisfied: jmespath<2.0.0,>=0.7.1 in /usr/local/lib/python3.12/dist-packages (from aiobotocore<3.0.0,>=2.5.4->s3fs>=2021.06.1->cellxgene-census<2.0.0,>=1.10.2->PyTDC) (1.0.1)\n",
      "Requirement already satisfied: multidict<7.0.0,>=6.0.0 in /usr/local/lib/python3.12/dist-packages (from aiobotocore<3.0.0,>=2.5.4->s3fs>=2021.06.1->cellxgene-census<2.0.0,>=1.10.2->PyTDC) (6.6.4)\n",
      "Requirement already satisfied: wrapt<2.0.0,>=1.10.10 in /usr/local/lib/python3.12/dist-packages (from aiobotocore<3.0.0,>=2.5.4->s3fs>=2021.06.1->cellxgene-census<2.0.0,>=1.10.2->PyTDC) (1.17.3)\n",
      "Requirement already satisfied: aiohappyeyeballs>=2.5.0 in /usr/local/lib/python3.12/dist-packages (from aiohttp!=4.0.0a0,!=4.0.0a1->s3fs>=2021.06.1->cellxgene-census<2.0.0,>=1.10.2->PyTDC) (2.6.1)\n",
      "Requirement already satisfied: aiosignal>=1.4.0 in /usr/local/lib/python3.12/dist-packages (from aiohttp!=4.0.0a0,!=4.0.0a1->s3fs>=2021.06.1->cellxgene-census<2.0.0,>=1.10.2->PyTDC) (1.4.0)\n",
      "Requirement already satisfied: frozenlist>=1.1.1 in /usr/local/lib/python3.12/dist-packages (from aiohttp!=4.0.0a0,!=4.0.0a1->s3fs>=2021.06.1->cellxgene-census<2.0.0,>=1.10.2->PyTDC) (1.7.0)\n",
      "Requirement already satisfied: propcache>=0.2.0 in /usr/local/lib/python3.12/dist-packages (from aiohttp!=4.0.0a0,!=4.0.0a1->s3fs>=2021.06.1->cellxgene-census<2.0.0,>=1.10.2->PyTDC) (0.3.2)\n",
      "Requirement already satisfied: yarl<2.0,>=1.17.0 in /usr/local/lib/python3.12/dist-packages (from aiohttp!=4.0.0a0,!=4.0.0a1->s3fs>=2021.06.1->cellxgene-census<2.0.0,>=1.10.2->PyTDC) (1.20.1)\n",
      "Requirement already satisfied: anyio in /usr/local/lib/python3.12/dist-packages (from httpx>=0.22.0->biothings-client>=0.2.6->mygene<4.0.0,>=3.2.2->PyTDC) (4.10.0)\n",
      "Requirement already satisfied: httpcore==1.* in /usr/local/lib/python3.12/dist-packages (from httpx>=0.22.0->biothings-client>=0.2.6->mygene<4.0.0,>=3.2.2->PyTDC) (1.0.9)\n",
      "Requirement already satisfied: h11>=0.16 in /usr/local/lib/python3.12/dist-packages (from httpcore==1.*->httpx>=0.22.0->biothings-client>=0.2.6->mygene<4.0.0,>=3.2.2->PyTDC) (0.16.0)\n",
      "Requirement already satisfied: debugpy>=1.0 in /usr/local/lib/python3.12/dist-packages (from ipykernel>=4.5.1->ipywidgets->gget<1.0.0,>=0.28.4->PyTDC) (1.8.15)\n",
      "Requirement already satisfied: jupyter-client>=6.1.12 in /usr/local/lib/python3.12/dist-packages (from ipykernel>=4.5.1->ipywidgets->gget<1.0.0,>=0.28.4->PyTDC) (6.1.12)\n",
      "Requirement already satisfied: nest-asyncio in /usr/local/lib/python3.12/dist-packages (from ipykernel>=4.5.1->ipywidgets->gget<1.0.0,>=0.28.4->PyTDC) (1.6.0)\n",
      "Requirement already satisfied: psutil in /usr/local/lib/python3.12/dist-packages (from ipykernel>=4.5.1->ipywidgets->gget<1.0.0,>=0.28.4->PyTDC) (5.9.5)\n",
      "Requirement already satisfied: pyzmq>=17 in /usr/local/lib/python3.12/dist-packages (from ipykernel>=4.5.1->ipywidgets->gget<1.0.0,>=0.28.4->PyTDC) (26.2.1)\n",
      "Requirement already satisfied: tornado>=6.1 in /usr/local/lib/python3.12/dist-packages (from ipykernel>=4.5.1->ipywidgets->gget<1.0.0,>=0.28.4->PyTDC) (6.4.2)\n",
      "Requirement already satisfied: parso<0.9.0,>=0.8.4 in /usr/local/lib/python3.12/dist-packages (from jedi>=0.16->ipython->gget<1.0.0,>=0.28.4->PyTDC) (0.8.4)\n",
      "Requirement already satisfied: llvmlite<0.44,>=0.43.0dev0 in /usr/local/lib/python3.12/dist-packages (from numba>=0.57.1->scanpy>=1.9.2->tiledbsoma<2.0.0,>=1.7.2->PyTDC) (0.43.0)\n",
      "Requirement already satisfied: ptyprocess>=0.5 in /usr/local/lib/python3.12/dist-packages (from pexpect>4.3->ipython->gget<1.0.0,>=0.28.4->PyTDC) (0.7.0)\n",
      "Requirement already satisfied: wcwidth in /usr/local/lib/python3.12/dist-packages (from prompt-toolkit!=3.0.0,!=3.0.1,<3.1.0,>=2.0.0->ipython->gget<1.0.0,>=0.28.4->PyTDC) (0.2.13)\n",
      "Requirement already satisfied: notebook>=4.4.1 in /usr/local/lib/python3.12/dist-packages (from widgetsnbextension~=3.6.0->ipywidgets->gget<1.0.0,>=0.28.4->PyTDC) (6.5.7)\n",
      "Requirement already satisfied: donfig>=0.8 in /usr/local/lib/python3.12/dist-packages (from zarr!=3.0.*,>=2.18.7->anndata->cellxgene-census<2.0.0,>=1.10.2->PyTDC) (0.8.1.post1)\n",
      "Requirement already satisfied: numcodecs>=0.14 in /usr/local/lib/python3.12/dist-packages (from numcodecs[crc32c]>=0.14->zarr!=3.0.*,>=2.18.7->anndata->cellxgene-census<2.0.0,>=1.10.2->PyTDC) (0.16.2)\n",
      "Requirement already satisfied: jupyter-core>=4.6.0 in /usr/local/lib/python3.12/dist-packages (from jupyter-client>=6.1.12->ipykernel>=4.5.1->ipywidgets->gget<1.0.0,>=0.28.4->PyTDC) (5.8.1)\n",
      "Requirement already satisfied: jinja2 in /usr/local/lib/python3.12/dist-packages (from notebook>=4.4.1->widgetsnbextension~=3.6.0->ipywidgets->gget<1.0.0,>=0.28.4->PyTDC) (3.1.6)\n",
      "Requirement already satisfied: argon2-cffi in /usr/local/lib/python3.12/dist-packages (from notebook>=4.4.1->widgetsnbextension~=3.6.0->ipywidgets->gget<1.0.0,>=0.28.4->PyTDC) (25.1.0)\n",
      "Requirement already satisfied: nbformat in /usr/local/lib/python3.12/dist-packages (from notebook>=4.4.1->widgetsnbextension~=3.6.0->ipywidgets->gget<1.0.0,>=0.28.4->PyTDC) (5.10.4)\n",
      "Requirement already satisfied: nbconvert>=5 in /usr/local/lib/python3.12/dist-packages (from notebook>=4.4.1->widgetsnbextension~=3.6.0->ipywidgets->gget<1.0.0,>=0.28.4->PyTDC) (7.16.6)\n",
      "Requirement already satisfied: Send2Trash>=1.8.0 in /usr/local/lib/python3.12/dist-packages (from notebook>=4.4.1->widgetsnbextension~=3.6.0->ipywidgets->gget<1.0.0,>=0.28.4->PyTDC) (1.8.3)\n",
      "Requirement already satisfied: terminado>=0.8.3 in /usr/local/lib/python3.12/dist-packages (from notebook>=4.4.1->widgetsnbextension~=3.6.0->ipywidgets->gget<1.0.0,>=0.28.4->PyTDC) (0.18.1)\n",
      "Requirement already satisfied: prometheus-client in /usr/local/lib/python3.12/dist-packages (from notebook>=4.4.1->widgetsnbextension~=3.6.0->ipywidgets->gget<1.0.0,>=0.28.4->PyTDC) (0.22.1)\n",
      "Requirement already satisfied: nbclassic>=0.4.7 in /usr/local/lib/python3.12/dist-packages (from notebook>=4.4.1->widgetsnbextension~=3.6.0->ipywidgets->gget<1.0.0,>=0.28.4->PyTDC) (1.3.1)\n",
      "Requirement already satisfied: crc32c>=2.7 in /usr/local/lib/python3.12/dist-packages (from numcodecs[crc32c]>=0.14->zarr!=3.0.*,>=2.18.7->anndata->cellxgene-census<2.0.0,>=1.10.2->PyTDC) (2.7.1)\n",
      "Requirement already satisfied: sniffio>=1.1 in /usr/local/lib/python3.12/dist-packages (from anyio->httpx>=0.22.0->biothings-client>=0.2.6->mygene<4.0.0,>=3.2.2->PyTDC) (1.3.1)\n",
      "Requirement already satisfied: notebook-shim>=0.2.3 in /usr/local/lib/python3.12/dist-packages (from nbclassic>=0.4.7->notebook>=4.4.1->widgetsnbextension~=3.6.0->ipywidgets->gget<1.0.0,>=0.28.4->PyTDC) (0.2.4)\n",
      "Requirement already satisfied: bleach!=5.0.0 in /usr/local/lib/python3.12/dist-packages (from bleach[css]!=5.0.0->nbconvert>=5->notebook>=4.4.1->widgetsnbextension~=3.6.0->ipywidgets->gget<1.0.0,>=0.28.4->PyTDC) (6.2.0)\n",
      "Requirement already satisfied: defusedxml in /usr/local/lib/python3.12/dist-packages (from nbconvert>=5->notebook>=4.4.1->widgetsnbextension~=3.6.0->ipywidgets->gget<1.0.0,>=0.28.4->PyTDC) (0.7.1)\n",
      "Requirement already satisfied: jupyterlab-pygments in /usr/local/lib/python3.12/dist-packages (from nbconvert>=5->notebook>=4.4.1->widgetsnbextension~=3.6.0->ipywidgets->gget<1.0.0,>=0.28.4->PyTDC) (0.3.0)\n",
      "Requirement already satisfied: markupsafe>=2.0 in /usr/local/lib/python3.12/dist-packages (from nbconvert>=5->notebook>=4.4.1->widgetsnbextension~=3.6.0->ipywidgets->gget<1.0.0,>=0.28.4->PyTDC) (3.0.2)\n",
      "Requirement already satisfied: mistune<4,>=2.0.3 in /usr/local/lib/python3.12/dist-packages (from nbconvert>=5->notebook>=4.4.1->widgetsnbextension~=3.6.0->ipywidgets->gget<1.0.0,>=0.28.4->PyTDC) (3.1.3)\n",
      "Requirement already satisfied: nbclient>=0.5.0 in /usr/local/lib/python3.12/dist-packages (from nbconvert>=5->notebook>=4.4.1->widgetsnbextension~=3.6.0->ipywidgets->gget<1.0.0,>=0.28.4->PyTDC) (0.10.2)\n",
      "Requirement already satisfied: pandocfilters>=1.4.1 in /usr/local/lib/python3.12/dist-packages (from nbconvert>=5->notebook>=4.4.1->widgetsnbextension~=3.6.0->ipywidgets->gget<1.0.0,>=0.28.4->PyTDC) (1.5.1)\n",
      "Requirement already satisfied: fastjsonschema>=2.15 in /usr/local/lib/python3.12/dist-packages (from nbformat->notebook>=4.4.1->widgetsnbextension~=3.6.0->ipywidgets->gget<1.0.0,>=0.28.4->PyTDC) (2.21.2)\n",
      "Requirement already satisfied: jsonschema>=2.6 in /usr/local/lib/python3.12/dist-packages (from nbformat->notebook>=4.4.1->widgetsnbextension~=3.6.0->ipywidgets->gget<1.0.0,>=0.28.4->PyTDC) (4.25.1)\n",
      "Requirement already satisfied: argon2-cffi-bindings in /usr/local/lib/python3.12/dist-packages (from argon2-cffi->notebook>=4.4.1->widgetsnbextension~=3.6.0->ipywidgets->gget<1.0.0,>=0.28.4->PyTDC) (25.1.0)\n",
      "Requirement already satisfied: webencodings in /usr/local/lib/python3.12/dist-packages (from bleach!=5.0.0->bleach[css]!=5.0.0->nbconvert>=5->notebook>=4.4.1->widgetsnbextension~=3.6.0->ipywidgets->gget<1.0.0,>=0.28.4->PyTDC) (0.5.1)\n",
      "Requirement already satisfied: tinycss2<1.5,>=1.1.0 in /usr/local/lib/python3.12/dist-packages (from bleach[css]!=5.0.0->nbconvert>=5->notebook>=4.4.1->widgetsnbextension~=3.6.0->ipywidgets->gget<1.0.0,>=0.28.4->PyTDC) (1.4.0)\n",
      "Requirement already satisfied: jsonschema-specifications>=2023.03.6 in /usr/local/lib/python3.12/dist-packages (from jsonschema>=2.6->nbformat->notebook>=4.4.1->widgetsnbextension~=3.6.0->ipywidgets->gget<1.0.0,>=0.28.4->PyTDC) (2025.4.1)\n",
      "Requirement already satisfied: referencing>=0.28.4 in /usr/local/lib/python3.12/dist-packages (from jsonschema>=2.6->nbformat->notebook>=4.4.1->widgetsnbextension~=3.6.0->ipywidgets->gget<1.0.0,>=0.28.4->PyTDC) (0.36.2)\n",
      "Requirement already satisfied: rpds-py>=0.7.1 in /usr/local/lib/python3.12/dist-packages (from jsonschema>=2.6->nbformat->notebook>=4.4.1->widgetsnbextension~=3.6.0->ipywidgets->gget<1.0.0,>=0.28.4->PyTDC) (0.27.0)\n",
      "Requirement already satisfied: jupyter-server<3,>=1.8 in /usr/local/lib/python3.12/dist-packages (from notebook-shim>=0.2.3->nbclassic>=0.4.7->notebook>=4.4.1->widgetsnbextension~=3.6.0->ipywidgets->gget<1.0.0,>=0.28.4->PyTDC) (1.16.0)\n",
      "Requirement already satisfied: cffi>=1.0.1 in /usr/local/lib/python3.12/dist-packages (from argon2-cffi-bindings->argon2-cffi->notebook>=4.4.1->widgetsnbextension~=3.6.0->ipywidgets->gget<1.0.0,>=0.28.4->PyTDC) (1.17.1)\n",
      "Requirement already satisfied: pycparser in /usr/local/lib/python3.12/dist-packages (from cffi>=1.0.1->argon2-cffi-bindings->argon2-cffi->notebook>=4.4.1->widgetsnbextension~=3.6.0->ipywidgets->gget<1.0.0,>=0.28.4->PyTDC) (2.22)\n",
      "Requirement already satisfied: websocket-client in /usr/local/lib/python3.12/dist-packages (from jupyter-server<3,>=1.8->notebook-shim>=0.2.3->nbclassic>=0.4.7->notebook>=4.4.1->widgetsnbextension~=3.6.0->ipywidgets->gget<1.0.0,>=0.28.4->PyTDC) (1.8.0)\n",
      "2.8.0+cu126\n"
     ]
    }
   ],
   "source": [
    "!pip install PyTDC\n",
    "import torch\n",
    "\n",
    "print(torch.__version__)"
   ]
  },
  {
   "cell_type": "code",
   "source": [
    "import sys\n",
    "\n",
    "IN_COLAB = \"google.colab\" in sys.modules\n",
    "\n",
    "if IN_COLAB:\n",
    "    !pip install rdkit"
   ],
   "metadata": {
    "id": "k4r8LzGgXi37",
    "outputId": "faac3320-d6d8-4ae4-b6a3-4c566fd2f7ec",
    "colab": {
     "base_uri": "https://localhost:8080/"
    }
   },
   "id": "k4r8LzGgXi37",
   "execution_count": 2,
   "outputs": [
    {
     "output_type": "stream",
     "name": "stdout",
     "text": [
      "Requirement already satisfied: rdkit in /usr/local/lib/python3.12/dist-packages (2023.9.6)\n",
      "Requirement already satisfied: numpy in /usr/local/lib/python3.12/dist-packages (from rdkit) (1.26.4)\n",
      "Requirement already satisfied: Pillow in /usr/local/lib/python3.12/dist-packages (from rdkit) (11.3.0)\n"
     ]
    }
   ]
  },
  {
   "cell_type": "code",
   "execution_count": 3,
   "id": "7b40489f",
   "metadata": {
    "id": "7b40489f"
   },
   "outputs": [],
   "source": [
    "import tqdm\n",
    "import torch\n",
    "import torch.nn as nn\n",
    "import torch.optim as optim\n",
    "from torch.utils.data import Dataset, DataLoader, random_split\n",
    "import pandas as pd\n",
    "import seaborn as sns\n",
    "import matplotlib.pyplot as plt"
   ]
  },
  {
   "cell_type": "code",
   "execution_count": 4,
   "id": "fd1afe62",
   "metadata": {
    "id": "fd1afe62",
    "outputId": "815e14db-c48e-444f-eecf-f3394e8ebde5",
    "colab": {
     "base_uri": "https://localhost:8080/"
    }
   },
   "outputs": [
    {
     "output_type": "execute_result",
     "data": {
      "text/plain": [
       "<torch._C.Generator at 0x7a13adfd31d0>"
      ]
     },
     "metadata": {},
     "execution_count": 4
    }
   ],
   "source": [
    "torch.manual_seed(42)"
   ]
  },
  {
   "cell_type": "markdown",
   "id": "31ab3dff",
   "metadata": {
    "id": "31ab3dff"
   },
   "source": [
    "## What is Pytorch?\n",
    "From [Nvidia](https://www.nvidia.com/en-us/glossary/pytorch/):\n",
    "> **PyTorch** is a fully featured framework for building deep learning models, which is a type of machine learning that’s commonly used in applications like image recognition and language processing. Written in Python, it’s relatively easy for most machine learning developers to learn and use. PyTorch is distinctive for its excellent support for GPUs and its use of reverse-mode auto-differentiation, which enables computation graphs to be modified on the fly. This makes it a popular choice for fast experimentation and prototyping.\n"
   ]
  },
  {
   "cell_type": "markdown",
   "id": "7e0bcbbb",
   "metadata": {
    "id": "7e0bcbbb"
   },
   "source": [
    "`torch.Tensor` is PyTorch's base data structure (\"data abstraction\") to represent 1D (vector), 2D (matrix) or higher dimentional data."
   ]
  },
  {
   "cell_type": "code",
   "execution_count": 5,
   "id": "55e7a278",
   "metadata": {
    "id": "55e7a278",
    "outputId": "e97cd583-a055-4b4d-e2b4-332ccd398796",
    "colab": {
     "base_uri": "https://localhost:8080/"
    }
   },
   "outputs": [
    {
     "output_type": "stream",
     "name": "stdout",
     "text": [
      "tensor([0., 0., 0.])\n",
      "tensor([[0.8823, 0.9150, 0.3829],\n",
      "        [0.9593, 0.3904, 0.6009],\n",
      "        [0.2566, 0.7936, 0.9408]])\n"
     ]
    }
   ],
   "source": [
    "# we can create a vector of only zeros\n",
    "m_0 = torch.zeros(3)\n",
    "print(m_0)\n",
    "\n",
    "# or a 3 * 3 matrix of random numbers in interval [0, 1)\n",
    "m_1 = torch.rand(3, 3, dtype=torch.float)\n",
    "print(m_1)"
   ]
  },
  {
   "cell_type": "markdown",
   "id": "add393a7",
   "metadata": {
    "id": "add393a7"
   },
   "source": [
    "## Dataset and DataLoader\n",
    "[PyTorch](https://docs.pytorch.org/tutorials/beginner/basics/data_tutorial.html):\n",
    "> PyTorch provides two data primitives: `torch.utils.data.DataLoader` and `torch.utils.data.Dataset` that allow you to use pre-loaded datasets as well as your own data. `Dataset` stores the samples and their corresponding labels, and `DataLoader` wraps an iterable around the Dataset to enable easy access to the samples."
   ]
  },
  {
   "cell_type": "markdown",
   "id": "dd080052",
   "metadata": {
    "id": "dd080052"
   },
   "source": [
    "As we use our own dataset, we need to create a new **Dataset** class (a class that inherits from the `Dataset` superclass). This class needs to implement the following functions:\n",
    "* `__init__`: the constructor function\n",
    "* `__len__`: number of samples in dataset\n",
    "* `__getitem__`: get a sample from the dataset at given index"
   ]
  },
  {
   "cell_type": "code",
   "execution_count": 6,
   "id": "7b171995",
   "metadata": {
    "id": "7b171995"
   },
   "outputs": [],
   "source": [
    "from rdkit.Chem import rdFingerprintGenerator\n",
    "from rdkit import Chem, RDLogger\n",
    "from rdkit.Chem import AllChem\n",
    "\n",
    "fpgen = rdFingerprintGenerator.GetMorganGenerator(radius=2, fpSize=1024)\n",
    "\n",
    "\n",
    "def smilesToFp(smiles):\n",
    "    return fpgen.GetFingerprintAsNumPy(Chem.MolFromSmiles(smiles))"
   ]
  },
  {
   "cell_type": "code",
   "execution_count": 7,
   "id": "4a04da12",
   "metadata": {
    "id": "4a04da12"
   },
   "outputs": [],
   "source": [
    "class ActivityDataset(Dataset):\n",
    "    def __init__(self, smiles, activity):\n",
    "        self.fingerprints = torch.tensor(\n",
    "            list(map(smilesToFp, smiles)), dtype=torch.float\n",
    "        )\n",
    "        self.labels = torch.tensor(activity, dtype=torch.float)\n",
    "\n",
    "    def __len__(self):\n",
    "        return len(self.labels)\n",
    "\n",
    "    def __getitem__(self, idx):\n",
    "        fingerprint = self.fingerprints[idx]\n",
    "        label = self.labels[idx]\n",
    "        return fingerprint, label"
   ]
  },
  {
   "cell_type": "markdown",
   "id": "8ed5e420",
   "metadata": {
    "id": "8ed5e420"
   },
   "source": [
    "Let's first load our EGFR dataset:"
   ]
  },
  {
   "cell_type": "code",
   "execution_count": 8,
   "id": "6ffef4b4",
   "metadata": {
    "id": "6ffef4b4",
    "outputId": "7fbd6edb-beaf-40b2-d009-f56282920c36",
    "colab": {
     "base_uri": "https://localhost:8080/",
     "height": 204
    }
   },
   "outputs": [
    {
     "output_type": "execute_result",
     "data": {
      "text/plain": [
       "      pIC50 standard_units molecule_dictionary.chembl_id  \\\n",
       "0  6.339419             nM                  CHEMBL101253   \n",
       "1  5.484537             nM                    CHEMBL1016   \n",
       "2  5.136677             nM                  CHEMBL101683   \n",
       "3  6.494850             nM                  CHEMBL102726   \n",
       "4  5.387216             nM                  CHEMBL103552   \n",
       "\n",
       "                                    canonical_smiles  \n",
       "0             Clc1ccc(Nc2nnc(Cc3ccncc3)c3ccccc23)cc1  \n",
       "1  CCOc1nc2cccc(C(=O)O)c2n1Cc1ccc(-c2ccccc2-c2nnn...  \n",
       "2               O=C(Nc1ccc(Cl)cc1)c1ccccc1NCc1ccncc1  \n",
       "3                         c1ccc(CNc2ncnc3ccccc23)cc1  \n",
       "4        O=C(O)c1cc(N(Cc2ccccc2O)Cc2cc(O)ccc2O)ccc1O  "
      ],
      "text/html": [
       "\n",
       "  <div id=\"df-b39f0c3c-36dd-4323-a5cf-931a78acca57\" class=\"colab-df-container\">\n",
       "    <div>\n",
       "<style scoped>\n",
       "    .dataframe tbody tr th:only-of-type {\n",
       "        vertical-align: middle;\n",
       "    }\n",
       "\n",
       "    .dataframe tbody tr th {\n",
       "        vertical-align: top;\n",
       "    }\n",
       "\n",
       "    .dataframe thead th {\n",
       "        text-align: right;\n",
       "    }\n",
       "</style>\n",
       "<table border=\"1\" class=\"dataframe\">\n",
       "  <thead>\n",
       "    <tr style=\"text-align: right;\">\n",
       "      <th></th>\n",
       "      <th>pIC50</th>\n",
       "      <th>standard_units</th>\n",
       "      <th>molecule_dictionary.chembl_id</th>\n",
       "      <th>canonical_smiles</th>\n",
       "    </tr>\n",
       "  </thead>\n",
       "  <tbody>\n",
       "    <tr>\n",
       "      <th>0</th>\n",
       "      <td>6.339419</td>\n",
       "      <td>nM</td>\n",
       "      <td>CHEMBL101253</td>\n",
       "      <td>Clc1ccc(Nc2nnc(Cc3ccncc3)c3ccccc23)cc1</td>\n",
       "    </tr>\n",
       "    <tr>\n",
       "      <th>1</th>\n",
       "      <td>5.484537</td>\n",
       "      <td>nM</td>\n",
       "      <td>CHEMBL1016</td>\n",
       "      <td>CCOc1nc2cccc(C(=O)O)c2n1Cc1ccc(-c2ccccc2-c2nnn...</td>\n",
       "    </tr>\n",
       "    <tr>\n",
       "      <th>2</th>\n",
       "      <td>5.136677</td>\n",
       "      <td>nM</td>\n",
       "      <td>CHEMBL101683</td>\n",
       "      <td>O=C(Nc1ccc(Cl)cc1)c1ccccc1NCc1ccncc1</td>\n",
       "    </tr>\n",
       "    <tr>\n",
       "      <th>3</th>\n",
       "      <td>6.494850</td>\n",
       "      <td>nM</td>\n",
       "      <td>CHEMBL102726</td>\n",
       "      <td>c1ccc(CNc2ncnc3ccccc23)cc1</td>\n",
       "    </tr>\n",
       "    <tr>\n",
       "      <th>4</th>\n",
       "      <td>5.387216</td>\n",
       "      <td>nM</td>\n",
       "      <td>CHEMBL103552</td>\n",
       "      <td>O=C(O)c1cc(N(Cc2ccccc2O)Cc2cc(O)ccc2O)ccc1O</td>\n",
       "    </tr>\n",
       "  </tbody>\n",
       "</table>\n",
       "</div>\n",
       "    <div class=\"colab-df-buttons\">\n",
       "\n",
       "  <div class=\"colab-df-container\">\n",
       "    <button class=\"colab-df-convert\" onclick=\"convertToInteractive('df-b39f0c3c-36dd-4323-a5cf-931a78acca57')\"\n",
       "            title=\"Convert this dataframe to an interactive table.\"\n",
       "            style=\"display:none;\">\n",
       "\n",
       "  <svg xmlns=\"http://www.w3.org/2000/svg\" height=\"24px\" viewBox=\"0 -960 960 960\">\n",
       "    <path d=\"M120-120v-720h720v720H120Zm60-500h600v-160H180v160Zm220 220h160v-160H400v160Zm0 220h160v-160H400v160ZM180-400h160v-160H180v160Zm440 0h160v-160H620v160ZM180-180h160v-160H180v160Zm440 0h160v-160H620v160Z\"/>\n",
       "  </svg>\n",
       "    </button>\n",
       "\n",
       "  <style>\n",
       "    .colab-df-container {\n",
       "      display:flex;\n",
       "      gap: 12px;\n",
       "    }\n",
       "\n",
       "    .colab-df-convert {\n",
       "      background-color: #E8F0FE;\n",
       "      border: none;\n",
       "      border-radius: 50%;\n",
       "      cursor: pointer;\n",
       "      display: none;\n",
       "      fill: #1967D2;\n",
       "      height: 32px;\n",
       "      padding: 0 0 0 0;\n",
       "      width: 32px;\n",
       "    }\n",
       "\n",
       "    .colab-df-convert:hover {\n",
       "      background-color: #E2EBFA;\n",
       "      box-shadow: 0px 1px 2px rgba(60, 64, 67, 0.3), 0px 1px 3px 1px rgba(60, 64, 67, 0.15);\n",
       "      fill: #174EA6;\n",
       "    }\n",
       "\n",
       "    .colab-df-buttons div {\n",
       "      margin-bottom: 4px;\n",
       "    }\n",
       "\n",
       "    [theme=dark] .colab-df-convert {\n",
       "      background-color: #3B4455;\n",
       "      fill: #D2E3FC;\n",
       "    }\n",
       "\n",
       "    [theme=dark] .colab-df-convert:hover {\n",
       "      background-color: #434B5C;\n",
       "      box-shadow: 0px 1px 3px 1px rgba(0, 0, 0, 0.15);\n",
       "      filter: drop-shadow(0px 1px 2px rgba(0, 0, 0, 0.3));\n",
       "      fill: #FFFFFF;\n",
       "    }\n",
       "  </style>\n",
       "\n",
       "    <script>\n",
       "      const buttonEl =\n",
       "        document.querySelector('#df-b39f0c3c-36dd-4323-a5cf-931a78acca57 button.colab-df-convert');\n",
       "      buttonEl.style.display =\n",
       "        google.colab.kernel.accessAllowed ? 'block' : 'none';\n",
       "\n",
       "      async function convertToInteractive(key) {\n",
       "        const element = document.querySelector('#df-b39f0c3c-36dd-4323-a5cf-931a78acca57');\n",
       "        const dataTable =\n",
       "          await google.colab.kernel.invokeFunction('convertToInteractive',\n",
       "                                                    [key], {});\n",
       "        if (!dataTable) return;\n",
       "\n",
       "        const docLinkHtml = 'Like what you see? Visit the ' +\n",
       "          '<a target=\"_blank\" href=https://colab.research.google.com/notebooks/data_table.ipynb>data table notebook</a>'\n",
       "          + ' to learn more about interactive tables.';\n",
       "        element.innerHTML = '';\n",
       "        dataTable['output_type'] = 'display_data';\n",
       "        await google.colab.output.renderOutput(dataTable, element);\n",
       "        const docLink = document.createElement('div');\n",
       "        docLink.innerHTML = docLinkHtml;\n",
       "        element.appendChild(docLink);\n",
       "      }\n",
       "    </script>\n",
       "  </div>\n",
       "\n",
       "\n",
       "    <div id=\"df-b13f6606-1d9b-47f4-b1c0-6292973c8a0a\">\n",
       "      <button class=\"colab-df-quickchart\" onclick=\"quickchart('df-b13f6606-1d9b-47f4-b1c0-6292973c8a0a')\"\n",
       "                title=\"Suggest charts\"\n",
       "                style=\"display:none;\">\n",
       "\n",
       "<svg xmlns=\"http://www.w3.org/2000/svg\" height=\"24px\"viewBox=\"0 0 24 24\"\n",
       "     width=\"24px\">\n",
       "    <g>\n",
       "        <path d=\"M19 3H5c-1.1 0-2 .9-2 2v14c0 1.1.9 2 2 2h14c1.1 0 2-.9 2-2V5c0-1.1-.9-2-2-2zM9 17H7v-7h2v7zm4 0h-2V7h2v10zm4 0h-2v-4h2v4z\"/>\n",
       "    </g>\n",
       "</svg>\n",
       "      </button>\n",
       "\n",
       "<style>\n",
       "  .colab-df-quickchart {\n",
       "      --bg-color: #E8F0FE;\n",
       "      --fill-color: #1967D2;\n",
       "      --hover-bg-color: #E2EBFA;\n",
       "      --hover-fill-color: #174EA6;\n",
       "      --disabled-fill-color: #AAA;\n",
       "      --disabled-bg-color: #DDD;\n",
       "  }\n",
       "\n",
       "  [theme=dark] .colab-df-quickchart {\n",
       "      --bg-color: #3B4455;\n",
       "      --fill-color: #D2E3FC;\n",
       "      --hover-bg-color: #434B5C;\n",
       "      --hover-fill-color: #FFFFFF;\n",
       "      --disabled-bg-color: #3B4455;\n",
       "      --disabled-fill-color: #666;\n",
       "  }\n",
       "\n",
       "  .colab-df-quickchart {\n",
       "    background-color: var(--bg-color);\n",
       "    border: none;\n",
       "    border-radius: 50%;\n",
       "    cursor: pointer;\n",
       "    display: none;\n",
       "    fill: var(--fill-color);\n",
       "    height: 32px;\n",
       "    padding: 0;\n",
       "    width: 32px;\n",
       "  }\n",
       "\n",
       "  .colab-df-quickchart:hover {\n",
       "    background-color: var(--hover-bg-color);\n",
       "    box-shadow: 0 1px 2px rgba(60, 64, 67, 0.3), 0 1px 3px 1px rgba(60, 64, 67, 0.15);\n",
       "    fill: var(--button-hover-fill-color);\n",
       "  }\n",
       "\n",
       "  .colab-df-quickchart-complete:disabled,\n",
       "  .colab-df-quickchart-complete:disabled:hover {\n",
       "    background-color: var(--disabled-bg-color);\n",
       "    fill: var(--disabled-fill-color);\n",
       "    box-shadow: none;\n",
       "  }\n",
       "\n",
       "  .colab-df-spinner {\n",
       "    border: 2px solid var(--fill-color);\n",
       "    border-color: transparent;\n",
       "    border-bottom-color: var(--fill-color);\n",
       "    animation:\n",
       "      spin 1s steps(1) infinite;\n",
       "  }\n",
       "\n",
       "  @keyframes spin {\n",
       "    0% {\n",
       "      border-color: transparent;\n",
       "      border-bottom-color: var(--fill-color);\n",
       "      border-left-color: var(--fill-color);\n",
       "    }\n",
       "    20% {\n",
       "      border-color: transparent;\n",
       "      border-left-color: var(--fill-color);\n",
       "      border-top-color: var(--fill-color);\n",
       "    }\n",
       "    30% {\n",
       "      border-color: transparent;\n",
       "      border-left-color: var(--fill-color);\n",
       "      border-top-color: var(--fill-color);\n",
       "      border-right-color: var(--fill-color);\n",
       "    }\n",
       "    40% {\n",
       "      border-color: transparent;\n",
       "      border-right-color: var(--fill-color);\n",
       "      border-top-color: var(--fill-color);\n",
       "    }\n",
       "    60% {\n",
       "      border-color: transparent;\n",
       "      border-right-color: var(--fill-color);\n",
       "    }\n",
       "    80% {\n",
       "      border-color: transparent;\n",
       "      border-right-color: var(--fill-color);\n",
       "      border-bottom-color: var(--fill-color);\n",
       "    }\n",
       "    90% {\n",
       "      border-color: transparent;\n",
       "      border-bottom-color: var(--fill-color);\n",
       "    }\n",
       "  }\n",
       "</style>\n",
       "\n",
       "      <script>\n",
       "        async function quickchart(key) {\n",
       "          const quickchartButtonEl =\n",
       "            document.querySelector('#' + key + ' button');\n",
       "          quickchartButtonEl.disabled = true;  // To prevent multiple clicks.\n",
       "          quickchartButtonEl.classList.add('colab-df-spinner');\n",
       "          try {\n",
       "            const charts = await google.colab.kernel.invokeFunction(\n",
       "                'suggestCharts', [key], {});\n",
       "          } catch (error) {\n",
       "            console.error('Error during call to suggestCharts:', error);\n",
       "          }\n",
       "          quickchartButtonEl.classList.remove('colab-df-spinner');\n",
       "          quickchartButtonEl.classList.add('colab-df-quickchart-complete');\n",
       "        }\n",
       "        (() => {\n",
       "          let quickchartButtonEl =\n",
       "            document.querySelector('#df-b13f6606-1d9b-47f4-b1c0-6292973c8a0a button');\n",
       "          quickchartButtonEl.style.display =\n",
       "            google.colab.kernel.accessAllowed ? 'block' : 'none';\n",
       "        })();\n",
       "      </script>\n",
       "    </div>\n",
       "\n",
       "    </div>\n",
       "  </div>\n"
      ],
      "application/vnd.google.colaboratory.intrinsic+json": {
       "type": "dataframe",
       "variable_name": "egfr_activities_df",
       "summary": "{\n  \"name\": \"egfr_activities_df\",\n  \"rows\": 6698,\n  \"fields\": [\n    {\n      \"column\": \"pIC50\",\n      \"properties\": {\n        \"dtype\": \"number\",\n        \"std\": 1.443117240372963,\n        \"min\": 1.6020599913279625,\n        \"max\": 11.522878745280336,\n        \"num_unique_values\": 2671,\n        \"samples\": [\n          10.366531544420411,\n          6.319664486585437,\n          10.431798275933003\n        ],\n        \"semantic_type\": \"\",\n        \"description\": \"\"\n      }\n    },\n    {\n      \"column\": \"standard_units\",\n      \"properties\": {\n        \"dtype\": \"category\",\n        \"num_unique_values\": 1,\n        \"samples\": [\n          \"nM\"\n        ],\n        \"semantic_type\": \"\",\n        \"description\": \"\"\n      }\n    },\n    {\n      \"column\": \"molecule_dictionary.chembl_id\",\n      \"properties\": {\n        \"dtype\": \"string\",\n        \"num_unique_values\": 6698,\n        \"samples\": [\n          \"CHEMBL258282\"\n        ],\n        \"semantic_type\": \"\",\n        \"description\": \"\"\n      }\n    },\n    {\n      \"column\": \"canonical_smiles\",\n      \"properties\": {\n        \"dtype\": \"string\",\n        \"num_unique_values\": 6698,\n        \"samples\": [\n          \"CN1CCN(CCOc2n[nH]c3ncnc(Nc4ccc(OCc5ccccn5)c(Cl)c4)c23)CC1\"\n        ],\n        \"semantic_type\": \"\",\n        \"description\": \"\"\n      }\n    }\n  ]\n}"
      }
     },
     "metadata": {},
     "execution_count": 8
    }
   ],
   "source": [
    "egfr_activities_df = pd.read_csv(\n",
    "    \"https://github.com/volkamerlab/cic_summerschool_2025/raw/refs/heads/main/data/EGFR-activities-prepared.csv\",\n",
    "    index_col=0,\n",
    ")\n",
    "egfr_activities_df.head()"
   ]
  },
  {
   "cell_type": "markdown",
   "id": "374eecc2",
   "metadata": {
    "id": "374eecc2"
   },
   "source": [
    "And create an `ActivityDataset` instance from the full dataset:"
   ]
  },
  {
   "cell_type": "code",
   "execution_count": 9,
   "id": "45760ac1",
   "metadata": {
    "id": "45760ac1",
    "outputId": "df9114f6-e282-41d6-8c31-109e32b69cb8",
    "colab": {
     "base_uri": "https://localhost:8080/"
    }
   },
   "outputs": [
    {
     "output_type": "stream",
     "name": "stderr",
     "text": [
      "/tmp/ipython-input-1054050812.py:3: UserWarning: Creating a tensor from a list of numpy.ndarrays is extremely slow. Please consider converting the list to a single numpy.ndarray with numpy.array() before converting to a tensor. (Triggered internally at /pytorch/torch/csrc/utils/tensor_new.cpp:253.)\n",
      "  self.fingerprints = torch.tensor(list(map(smilesToFp, smiles)), dtype=torch.float)\n"
     ]
    }
   ],
   "source": [
    "dataset = ActivityDataset(\n",
    "    egfr_activities_df[\"canonical_smiles\"], egfr_activities_df[\"pIC50\"]\n",
    ")"
   ]
  },
  {
   "cell_type": "markdown",
   "id": "078cf9a0",
   "metadata": {
    "id": "078cf9a0"
   },
   "source": [
    "We split the dataset into a training set (75%), validation set (10%), and test set (15%) using PyTorch `random_split` function: TODO @Andrea, what are good split numbers here?"
   ]
  },
  {
   "cell_type": "code",
   "execution_count": 10,
   "id": "17d54c7c",
   "metadata": {
    "id": "17d54c7c"
   },
   "outputs": [],
   "source": [
    "n_train = int(0.7 * len(dataset))\n",
    "n_valid = int(0.1 * len(dataset))\n",
    "n_test = len(dataset) - n_train - n_valid\n",
    "\n",
    "train_dataset, valid_dataset, test_dataset = random_split(\n",
    "    dataset, [n_train, n_valid, n_test], generator=torch.Generator().manual_seed(42)\n",
    ")"
   ]
  },
  {
   "cell_type": "markdown",
   "id": "0bf3b633",
   "metadata": {
    "id": "0bf3b633"
   },
   "source": [
    "For each split, we also create a `DataLoader` instance:"
   ]
  },
  {
   "cell_type": "code",
   "execution_count": 11,
   "id": "1544879a",
   "metadata": {
    "id": "1544879a"
   },
   "outputs": [],
   "source": [
    "train_dataloader = DataLoader(train_dataset, batch_size=32, shuffle=True)\n",
    "valid_dataloader = DataLoader(valid_dataset, batch_size=32)\n",
    "test_dataloader = DataLoader(test_dataset, batch_size=32)"
   ]
  },
  {
   "cell_type": "markdown",
   "id": "4ce6c327",
   "metadata": {
    "id": "4ce6c327"
   },
   "source": [
    "## Defining the Neural Network (MLP)\n",
    "Here, we will build a simple **feedforward neural network** (multi-layer perceptron):\n",
    "- Input layer: 1024 (size of the fingerprint)\n",
    "- Hidden layer: 512 neurons, with ReLU activation\n",
    "- Output layer: 1 neuron (predicted pIC50 value)"
   ]
  },
  {
   "cell_type": "markdown",
   "id": "206ddab1",
   "metadata": {
    "id": "206ddab1"
   },
   "source": [
    "To build such a neural network, we need to create a subclass of PyTorch's base class `nn.Module`. In this subclass, we need to define an `__init__` function, but we also overwrite the `forward` function that defines the forward pass."
   ]
  },
  {
   "cell_type": "code",
   "execution_count": 12,
   "id": "37f0baa6",
   "metadata": {
    "id": "37f0baa6"
   },
   "outputs": [],
   "source": [
    "class ActivityNet(nn.Module):\n",
    "    def __init__(self):\n",
    "        super(ActivityNet, self).__init__()\n",
    "        self.fc1 = nn.Linear(1024, 512)\n",
    "        self.fc2 = nn.Linear(512, 1)\n",
    "        self.relu = nn.ReLU()\n",
    "\n",
    "    def forward(self, x):\n",
    "        x = self.relu(self.fc1(x))\n",
    "        x = self.fc2(x)\n",
    "        return x"
   ]
  },
  {
   "cell_type": "markdown",
   "id": "84e8c951",
   "metadata": {
    "id": "84e8c951"
   },
   "source": [
    "## Training\n",
    "To train our MLP, we first create an instance of NN that we train `ActivityNet`. As loss function - on which the gradient is determined -, we will use the MSE. Further, we will use the optimizer `optim.Adam` for the parameter updates."
   ]
  },
  {
   "cell_type": "code",
   "execution_count": 13,
   "id": "c976b000",
   "metadata": {
    "id": "c976b000"
   },
   "outputs": [],
   "source": [
    "model = ActivityNet()\n",
    "criterion = nn.MSELoss()\n",
    "optimizer = optim.Adam(model.parameters(), lr=0.001)"
   ]
  },
  {
   "cell_type": "markdown",
   "id": "fd497599",
   "metadata": {
    "id": "fd497599"
   },
   "source": [
    "We train the model in *mini-batches*, which are small groups of samples defined by the `batch_size` in the DataLoader. This means that in every **training step** we update the model on all `batches` seperatly.\n",
    "\n",
    "Let's define one **training step**:"
   ]
  },
  {
   "cell_type": "code",
   "execution_count": 14,
   "id": "b6a3393d",
   "metadata": {
    "id": "b6a3393d"
   },
   "outputs": [],
   "source": [
    "def train_step(loader):\n",
    "    model.train()\n",
    "    total_loss = 0\n",
    "\n",
    "    # we iterate over all batches\n",
    "    for fingerprints, labels in train_dataloader:\n",
    "\n",
    "        # zero the gradients,\n",
    "        # otherwise the new gradients will be added to the from the last iteration gardients\n",
    "        optimizer.zero_grad()\n",
    "\n",
    "        # forward step\n",
    "        outputs = model(fingerprints)\n",
    "\n",
    "        # empirical loss (sqeeze() to tranform a (N,1) tensor (matrix) to (N,) tensor (vector))\n",
    "        loss = criterion(outputs.squeeze(), labels)\n",
    "\n",
    "        # compute the gradients\n",
    "        loss.backward()\n",
    "\n",
    "        # updates parameters (weights & bias)\n",
    "        optimizer.step()\n",
    "        total_loss += loss.item() * len(labels)\n",
    "\n",
    "    return total_loss / len(loader.dataset)"
   ]
  },
  {
   "cell_type": "markdown",
   "id": "80b42c76",
   "metadata": {
    "id": "80b42c76"
   },
   "source": [
    "After each training step, we test the model on the validation data:"
   ]
  },
  {
   "cell_type": "code",
   "execution_count": 15,
   "id": "294aca59",
   "metadata": {
    "id": "294aca59"
   },
   "outputs": [],
   "source": [
    "def test_step(loader):\n",
    "    model.eval()\n",
    "    valid_loss = 0.0\n",
    "\n",
    "    # do not change the gradients\n",
    "    with torch.no_grad():\n",
    "        for fingerprints, labels in valid_dataloader:\n",
    "            outputs = model(fingerprints)\n",
    "            valid_loss += criterion(outputs.squeeze(), labels).item()\n",
    "    valid_loss /= len(valid_dataloader)\n",
    "    return valid_loss"
   ]
  },
  {
   "cell_type": "markdown",
   "id": "7a7393eb",
   "metadata": {
    "id": "7a7393eb"
   },
   "source": [
    "We are now, ready to train the NN in *epochs*:"
   ]
  },
  {
   "cell_type": "code",
   "execution_count": 16,
   "id": "6e600231",
   "metadata": {
    "id": "6e600231",
    "outputId": "5122a312-7695-4fcd-adfa-20b5e73aa13a",
    "colab": {
     "base_uri": "https://localhost:8080/"
    }
   },
   "outputs": [
    {
     "output_type": "stream",
     "name": "stdout",
     "text": [
      "Epoch: 001, Train Loss: 4.1041, Validation Loss: 1.2175\n",
      "Epoch: 002, Train Loss: 1.0382, Validation Loss: 1.0064\n",
      "Epoch: 003, Train Loss: 0.8297, Validation Loss: 0.8872\n",
      "Epoch: 004, Train Loss: 0.6918, Validation Loss: 0.8461\n",
      "Epoch: 005, Train Loss: 0.5840, Validation Loss: 0.7820\n",
      "Epoch: 006, Train Loss: 0.4925, Validation Loss: 0.7816\n",
      "Epoch: 007, Train Loss: 0.4186, Validation Loss: 0.7099\n",
      "Epoch: 008, Train Loss: 0.3538, Validation Loss: 0.7050\n",
      "Epoch: 009, Train Loss: 0.3060, Validation Loss: 0.7321\n",
      "Epoch: 010, Train Loss: 0.2754, Validation Loss: 0.7121\n",
      "Epoch: 011, Train Loss: 0.2358, Validation Loss: 0.7049\n",
      "Epoch: 012, Train Loss: 0.2134, Validation Loss: 0.7130\n",
      "Epoch: 013, Train Loss: 0.1875, Validation Loss: 0.7136\n",
      "Epoch: 014, Train Loss: 0.1710, Validation Loss: 0.7200\n",
      "Epoch: 015, Train Loss: 0.1646, Validation Loss: 0.7362\n",
      "Epoch: 016, Train Loss: 0.1563, Validation Loss: 0.7681\n",
      "Epoch: 017, Train Loss: 0.1316, Validation Loss: 0.7543\n",
      "Epoch: 018, Train Loss: 0.1138, Validation Loss: 0.7208\n",
      "Epoch: 019, Train Loss: 0.1134, Validation Loss: 0.7195\n",
      "Epoch: 020, Train Loss: 0.1040, Validation Loss: 0.7361\n"
     ]
    }
   ],
   "source": [
    "num_epochs = 20\n",
    "for epoch in range(num_epochs):\n",
    "    train_loss = train_step(train_dataloader)\n",
    "    valid_loss = test_step(valid_dataloader)\n",
    "\n",
    "    print(\n",
    "        f\"Epoch: {epoch + 1:03d}, Train Loss: {train_loss:.4f}, Validation Loss: {valid_loss:.4f}\"\n",
    "    )"
   ]
  },
  {
   "cell_type": "markdown",
   "id": "8080509e",
   "metadata": {
    "id": "8080509e"
   },
   "source": [
    "## Testing"
   ]
  },
  {
   "cell_type": "code",
   "execution_count": 17,
   "id": "c1548d70",
   "metadata": {
    "id": "c1548d70",
    "outputId": "bdc95159-9185-4e33-cd50-c4b590d5dd93",
    "colab": {
     "base_uri": "https://localhost:8080/"
    }
   },
   "outputs": [
    {
     "output_type": "stream",
     "name": "stdout",
     "text": [
      "Test Loss: 0.8276\n"
     ]
    }
   ],
   "source": [
    "model.eval()\n",
    "test_loss = 0.0\n",
    "with torch.no_grad():\n",
    "    for fingerprints, labels in test_dataloader:\n",
    "        outputs = model(fingerprints)\n",
    "        test_loss += criterion(outputs.squeeze(), labels).item()\n",
    "test_loss /= len(test_dataloader)\n",
    "print(f\"Test Loss: {test_loss:.4f}\")"
   ]
  },
  {
   "cell_type": "code",
   "execution_count": 18,
   "id": "21034e48",
   "metadata": {
    "id": "21034e48",
    "outputId": "ca1ca54a-67e5-41b0-e112-c1af98e4f5cf",
    "colab": {
     "base_uri": "https://localhost:8080/",
     "height": 454
    }
   },
   "outputs": [
    {
     "output_type": "display_data",
     "data": {
      "text/plain": [
       "<Figure size 640x480 with 1 Axes>"
      ],
      "image/png": "[encoded data removed]"
     },
     "metadata": {}
    }
   ],
   "source": [
    "with torch.no_grad():\n",
    "    sns.regplot(\n",
    "        x=model(test_dataloader.dataset.dataset.fingerprints).squeeze().tolist(),\n",
    "        y=test_dataloader.dataset.dataset.labels.tolist(),\n",
    "        scatter_kws={\"s\": 10},\n",
    "    )\n",
    "plt.ylabel(\"True value\")\n",
    "plt.xlabel(\"Predicted value\")\n",
    "plt.show()"
   ]
  },
  {
   "cell_type": "markdown",
   "id": "3a2e26c0",
   "metadata": {
    "id": "3a2e26c0"
   },
   "source": [
    "TODO place somewhere: Useful links:\n",
    "* python classes: https://docs.python.org/3/tutorial/classes.html\n",
    "* Dataloader & Dataset: https://docs.pytorch.org/tutorials/beginner/basics/data_tutorial.html\n",
    "* Step by step pythorch tut:\n",
    "* Tensors tut:"
   ]
  },
  {
   "cell_type": "markdown",
   "id": "c7695d2e",
   "metadata": {
    "id": "c7695d2e"
   },
   "source": [
    "## Exercises"
   ]
  },
  {
   "cell_type": "markdown",
   "id": "8245776b",
   "metadata": {
    "id": "8245776b"
   },
   "source": [
    "### Exercise 1"
   ]
  },
  {
   "cell_type": "code",
   "execution_count": 19,
   "id": "8bae74b4",
   "metadata": {
    "id": "8bae74b4"
   },
   "outputs": [],
   "source": [
    "# Create a MLP that has 4 layers: input layer -> hidden layer with 256 neurons and ReLU activation -> hidden layer with  512 neurons and sigmoid activation -> output layer\n",
    "\n",
    "# TODO"
   ]
  },
  {
   "cell_type": "code",
   "execution_count": 20,
   "id": "bed010ce",
   "metadata": {
    "id": "bed010ce"
   },
   "outputs": [],
   "source": [
    "# Train the model using the Adams optimizer and the MSE loss function\n",
    "\n",
    "# TODO"
   ]
  },
  {
   "cell_type": "code",
   "execution_count": 21,
   "id": "0130fa20",
   "metadata": {
    "id": "0130fa20"
   },
   "outputs": [],
   "source": [
    "# Test this model\n",
    "\n",
    "# TODO"
   ]
  },
  {
   "cell_type": "code",
   "execution_count": 22,
   "id": "7829770e",
   "metadata": {
    "id": "7829770e"
   },
   "outputs": [],
   "source": [
    "# Challenge: can you improve the runtime by changeing the number of neurons in the hidden layers?"
   ]
  },
  {
   "cell_type": "markdown",
   "id": "d22de4ee",
   "metadata": {
    "id": "d22de4ee"
   },
   "source": [
    "## Challenge"
   ]
  }
 ],
 "metadata": {
  "kernelspec": {
   "display_name": "py310_caddseminar2024",
   "language": "python",
   "name": "python3"
  },
  "language_info": {
   "name": "python",
   "version": "3.10.16"
  },
  "colab": {
   "provenance": []
  }
 },
 "nbformat": 4,
 "nbformat_minor": 5
}