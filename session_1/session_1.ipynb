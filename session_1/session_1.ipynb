{
 "cells": [
  {
   "cell_type": "markdown",
   "id": "3ccfe730",
   "metadata": {},
   "source": [
    "# Session 1\n",
    "\n",
    "1. Python and Jupyter Notebooks\n",
    "2. Get the data + what is Pandas\n",
    "3. Let\"s clean the data \n",
    "4. Add molecular information + RDKit\n",
    "5. Data exploration"
   ]
  },
  {
   "cell_type": "code",
   "execution_count": 616,
   "id": "3f2f2e1b",
   "metadata": {},
   "outputs": [],
   "source": [
    "import pandas as pd\n",
    "import math\n",
    "from rdkit import Chem\n",
    "from rdkit.Chem import Descriptors, PandasTools, rdMolDescriptors\n",
    "import matplotlib.pyplot as plt\n",
    "import seaborn as sns"
   ]
  },
  {
   "cell_type": "markdown",
   "id": "a4662fd3",
   "metadata": {},
   "source": [
    "## Python and Jupyter Notebooks\n",
    "\n",
    "A **Jupyter notebook** combines executable code, equations, visualizations, and explanatory text into a single interactive document. It is organized into *cells*, which can be of two main types:\n",
    "* Rich-text or Markdown cells (like this cell)\n",
    "* Code cells\n",
    "\n",
    "You can run (execute) each cell individually by pressing `Shift+Enter` or `Ctrl+Enter`. Once a cell has been executed, all variables, functions, and other definitions remain available to both earlier and later cells in the notebook. Thus, you need to be careful with the order in which you execute your cells!"
   ]
  },
  {
   "cell_type": "markdown",
   "id": "379476a8",
   "metadata": {},
   "source": [
    "**Python** is a widely used general-purpose high-level programming language. The term \"high-level\" means that the language has abstracted away most of the technical details and manages them for you (e.g. memory allocation).\n",
    "\n",
    "In this course we will use Python xxx (default in Colab as of xxx)."
   ]
  },
  {
   "cell_type": "markdown",
   "id": "fabfa102",
   "metadata": {},
   "source": [
    "Python programs are built from a few basic elements:\n",
    "* Variables (e.g., `x`, `y`) – store data\n",
    "* Objects (e.g., `0`, `True`, `\"abc\"`) – numbers, boolean, text, lists, etc.\n",
    "* Operators (e.g., `+`, `==`, `=`) – perform calculations, comparisons, or assignments\n",
    "* Control flow – if, for, while for logic and loops\n",
    "* Functions – reusable blocks of code\n",
    "* Modules – libraries that extend functionality"
   ]
  },
  {
   "cell_type": "markdown",
   "id": "98006510",
   "metadata": {},
   "source": [
    "**Variable, objects, and operators:**"
   ]
  },
  {
   "cell_type": "code",
   "execution_count": 673,
   "id": "7aa7a20b",
   "metadata": {},
   "outputs": [
    {
     "name": "stdout",
     "output_type": "stream",
     "text": [
      "x + y = 3\n",
      "b=True\n",
      "hello world\n"
     ]
    }
   ],
   "source": [
    "# assignments\n",
    "x = 1\n",
    "y = 3\n",
    "\n",
    "# multiply and assign\n",
    "z = x * y\n",
    "\n",
    "print(f\"x + y = {z}\")\n",
    "\n",
    "# boolean\n",
    "b = True\n",
    "print(f\"{b=}\")\n",
    "\n",
    "# strings\n",
    "x_str = \"hello\"\n",
    "y_str = \"world\"\n",
    "\n",
    "# plus-operaot on strings\n",
    "s = x_str + \" \" + y_str\n",
    "\n",
    "print(s)"
   ]
  },
  {
   "cell_type": "markdown",
   "id": "3d8bc707",
   "metadata": {},
   "source": [
    "**Lists:**"
   ]
  },
  {
   "cell_type": "code",
   "execution_count": 669,
   "id": "1388d2ee",
   "metadata": {},
   "outputs": [
    {
     "name": "stdout",
     "output_type": "stream",
     "text": [
      "first_element=47, last_element=42.5\n",
      "activities=[47, 150.4, 95.3, 42.5, 107.3]\n"
     ]
    }
   ],
   "source": [
    "# create a list\n",
    "activities = [47, 150.4, 9.2, 42.5]\n",
    "\n",
    "# access a list (zero-indexed)\n",
    "first_element = activities[0]\n",
    "last_element = activities[-1]\n",
    "activities[2] = 95.3\n",
    "\n",
    "print(f\"{first_element=}, {last_element=}\")\n",
    "\n",
    "# append element to list\n",
    "activities.append(107.3)\n",
    "\n",
    "print(f\"{activities=}\")"
   ]
  },
  {
   "cell_type": "markdown",
   "id": "39094cd6",
   "metadata": {},
   "source": [
    "**Controll flows (for-loops and if-then-else):**"
   ]
  },
  {
   "cell_type": "code",
   "execution_count": null,
   "id": "c9edcc8c",
   "metadata": {},
   "outputs": [
    {
     "name": "stdout",
     "output_type": "stream",
     "text": [
      "The mean of [47, 150.4, 95.3, 42.5, 107.3] is 88.5nM\n",
      "Mean activity is below 100nM\n"
     ]
    }
   ],
   "source": [
    "# iterate over list with a for-loop\n",
    "sum = 0\n",
    "for n in activities:\n",
    "    sum += n # short form for (sum = sum + n)\n",
    "    \n",
    "# devide it by the number of activity values (length of list)\n",
    "mean_activity = sum / len(activities)\n",
    "\n",
    "print(f\"The mean of {activities} is {mean_activity}nM\")\n",
    "\n",
    "# conditional execution: if-then-else \n",
    "if mean_activity < 100:\n",
    "    print(f\"Mean activity is below 100nM\")\n",
    "else:\n",
    "    print(f\"Mean activity >= 100nM\")"
   ]
  },
  {
   "cell_type": "markdown",
   "id": "2711ae46",
   "metadata": {},
   "source": [
    "**Functions:**"
   ]
  },
  {
   "cell_type": "code",
   "execution_count": null,
   "id": "9623aa81",
   "metadata": {},
   "outputs": [],
   "source": [
    "# define a function\n",
    "def IC50_to_pIC50(IC50_value: float) -> float:\n",
    "    # pIC50 = - log_10(IC50)\n",
    "    logIC50 = math.log10(IC50_value)\n",
    "    return -logIC50"
   ]
  },
  {
   "cell_type": "code",
   "execution_count": null,
   "id": "b3eacca2",
   "metadata": {},
   "outputs": [
    {
     "name": "stdout",
     "output_type": "stream",
     "text": [
      "IC50 = 71.28nM; pIC50 = -1.853nM\n"
     ]
    }
   ],
   "source": [
    "# execute a function\n",
    "mean_activity_pIC50 = IC50_to_pIC50(mean_activity)\n",
    "\n",
    "print(f\"IC50 = {mean_activity}nM; pIC50 = {mean_activity_pIC50:.3f}nM\")"
   ]
  },
  {
   "cell_type": "markdown",
   "id": "2772cd45",
   "metadata": {},
   "source": [
    "## Get the data + what is Pandas\n",
    "We will work with acticity data of EGFR. Pandas helps to work with datasets. Lets first read data froma CSV file."
   ]
  },
  {
   "cell_type": "markdown",
   "id": "bf16e368",
   "metadata": {},
   "source": [
    "# TODO show how to get info for what we can do with df -> member functions "
   ]
  },
  {
   "cell_type": "code",
   "execution_count": null,
   "id": "f0d26969",
   "metadata": {},
   "outputs": [
    {
     "data": {
      "text/html": [
       "<div>\n",
       "<style scoped>\n",
       "    .dataframe tbody tr th:only-of-type {\n",
       "        vertical-align: middle;\n",
       "    }\n",
       "\n",
       "    .dataframe tbody tr th {\n",
       "        vertical-align: top;\n",
       "    }\n",
       "\n",
       "    .dataframe thead th {\n",
       "        text-align: right;\n",
       "    }\n",
       "</style>\n",
       "<table border=\"1\" class=\"dataframe\">\n",
       "  <thead>\n",
       "    <tr style=\"text-align: right;\">\n",
       "      <th></th>\n",
       "      <th>Unnamed: 0.1</th>\n",
       "      <th>Unnamed: 0</th>\n",
       "      <th>activities.activity_id</th>\n",
       "      <th>assays.chembl_id</th>\n",
       "      <th>target_dictionary.chembl_id</th>\n",
       "      <th>molecule_dictionary.chembl_id</th>\n",
       "      <th>molecule_dictionary.max_phase</th>\n",
       "      <th>activities.standard_type</th>\n",
       "      <th>activities.standard_value</th>\n",
       "      <th>activities.standard_units</th>\n",
       "      <th>compound_structures.canonical_smiles</th>\n",
       "      <th>compound_structures.standard_inchi</th>\n",
       "      <th>component_sequences.sequence</th>\n",
       "      <th>assays.confidence_score</th>\n",
       "      <th>docs.chembl_id</th>\n",
       "      <th>docs.year</th>\n",
       "      <th>docs.authors</th>\n",
       "      <th>UniprotID</th>\n",
       "    </tr>\n",
       "  </thead>\n",
       "  <tbody>\n",
       "    <tr>\n",
       "      <th>0</th>\n",
       "      <td>57</td>\n",
       "      <td>7654</td>\n",
       "      <td>1044894</td>\n",
       "      <td>CHEMBL683040</td>\n",
       "      <td>CHEMBL203</td>\n",
       "      <td>CHEMBL63786</td>\n",
       "      <td>NaN</td>\n",
       "      <td>pIC50</td>\n",
       "      <td>11.522879</td>\n",
       "      <td>nM</td>\n",
       "      <td>Brc1cccc(Nc2ncnc3cc4ccccc4cc23)c1</td>\n",
       "      <td>InChI=1S/C18H12BrN3/c19-14-6-3-7-15(10-14)22-1...</td>\n",
       "      <td>MRPSGTAGAALLALLAALCPASRALEEKKVCQGTSNKLTQLGTFED...</td>\n",
       "      <td>9</td>\n",
       "      <td>CHEMBL1129035</td>\n",
       "      <td>1996.0</td>\n",
       "      <td>Rewcastle GW, Palmer BD, Bridges AJ, Showalter...</td>\n",
       "      <td>P00533</td>\n",
       "    </tr>\n",
       "    <tr>\n",
       "      <th>1</th>\n",
       "      <td>107</td>\n",
       "      <td>1064</td>\n",
       "      <td>191437</td>\n",
       "      <td>CHEMBL677389</td>\n",
       "      <td>CHEMBL203</td>\n",
       "      <td>CHEMBL35820</td>\n",
       "      <td>NaN</td>\n",
       "      <td>pIC50</td>\n",
       "      <td>11.221849</td>\n",
       "      <td>nM</td>\n",
       "      <td>CCOc1cc2ncnc(Nc3cccc(Br)c3)c2cc1OCC</td>\n",
       "      <td>InChI=1S/C18H18BrN3O2/c1-3-23-16-9-14-15(10-17...</td>\n",
       "      <td>MRPSGTAGAALLALLAALCPASRALEEKKVCQGTSNKLTQLGTFED...</td>\n",
       "      <td>8</td>\n",
       "      <td>CHEMBL1130030</td>\n",
       "      <td>1997.0</td>\n",
       "      <td>Palmer BD, Trumpp-Kallmeyer S, Fry DW, Nelson ...</td>\n",
       "      <td>P00533</td>\n",
       "    </tr>\n",
       "    <tr>\n",
       "      <th>2</th>\n",
       "      <td>108</td>\n",
       "      <td>7949</td>\n",
       "      <td>1082447</td>\n",
       "      <td>CHEMBL680021</td>\n",
       "      <td>CHEMBL203</td>\n",
       "      <td>CHEMBL53711</td>\n",
       "      <td>NaN</td>\n",
       "      <td>pIC50</td>\n",
       "      <td>11.221849</td>\n",
       "      <td>nM</td>\n",
       "      <td>CN(C)c1cc2c(Nc3cccc(Br)c3)ncnc2cn1</td>\n",
       "      <td>InChI=1S/C15H14BrN5/c1-21(2)14-7-12-13(8-17-14...</td>\n",
       "      <td>MRPSGTAGAALLALLAALCPASRALEEKKVCQGTSNKLTQLGTFED...</td>\n",
       "      <td>8</td>\n",
       "      <td>CHEMBL1129564</td>\n",
       "      <td>1996.0</td>\n",
       "      <td>Rewcastle GW, Palmer BD, Thompson AM, Bridges ...</td>\n",
       "      <td>P00533</td>\n",
       "    </tr>\n",
       "    <tr>\n",
       "      <th>3</th>\n",
       "      <td>150</td>\n",
       "      <td>2936</td>\n",
       "      <td>428391</td>\n",
       "      <td>CHEMBL679944</td>\n",
       "      <td>CHEMBL203</td>\n",
       "      <td>CHEMBL66031</td>\n",
       "      <td>NaN</td>\n",
       "      <td>pIC50</td>\n",
       "      <td>11.096910</td>\n",
       "      <td>nM</td>\n",
       "      <td>Brc1cccc(Nc2ncnc3cc4[nH]cnc4cc23)c1</td>\n",
       "      <td>InChI=1S/C15H10BrN5/c16-9-2-1-3-10(4-9)21-15-1...</td>\n",
       "      <td>MRPSGTAGAALLALLAALCPASRALEEKKVCQGTSNKLTQLGTFED...</td>\n",
       "      <td>8</td>\n",
       "      <td>CHEMBL1132555</td>\n",
       "      <td>1999.0</td>\n",
       "      <td>Showalter HD, Bridges AJ, Zhou H, Sercel AD, M...</td>\n",
       "      <td>P00533</td>\n",
       "    </tr>\n",
       "    <tr>\n",
       "      <th>4</th>\n",
       "      <td>151</td>\n",
       "      <td>2647</td>\n",
       "      <td>400160</td>\n",
       "      <td>CHEMBL679944</td>\n",
       "      <td>CHEMBL203</td>\n",
       "      <td>CHEMBL53753</td>\n",
       "      <td>NaN</td>\n",
       "      <td>pIC50</td>\n",
       "      <td>11.096910</td>\n",
       "      <td>nM</td>\n",
       "      <td>CNc1cc2c(Nc3cccc(Br)c3)ncnc2cn1</td>\n",
       "      <td>InChI=1S/C14H12BrN5/c1-16-13-6-11-12(7-17-13)1...</td>\n",
       "      <td>MRPSGTAGAALLALLAALCPASRALEEKKVCQGTSNKLTQLGTFED...</td>\n",
       "      <td>8</td>\n",
       "      <td>CHEMBL1132555</td>\n",
       "      <td>1999.0</td>\n",
       "      <td>Showalter HD, Bridges AJ, Zhou H, Sercel AD, M...</td>\n",
       "      <td>P00533</td>\n",
       "    </tr>\n",
       "  </tbody>\n",
       "</table>\n",
       "</div>"
      ],
      "text/plain": [
       "   Unnamed: 0.1  Unnamed: 0  activities.activity_id assays.chembl_id  \\\n",
       "0            57        7654                 1044894     CHEMBL683040   \n",
       "1           107        1064                  191437     CHEMBL677389   \n",
       "2           108        7949                 1082447     CHEMBL680021   \n",
       "3           150        2936                  428391     CHEMBL679944   \n",
       "4           151        2647                  400160     CHEMBL679944   \n",
       "\n",
       "  target_dictionary.chembl_id molecule_dictionary.chembl_id  \\\n",
       "0                   CHEMBL203                   CHEMBL63786   \n",
       "1                   CHEMBL203                   CHEMBL35820   \n",
       "2                   CHEMBL203                   CHEMBL53711   \n",
       "3                   CHEMBL203                   CHEMBL66031   \n",
       "4                   CHEMBL203                   CHEMBL53753   \n",
       "\n",
       "   molecule_dictionary.max_phase activities.standard_type  \\\n",
       "0                            NaN                    pIC50   \n",
       "1                            NaN                    pIC50   \n",
       "2                            NaN                    pIC50   \n",
       "3                            NaN                    pIC50   \n",
       "4                            NaN                    pIC50   \n",
       "\n",
       "   activities.standard_value activities.standard_units  \\\n",
       "0                  11.522879                        nM   \n",
       "1                  11.221849                        nM   \n",
       "2                  11.221849                        nM   \n",
       "3                  11.096910                        nM   \n",
       "4                  11.096910                        nM   \n",
       "\n",
       "  compound_structures.canonical_smiles  \\\n",
       "0    Brc1cccc(Nc2ncnc3cc4ccccc4cc23)c1   \n",
       "1  CCOc1cc2ncnc(Nc3cccc(Br)c3)c2cc1OCC   \n",
       "2   CN(C)c1cc2c(Nc3cccc(Br)c3)ncnc2cn1   \n",
       "3  Brc1cccc(Nc2ncnc3cc4[nH]cnc4cc23)c1   \n",
       "4      CNc1cc2c(Nc3cccc(Br)c3)ncnc2cn1   \n",
       "\n",
       "                  compound_structures.standard_inchi  \\\n",
       "0  InChI=1S/C18H12BrN3/c19-14-6-3-7-15(10-14)22-1...   \n",
       "1  InChI=1S/C18H18BrN3O2/c1-3-23-16-9-14-15(10-17...   \n",
       "2  InChI=1S/C15H14BrN5/c1-21(2)14-7-12-13(8-17-14...   \n",
       "3  InChI=1S/C15H10BrN5/c16-9-2-1-3-10(4-9)21-15-1...   \n",
       "4  InChI=1S/C14H12BrN5/c1-16-13-6-11-12(7-17-13)1...   \n",
       "\n",
       "                        component_sequences.sequence  assays.confidence_score  \\\n",
       "0  MRPSGTAGAALLALLAALCPASRALEEKKVCQGTSNKLTQLGTFED...                        9   \n",
       "1  MRPSGTAGAALLALLAALCPASRALEEKKVCQGTSNKLTQLGTFED...                        8   \n",
       "2  MRPSGTAGAALLALLAALCPASRALEEKKVCQGTSNKLTQLGTFED...                        8   \n",
       "3  MRPSGTAGAALLALLAALCPASRALEEKKVCQGTSNKLTQLGTFED...                        8   \n",
       "4  MRPSGTAGAALLALLAALCPASRALEEKKVCQGTSNKLTQLGTFED...                        8   \n",
       "\n",
       "  docs.chembl_id  docs.year  \\\n",
       "0  CHEMBL1129035     1996.0   \n",
       "1  CHEMBL1130030     1997.0   \n",
       "2  CHEMBL1129564     1996.0   \n",
       "3  CHEMBL1132555     1999.0   \n",
       "4  CHEMBL1132555     1999.0   \n",
       "\n",
       "                                        docs.authors UniprotID  \n",
       "0  Rewcastle GW, Palmer BD, Bridges AJ, Showalter...    P00533  \n",
       "1  Palmer BD, Trumpp-Kallmeyer S, Fry DW, Nelson ...    P00533  \n",
       "2  Rewcastle GW, Palmer BD, Thompson AM, Bridges ...    P00533  \n",
       "3  Showalter HD, Bridges AJ, Zhou H, Sercel AD, M...    P00533  \n",
       "4  Showalter HD, Bridges AJ, Zhou H, Sercel AD, M...    P00533  "
      ]
     },
     "execution_count": 621,
     "metadata": {},
     "output_type": "execute_result"
    }
   ],
   "source": [
    "egfr_df = pd.read_csv(\"../data/EGFR-activities-chembl33.csv\")\n",
    "egfr_df.head()"
   ]
  },
  {
   "cell_type": "code",
   "execution_count": null,
   "id": "ee704421",
   "metadata": {},
   "outputs": [
    {
     "data": {
      "text/plain": [
       "(7287, 18)"
      ]
     },
     "execution_count": 622,
     "metadata": {},
     "output_type": "execute_result"
    }
   ],
   "source": [
    "egfr_df.shape"
   ]
  },
  {
   "cell_type": "code",
   "execution_count": null,
   "id": "91434b3c",
   "metadata": {},
   "outputs": [
    {
     "name": "stdout",
     "output_type": "stream",
     "text": [
      "Index(['Unnamed: 0.1', 'Unnamed: 0', 'activities.activity_id',\n",
      "       'assays.chembl_id', 'target_dictionary.chembl_id',\n",
      "       'molecule_dictionary.chembl_id', 'molecule_dictionary.max_phase',\n",
      "       'activities.standard_type', 'activities.standard_value',\n",
      "       'activities.standard_units', 'compound_structures.canonical_smiles',\n",
      "       'compound_structures.standard_inchi', 'component_sequences.sequence',\n",
      "       'assays.confidence_score', 'docs.chembl_id', 'docs.year',\n",
      "       'docs.authors', 'UniprotID'],\n",
      "      dtype='object')\n"
     ]
    }
   ],
   "source": [
    "print(egfr_df.columns)"
   ]
  },
  {
   "cell_type": "markdown",
   "id": "7f0782e0",
   "metadata": {},
   "source": [
    "We can access columns by their name and rows by the index:"
   ]
  },
  {
   "cell_type": "code",
   "execution_count": null,
   "id": "cf73b468",
   "metadata": {},
   "outputs": [
    {
     "data": {
      "text/plain": [
       "'CHEMBL3357635'"
      ]
     },
     "execution_count": 624,
     "metadata": {},
     "output_type": "execute_result"
    }
   ],
   "source": [
    "egfr_df[\"molecule_dictionary.chembl_id\"][123]"
   ]
  },
  {
   "cell_type": "markdown",
   "id": "269c7878",
   "metadata": {},
   "source": [
    "We can also drop colums we are not interested in:"
   ]
  },
  {
   "cell_type": "markdown",
   "id": "99c8c48c",
   "metadata": {},
   "source": [
    "TODO mention that new df is generated, maybe introduce inplace"
   ]
  },
  {
   "cell_type": "code",
   "execution_count": null,
   "id": "e01d454b",
   "metadata": {},
   "outputs": [
    {
     "data": {
      "text/html": [
       "<div>\n",
       "<style scoped>\n",
       "    .dataframe tbody tr th:only-of-type {\n",
       "        vertical-align: middle;\n",
       "    }\n",
       "\n",
       "    .dataframe tbody tr th {\n",
       "        vertical-align: top;\n",
       "    }\n",
       "\n",
       "    .dataframe thead th {\n",
       "        text-align: right;\n",
       "    }\n",
       "</style>\n",
       "<table border=\"1\" class=\"dataframe\">\n",
       "  <thead>\n",
       "    <tr style=\"text-align: right;\">\n",
       "      <th></th>\n",
       "      <th>activities.activity_id</th>\n",
       "      <th>assays.chembl_id</th>\n",
       "      <th>target_dictionary.chembl_id</th>\n",
       "      <th>molecule_dictionary.chembl_id</th>\n",
       "      <th>molecule_dictionary.max_phase</th>\n",
       "      <th>activities.standard_type</th>\n",
       "      <th>activities.standard_value</th>\n",
       "      <th>activities.standard_units</th>\n",
       "      <th>compound_structures.canonical_smiles</th>\n",
       "      <th>compound_structures.standard_inchi</th>\n",
       "      <th>component_sequences.sequence</th>\n",
       "      <th>assays.confidence_score</th>\n",
       "      <th>docs.chembl_id</th>\n",
       "      <th>docs.year</th>\n",
       "      <th>docs.authors</th>\n",
       "      <th>UniprotID</th>\n",
       "    </tr>\n",
       "  </thead>\n",
       "  <tbody>\n",
       "    <tr>\n",
       "      <th>0</th>\n",
       "      <td>1044894</td>\n",
       "      <td>CHEMBL683040</td>\n",
       "      <td>CHEMBL203</td>\n",
       "      <td>CHEMBL63786</td>\n",
       "      <td>NaN</td>\n",
       "      <td>pIC50</td>\n",
       "      <td>11.522879</td>\n",
       "      <td>nM</td>\n",
       "      <td>Brc1cccc(Nc2ncnc3cc4ccccc4cc23)c1</td>\n",
       "      <td>InChI=1S/C18H12BrN3/c19-14-6-3-7-15(10-14)22-1...</td>\n",
       "      <td>MRPSGTAGAALLALLAALCPASRALEEKKVCQGTSNKLTQLGTFED...</td>\n",
       "      <td>9</td>\n",
       "      <td>CHEMBL1129035</td>\n",
       "      <td>1996.0</td>\n",
       "      <td>Rewcastle GW, Palmer BD, Bridges AJ, Showalter...</td>\n",
       "      <td>P00533</td>\n",
       "    </tr>\n",
       "    <tr>\n",
       "      <th>1</th>\n",
       "      <td>191437</td>\n",
       "      <td>CHEMBL677389</td>\n",
       "      <td>CHEMBL203</td>\n",
       "      <td>CHEMBL35820</td>\n",
       "      <td>NaN</td>\n",
       "      <td>pIC50</td>\n",
       "      <td>11.221849</td>\n",
       "      <td>nM</td>\n",
       "      <td>CCOc1cc2ncnc(Nc3cccc(Br)c3)c2cc1OCC</td>\n",
       "      <td>InChI=1S/C18H18BrN3O2/c1-3-23-16-9-14-15(10-17...</td>\n",
       "      <td>MRPSGTAGAALLALLAALCPASRALEEKKVCQGTSNKLTQLGTFED...</td>\n",
       "      <td>8</td>\n",
       "      <td>CHEMBL1130030</td>\n",
       "      <td>1997.0</td>\n",
       "      <td>Palmer BD, Trumpp-Kallmeyer S, Fry DW, Nelson ...</td>\n",
       "      <td>P00533</td>\n",
       "    </tr>\n",
       "    <tr>\n",
       "      <th>2</th>\n",
       "      <td>1082447</td>\n",
       "      <td>CHEMBL680021</td>\n",
       "      <td>CHEMBL203</td>\n",
       "      <td>CHEMBL53711</td>\n",
       "      <td>NaN</td>\n",
       "      <td>pIC50</td>\n",
       "      <td>11.221849</td>\n",
       "      <td>nM</td>\n",
       "      <td>CN(C)c1cc2c(Nc3cccc(Br)c3)ncnc2cn1</td>\n",
       "      <td>InChI=1S/C15H14BrN5/c1-21(2)14-7-12-13(8-17-14...</td>\n",
       "      <td>MRPSGTAGAALLALLAALCPASRALEEKKVCQGTSNKLTQLGTFED...</td>\n",
       "      <td>8</td>\n",
       "      <td>CHEMBL1129564</td>\n",
       "      <td>1996.0</td>\n",
       "      <td>Rewcastle GW, Palmer BD, Thompson AM, Bridges ...</td>\n",
       "      <td>P00533</td>\n",
       "    </tr>\n",
       "    <tr>\n",
       "      <th>3</th>\n",
       "      <td>428391</td>\n",
       "      <td>CHEMBL679944</td>\n",
       "      <td>CHEMBL203</td>\n",
       "      <td>CHEMBL66031</td>\n",
       "      <td>NaN</td>\n",
       "      <td>pIC50</td>\n",
       "      <td>11.096910</td>\n",
       "      <td>nM</td>\n",
       "      <td>Brc1cccc(Nc2ncnc3cc4[nH]cnc4cc23)c1</td>\n",
       "      <td>InChI=1S/C15H10BrN5/c16-9-2-1-3-10(4-9)21-15-1...</td>\n",
       "      <td>MRPSGTAGAALLALLAALCPASRALEEKKVCQGTSNKLTQLGTFED...</td>\n",
       "      <td>8</td>\n",
       "      <td>CHEMBL1132555</td>\n",
       "      <td>1999.0</td>\n",
       "      <td>Showalter HD, Bridges AJ, Zhou H, Sercel AD, M...</td>\n",
       "      <td>P00533</td>\n",
       "    </tr>\n",
       "    <tr>\n",
       "      <th>4</th>\n",
       "      <td>400160</td>\n",
       "      <td>CHEMBL679944</td>\n",
       "      <td>CHEMBL203</td>\n",
       "      <td>CHEMBL53753</td>\n",
       "      <td>NaN</td>\n",
       "      <td>pIC50</td>\n",
       "      <td>11.096910</td>\n",
       "      <td>nM</td>\n",
       "      <td>CNc1cc2c(Nc3cccc(Br)c3)ncnc2cn1</td>\n",
       "      <td>InChI=1S/C14H12BrN5/c1-16-13-6-11-12(7-17-13)1...</td>\n",
       "      <td>MRPSGTAGAALLALLAALCPASRALEEKKVCQGTSNKLTQLGTFED...</td>\n",
       "      <td>8</td>\n",
       "      <td>CHEMBL1132555</td>\n",
       "      <td>1999.0</td>\n",
       "      <td>Showalter HD, Bridges AJ, Zhou H, Sercel AD, M...</td>\n",
       "      <td>P00533</td>\n",
       "    </tr>\n",
       "  </tbody>\n",
       "</table>\n",
       "</div>"
      ],
      "text/plain": [
       "   activities.activity_id assays.chembl_id target_dictionary.chembl_id  \\\n",
       "0                 1044894     CHEMBL683040                   CHEMBL203   \n",
       "1                  191437     CHEMBL677389                   CHEMBL203   \n",
       "2                 1082447     CHEMBL680021                   CHEMBL203   \n",
       "3                  428391     CHEMBL679944                   CHEMBL203   \n",
       "4                  400160     CHEMBL679944                   CHEMBL203   \n",
       "\n",
       "  molecule_dictionary.chembl_id  molecule_dictionary.max_phase  \\\n",
       "0                   CHEMBL63786                            NaN   \n",
       "1                   CHEMBL35820                            NaN   \n",
       "2                   CHEMBL53711                            NaN   \n",
       "3                   CHEMBL66031                            NaN   \n",
       "4                   CHEMBL53753                            NaN   \n",
       "\n",
       "  activities.standard_type  activities.standard_value  \\\n",
       "0                    pIC50                  11.522879   \n",
       "1                    pIC50                  11.221849   \n",
       "2                    pIC50                  11.221849   \n",
       "3                    pIC50                  11.096910   \n",
       "4                    pIC50                  11.096910   \n",
       "\n",
       "  activities.standard_units compound_structures.canonical_smiles  \\\n",
       "0                        nM    Brc1cccc(Nc2ncnc3cc4ccccc4cc23)c1   \n",
       "1                        nM  CCOc1cc2ncnc(Nc3cccc(Br)c3)c2cc1OCC   \n",
       "2                        nM   CN(C)c1cc2c(Nc3cccc(Br)c3)ncnc2cn1   \n",
       "3                        nM  Brc1cccc(Nc2ncnc3cc4[nH]cnc4cc23)c1   \n",
       "4                        nM      CNc1cc2c(Nc3cccc(Br)c3)ncnc2cn1   \n",
       "\n",
       "                  compound_structures.standard_inchi  \\\n",
       "0  InChI=1S/C18H12BrN3/c19-14-6-3-7-15(10-14)22-1...   \n",
       "1  InChI=1S/C18H18BrN3O2/c1-3-23-16-9-14-15(10-17...   \n",
       "2  InChI=1S/C15H14BrN5/c1-21(2)14-7-12-13(8-17-14...   \n",
       "3  InChI=1S/C15H10BrN5/c16-9-2-1-3-10(4-9)21-15-1...   \n",
       "4  InChI=1S/C14H12BrN5/c1-16-13-6-11-12(7-17-13)1...   \n",
       "\n",
       "                        component_sequences.sequence  assays.confidence_score  \\\n",
       "0  MRPSGTAGAALLALLAALCPASRALEEKKVCQGTSNKLTQLGTFED...                        9   \n",
       "1  MRPSGTAGAALLALLAALCPASRALEEKKVCQGTSNKLTQLGTFED...                        8   \n",
       "2  MRPSGTAGAALLALLAALCPASRALEEKKVCQGTSNKLTQLGTFED...                        8   \n",
       "3  MRPSGTAGAALLALLAALCPASRALEEKKVCQGTSNKLTQLGTFED...                        8   \n",
       "4  MRPSGTAGAALLALLAALCPASRALEEKKVCQGTSNKLTQLGTFED...                        8   \n",
       "\n",
       "  docs.chembl_id  docs.year  \\\n",
       "0  CHEMBL1129035     1996.0   \n",
       "1  CHEMBL1130030     1997.0   \n",
       "2  CHEMBL1129564     1996.0   \n",
       "3  CHEMBL1132555     1999.0   \n",
       "4  CHEMBL1132555     1999.0   \n",
       "\n",
       "                                        docs.authors UniprotID  \n",
       "0  Rewcastle GW, Palmer BD, Bridges AJ, Showalter...    P00533  \n",
       "1  Palmer BD, Trumpp-Kallmeyer S, Fry DW, Nelson ...    P00533  \n",
       "2  Rewcastle GW, Palmer BD, Thompson AM, Bridges ...    P00533  \n",
       "3  Showalter HD, Bridges AJ, Zhou H, Sercel AD, M...    P00533  \n",
       "4  Showalter HD, Bridges AJ, Zhou H, Sercel AD, M...    P00533  "
      ]
     },
     "execution_count": 625,
     "metadata": {},
     "output_type": "execute_result"
    }
   ],
   "source": [
    "egfr_df = egfr_df.drop(columns=['Unnamed: 0.1', 'Unnamed: 0'])\n",
    "egfr_df.head()"
   ]
  },
  {
   "cell_type": "markdown",
   "id": "c4bf461e",
   "metadata": {},
   "source": [
    "Or select those columns, we want to consider:"
   ]
  },
  {
   "cell_type": "code",
   "execution_count": null,
   "id": "d03826f5",
   "metadata": {},
   "outputs": [
    {
     "data": {
      "text/html": [
       "<div>\n",
       "<style scoped>\n",
       "    .dataframe tbody tr th:only-of-type {\n",
       "        vertical-align: middle;\n",
       "    }\n",
       "\n",
       "    .dataframe tbody tr th {\n",
       "        vertical-align: top;\n",
       "    }\n",
       "\n",
       "    .dataframe thead th {\n",
       "        text-align: right;\n",
       "    }\n",
       "</style>\n",
       "<table border=\"1\" class=\"dataframe\">\n",
       "  <thead>\n",
       "    <tr style=\"text-align: right;\">\n",
       "      <th></th>\n",
       "      <th>molecule_dictionary.chembl_id</th>\n",
       "      <th>activities.standard_type</th>\n",
       "      <th>activities.standard_value</th>\n",
       "      <th>activities.standard_units</th>\n",
       "      <th>compound_structures.canonical_smiles</th>\n",
       "    </tr>\n",
       "  </thead>\n",
       "  <tbody>\n",
       "    <tr>\n",
       "      <th>0</th>\n",
       "      <td>CHEMBL63786</td>\n",
       "      <td>pIC50</td>\n",
       "      <td>11.522879</td>\n",
       "      <td>nM</td>\n",
       "      <td>Brc1cccc(Nc2ncnc3cc4ccccc4cc23)c1</td>\n",
       "    </tr>\n",
       "    <tr>\n",
       "      <th>1</th>\n",
       "      <td>CHEMBL35820</td>\n",
       "      <td>pIC50</td>\n",
       "      <td>11.221849</td>\n",
       "      <td>nM</td>\n",
       "      <td>CCOc1cc2ncnc(Nc3cccc(Br)c3)c2cc1OCC</td>\n",
       "    </tr>\n",
       "    <tr>\n",
       "      <th>2</th>\n",
       "      <td>CHEMBL53711</td>\n",
       "      <td>pIC50</td>\n",
       "      <td>11.221849</td>\n",
       "      <td>nM</td>\n",
       "      <td>CN(C)c1cc2c(Nc3cccc(Br)c3)ncnc2cn1</td>\n",
       "    </tr>\n",
       "    <tr>\n",
       "      <th>3</th>\n",
       "      <td>CHEMBL66031</td>\n",
       "      <td>pIC50</td>\n",
       "      <td>11.096910</td>\n",
       "      <td>nM</td>\n",
       "      <td>Brc1cccc(Nc2ncnc3cc4[nH]cnc4cc23)c1</td>\n",
       "    </tr>\n",
       "    <tr>\n",
       "      <th>4</th>\n",
       "      <td>CHEMBL53753</td>\n",
       "      <td>pIC50</td>\n",
       "      <td>11.096910</td>\n",
       "      <td>nM</td>\n",
       "      <td>CNc1cc2c(Nc3cccc(Br)c3)ncnc2cn1</td>\n",
       "    </tr>\n",
       "  </tbody>\n",
       "</table>\n",
       "</div>"
      ],
      "text/plain": [
       "  molecule_dictionary.chembl_id activities.standard_type  \\\n",
       "0                   CHEMBL63786                    pIC50   \n",
       "1                   CHEMBL35820                    pIC50   \n",
       "2                   CHEMBL53711                    pIC50   \n",
       "3                   CHEMBL66031                    pIC50   \n",
       "4                   CHEMBL53753                    pIC50   \n",
       "\n",
       "   activities.standard_value activities.standard_units  \\\n",
       "0                  11.522879                        nM   \n",
       "1                  11.221849                        nM   \n",
       "2                  11.221849                        nM   \n",
       "3                  11.096910                        nM   \n",
       "4                  11.096910                        nM   \n",
       "\n",
       "  compound_structures.canonical_smiles  \n",
       "0    Brc1cccc(Nc2ncnc3cc4ccccc4cc23)c1  \n",
       "1  CCOc1cc2ncnc(Nc3cccc(Br)c3)c2cc1OCC  \n",
       "2   CN(C)c1cc2c(Nc3cccc(Br)c3)ncnc2cn1  \n",
       "3  Brc1cccc(Nc2ncnc3cc4[nH]cnc4cc23)c1  \n",
       "4      CNc1cc2c(Nc3cccc(Br)c3)ncnc2cn1  "
      ]
     },
     "execution_count": 626,
     "metadata": {},
     "output_type": "execute_result"
    }
   ],
   "source": [
    "egfr_activities = egfr_df[[\"molecule_dictionary.chembl_id\", \"activities.standard_type\", \n",
    "                          \"activities.standard_value\", \"activities.standard_units\", \n",
    "                          \"compound_structures.canonical_smiles\"]]\n",
    "egfr_activities.head()"
   ]
  },
  {
   "cell_type": "code",
   "execution_count": null,
   "id": "242805a2",
   "metadata": {},
   "outputs": [
    {
     "data": {
      "text/plain": [
       "(7287, 5)"
      ]
     },
     "execution_count": 627,
     "metadata": {},
     "output_type": "execute_result"
    }
   ],
   "source": [
    "egfr_activities.shape"
   ]
  },
  {
   "cell_type": "markdown",
   "id": "909cb4fe",
   "metadata": {},
   "source": [
    "Lets rename some of the columns:"
   ]
  },
  {
   "cell_type": "code",
   "execution_count": null,
   "id": "dc2e414f",
   "metadata": {},
   "outputs": [
    {
     "data": {
      "text/html": [
       "<div>\n",
       "<style scoped>\n",
       "    .dataframe tbody tr th:only-of-type {\n",
       "        vertical-align: middle;\n",
       "    }\n",
       "\n",
       "    .dataframe tbody tr th {\n",
       "        vertical-align: top;\n",
       "    }\n",
       "\n",
       "    .dataframe thead th {\n",
       "        text-align: right;\n",
       "    }\n",
       "</style>\n",
       "<table border=\"1\" class=\"dataframe\">\n",
       "  <thead>\n",
       "    <tr style=\"text-align: right;\">\n",
       "      <th></th>\n",
       "      <th>molecule_dictionary.chembl_id</th>\n",
       "      <th>standard_type</th>\n",
       "      <th>standard_value</th>\n",
       "      <th>standard_units</th>\n",
       "      <th>canonical_smiles</th>\n",
       "    </tr>\n",
       "  </thead>\n",
       "  <tbody>\n",
       "    <tr>\n",
       "      <th>0</th>\n",
       "      <td>CHEMBL63786</td>\n",
       "      <td>pIC50</td>\n",
       "      <td>11.522879</td>\n",
       "      <td>nM</td>\n",
       "      <td>Brc1cccc(Nc2ncnc3cc4ccccc4cc23)c1</td>\n",
       "    </tr>\n",
       "    <tr>\n",
       "      <th>1</th>\n",
       "      <td>CHEMBL35820</td>\n",
       "      <td>pIC50</td>\n",
       "      <td>11.221849</td>\n",
       "      <td>nM</td>\n",
       "      <td>CCOc1cc2ncnc(Nc3cccc(Br)c3)c2cc1OCC</td>\n",
       "    </tr>\n",
       "    <tr>\n",
       "      <th>2</th>\n",
       "      <td>CHEMBL53711</td>\n",
       "      <td>pIC50</td>\n",
       "      <td>11.221849</td>\n",
       "      <td>nM</td>\n",
       "      <td>CN(C)c1cc2c(Nc3cccc(Br)c3)ncnc2cn1</td>\n",
       "    </tr>\n",
       "    <tr>\n",
       "      <th>3</th>\n",
       "      <td>CHEMBL66031</td>\n",
       "      <td>pIC50</td>\n",
       "      <td>11.096910</td>\n",
       "      <td>nM</td>\n",
       "      <td>Brc1cccc(Nc2ncnc3cc4[nH]cnc4cc23)c1</td>\n",
       "    </tr>\n",
       "    <tr>\n",
       "      <th>4</th>\n",
       "      <td>CHEMBL53753</td>\n",
       "      <td>pIC50</td>\n",
       "      <td>11.096910</td>\n",
       "      <td>nM</td>\n",
       "      <td>CNc1cc2c(Nc3cccc(Br)c3)ncnc2cn1</td>\n",
       "    </tr>\n",
       "    <tr>\n",
       "      <th>...</th>\n",
       "      <td>...</td>\n",
       "      <td>...</td>\n",
       "      <td>...</td>\n",
       "      <td>...</td>\n",
       "      <td>...</td>\n",
       "    </tr>\n",
       "    <tr>\n",
       "      <th>7282</th>\n",
       "      <td>CHEMBL75718</td>\n",
       "      <td>pIC50</td>\n",
       "      <td>2.619789</td>\n",
       "      <td>nM</td>\n",
       "      <td>N#C/C=C/c1ccc(O)cc1</td>\n",
       "    </tr>\n",
       "    <tr>\n",
       "      <th>7283</th>\n",
       "      <td>CHEMBL261238</td>\n",
       "      <td>pIC50</td>\n",
       "      <td>2.301030</td>\n",
       "      <td>nM</td>\n",
       "      <td>CN(c1cccnc1)c1cc2c(Nc3ccc(F)c(Cl)c3)c(C#N)cnc2cn1</td>\n",
       "    </tr>\n",
       "    <tr>\n",
       "      <th>7284</th>\n",
       "      <td>CHEMBL76587</td>\n",
       "      <td>pIC50</td>\n",
       "      <td>2.187087</td>\n",
       "      <td>nM</td>\n",
       "      <td>N#CC(C#N)Cc1ccc(O)cc1</td>\n",
       "    </tr>\n",
       "    <tr>\n",
       "      <th>7285</th>\n",
       "      <td>CHEMBL490510</td>\n",
       "      <td>pIC50</td>\n",
       "      <td>1.721246</td>\n",
       "      <td>nM</td>\n",
       "      <td>O=C(/C=C/c1ccc(O)c(O)c1)c1ccc(O[C@@H]2O[C@H](C...</td>\n",
       "    </tr>\n",
       "    <tr>\n",
       "      <th>7286</th>\n",
       "      <td>CHEMBL45068</td>\n",
       "      <td>pIC50</td>\n",
       "      <td>1.602060</td>\n",
       "      <td>nM</td>\n",
       "      <td>O=C(CCc1ccc(O)cc1)c1c(O)cc(O)cc1O</td>\n",
       "    </tr>\n",
       "  </tbody>\n",
       "</table>\n",
       "<p>7287 rows × 5 columns</p>\n",
       "</div>"
      ],
      "text/plain": [
       "     molecule_dictionary.chembl_id standard_type  standard_value  \\\n",
       "0                      CHEMBL63786         pIC50       11.522879   \n",
       "1                      CHEMBL35820         pIC50       11.221849   \n",
       "2                      CHEMBL53711         pIC50       11.221849   \n",
       "3                      CHEMBL66031         pIC50       11.096910   \n",
       "4                      CHEMBL53753         pIC50       11.096910   \n",
       "...                            ...           ...             ...   \n",
       "7282                   CHEMBL75718         pIC50        2.619789   \n",
       "7283                  CHEMBL261238         pIC50        2.301030   \n",
       "7284                   CHEMBL76587         pIC50        2.187087   \n",
       "7285                  CHEMBL490510         pIC50        1.721246   \n",
       "7286                   CHEMBL45068         pIC50        1.602060   \n",
       "\n",
       "     standard_units                                   canonical_smiles  \n",
       "0                nM                  Brc1cccc(Nc2ncnc3cc4ccccc4cc23)c1  \n",
       "1                nM                CCOc1cc2ncnc(Nc3cccc(Br)c3)c2cc1OCC  \n",
       "2                nM                 CN(C)c1cc2c(Nc3cccc(Br)c3)ncnc2cn1  \n",
       "3                nM                Brc1cccc(Nc2ncnc3cc4[nH]cnc4cc23)c1  \n",
       "4                nM                    CNc1cc2c(Nc3cccc(Br)c3)ncnc2cn1  \n",
       "...             ...                                                ...  \n",
       "7282             nM                                N#C/C=C/c1ccc(O)cc1  \n",
       "7283             nM  CN(c1cccnc1)c1cc2c(Nc3ccc(F)c(Cl)c3)c(C#N)cnc2cn1  \n",
       "7284             nM                              N#CC(C#N)Cc1ccc(O)cc1  \n",
       "7285             nM  O=C(/C=C/c1ccc(O)c(O)c1)c1ccc(O[C@@H]2O[C@H](C...  \n",
       "7286             nM                  O=C(CCc1ccc(O)cc1)c1c(O)cc(O)cc1O  \n",
       "\n",
       "[7287 rows x 5 columns]"
      ]
     },
     "execution_count": 628,
     "metadata": {},
     "output_type": "execute_result"
    }
   ],
   "source": [
    "egfr_activities = egfr_activities.rename(columns={\"activities.standard_type\": \"standard_type\", \n",
    "                                \"activities.standard_value\": \"standard_value\", \"activities.standard_units\" : \"standard_units\",\n",
    "                                \"compound_structures.canonical_smiles\": \"canonical_smiles\"\n",
    "                                })\n",
    "egfr_activities"
   ]
  },
  {
   "cell_type": "code",
   "execution_count": null,
   "id": "4af31696",
   "metadata": {},
   "outputs": [
    {
     "data": {
      "text/plain": [
       "molecule_dictionary.chembl_id     object\n",
       "standard_type                     object\n",
       "standard_value                   float64\n",
       "standard_units                    object\n",
       "canonical_smiles                  object\n",
       "dtype: object"
      ]
     },
     "execution_count": 629,
     "metadata": {},
     "output_type": "execute_result"
    }
   ],
   "source": [
    "egfr_activities.dtypes"
   ]
  },
  {
   "cell_type": "markdown",
   "id": "51364cd0",
   "metadata": {},
   "source": [
    "## Lets clean the data\n",
    "1. Missing values\n",
    "2. Standard values\n",
    "3. Duplicates"
   ]
  },
  {
   "cell_type": "markdown",
   "id": "5e89da52",
   "metadata": {},
   "source": [
    "### Missing values"
   ]
  },
  {
   "cell_type": "code",
   "execution_count": null,
   "id": "8911f9c8",
   "metadata": {},
   "outputs": [
    {
     "name": "stdout",
     "output_type": "stream",
     "text": [
      "Entries with missing smiles: 7\n"
     ]
    }
   ],
   "source": [
    "print(f\"Entries with missing smiles: {egfr_activities['canonical_smiles'].isna().sum()}\")"
   ]
  },
  {
   "cell_type": "markdown",
   "id": "10d28a72",
   "metadata": {},
   "source": [
    "As these are only very few samples, we will simply remove the ones with missing SMILES."
   ]
  },
  {
   "cell_type": "code",
   "execution_count": null,
   "id": "58d7a485",
   "metadata": {},
   "outputs": [
    {
     "data": {
      "text/plain": [
       "(7280, 5)"
      ]
     },
     "execution_count": 631,
     "metadata": {},
     "output_type": "execute_result"
    }
   ],
   "source": [
    "egfr_activities = egfr_activities.dropna(subset=\"canonical_smiles\")\n",
    "egfr_activities.shape"
   ]
  },
  {
   "cell_type": "code",
   "execution_count": null,
   "id": "d16e4302",
   "metadata": {},
   "outputs": [
    {
     "name": "stdout",
     "output_type": "stream",
     "text": [
      "Entries with missing standard value: 0\n"
     ]
    }
   ],
   "source": [
    "print(f\"Entries with missing standard value: {egfr_activities['standard_value'].isna().sum()}\")"
   ]
  },
  {
   "cell_type": "markdown",
   "id": "e67615f3",
   "metadata": {},
   "source": [
    "### Standard value"
   ]
  },
  {
   "cell_type": "code",
   "execution_count": null,
   "id": "b21f1eed",
   "metadata": {},
   "outputs": [
    {
     "data": {
      "text/plain": [
       "standard_type\n",
       "pIC50    6896\n",
       "pKi       254\n",
       "pKd       130\n",
       "Name: count, dtype: int64"
      ]
     },
     "execution_count": 633,
     "metadata": {},
     "output_type": "execute_result"
    }
   ],
   "source": [
    "egfr_activities[\"standard_type\"].value_counts()"
   ]
  },
  {
   "cell_type": "markdown",
   "id": "1e69030c",
   "metadata": {},
   "source": [
    "The standard values have different types. Without convertion - for which we need more information (i.e. substrate concentration and Michaelis constant; see Cheng-Cruchoff) - they are not really comparable. Thus, we will here only consider the pIC50."
   ]
  },
  {
   "cell_type": "code",
   "execution_count": null,
   "id": "fdf2a67a",
   "metadata": {},
   "outputs": [
    {
     "data": {
      "text/plain": [
       "(6896, 5)"
      ]
     },
     "execution_count": 634,
     "metadata": {},
     "output_type": "execute_result"
    }
   ],
   "source": [
    "egfr_activities = egfr_activities[egfr_activities[\"standard_type\"] == \"pIC50\"]\n",
    "egfr_activities.shape"
   ]
  },
  {
   "cell_type": "markdown",
   "id": "f6551447",
   "metadata": {},
   "source": [
    "We can drop the standard_type and rename the standard_value column:"
   ]
  },
  {
   "cell_type": "code",
   "execution_count": null,
   "id": "f68c4d31",
   "metadata": {},
   "outputs": [
    {
     "data": {
      "text/html": [
       "<div>\n",
       "<style scoped>\n",
       "    .dataframe tbody tr th:only-of-type {\n",
       "        vertical-align: middle;\n",
       "    }\n",
       "\n",
       "    .dataframe tbody tr th {\n",
       "        vertical-align: top;\n",
       "    }\n",
       "\n",
       "    .dataframe thead th {\n",
       "        text-align: right;\n",
       "    }\n",
       "</style>\n",
       "<table border=\"1\" class=\"dataframe\">\n",
       "  <thead>\n",
       "    <tr style=\"text-align: right;\">\n",
       "      <th></th>\n",
       "      <th>molecule_dictionary.chembl_id</th>\n",
       "      <th>pIC50</th>\n",
       "      <th>standard_units</th>\n",
       "      <th>canonical_smiles</th>\n",
       "    </tr>\n",
       "  </thead>\n",
       "  <tbody>\n",
       "    <tr>\n",
       "      <th>0</th>\n",
       "      <td>CHEMBL63786</td>\n",
       "      <td>11.522879</td>\n",
       "      <td>nM</td>\n",
       "      <td>Brc1cccc(Nc2ncnc3cc4ccccc4cc23)c1</td>\n",
       "    </tr>\n",
       "    <tr>\n",
       "      <th>1</th>\n",
       "      <td>CHEMBL35820</td>\n",
       "      <td>11.221849</td>\n",
       "      <td>nM</td>\n",
       "      <td>CCOc1cc2ncnc(Nc3cccc(Br)c3)c2cc1OCC</td>\n",
       "    </tr>\n",
       "    <tr>\n",
       "      <th>2</th>\n",
       "      <td>CHEMBL53711</td>\n",
       "      <td>11.221849</td>\n",
       "      <td>nM</td>\n",
       "      <td>CN(C)c1cc2c(Nc3cccc(Br)c3)ncnc2cn1</td>\n",
       "    </tr>\n",
       "    <tr>\n",
       "      <th>3</th>\n",
       "      <td>CHEMBL66031</td>\n",
       "      <td>11.096910</td>\n",
       "      <td>nM</td>\n",
       "      <td>Brc1cccc(Nc2ncnc3cc4[nH]cnc4cc23)c1</td>\n",
       "    </tr>\n",
       "    <tr>\n",
       "      <th>4</th>\n",
       "      <td>CHEMBL53753</td>\n",
       "      <td>11.096910</td>\n",
       "      <td>nM</td>\n",
       "      <td>CNc1cc2c(Nc3cccc(Br)c3)ncnc2cn1</td>\n",
       "    </tr>\n",
       "  </tbody>\n",
       "</table>\n",
       "</div>"
      ],
      "text/plain": [
       "  molecule_dictionary.chembl_id      pIC50 standard_units  \\\n",
       "0                   CHEMBL63786  11.522879             nM   \n",
       "1                   CHEMBL35820  11.221849             nM   \n",
       "2                   CHEMBL53711  11.221849             nM   \n",
       "3                   CHEMBL66031  11.096910             nM   \n",
       "4                   CHEMBL53753  11.096910             nM   \n",
       "\n",
       "                      canonical_smiles  \n",
       "0    Brc1cccc(Nc2ncnc3cc4ccccc4cc23)c1  \n",
       "1  CCOc1cc2ncnc(Nc3cccc(Br)c3)c2cc1OCC  \n",
       "2   CN(C)c1cc2c(Nc3cccc(Br)c3)ncnc2cn1  \n",
       "3  Brc1cccc(Nc2ncnc3cc4[nH]cnc4cc23)c1  \n",
       "4      CNc1cc2c(Nc3cccc(Br)c3)ncnc2cn1  "
      ]
     },
     "execution_count": 635,
     "metadata": {},
     "output_type": "execute_result"
    }
   ],
   "source": [
    "egfr_activities = egfr_activities.rename(columns={\"standard_value\": \"pIC50\"})\n",
    "egfr_activities =  egfr_activities.drop(columns=[\"standard_type\"])\n",
    "egfr_activities.head()"
   ]
  },
  {
   "cell_type": "markdown",
   "id": "8b9acf84",
   "metadata": {},
   "source": [
    "Let\"s also check whether all have the same unit:"
   ]
  },
  {
   "cell_type": "code",
   "execution_count": null,
   "id": "c41db171",
   "metadata": {},
   "outputs": [
    {
     "name": "stdout",
     "output_type": "stream",
     "text": [
      "Unique units: ['nM']\n"
     ]
    }
   ],
   "source": [
    "print(f\"Unique units: {egfr_activities['standard_units'].unique()}\")"
   ]
  },
  {
   "cell_type": "markdown",
   "id": "b25b2e35",
   "metadata": {},
   "source": [
    "### Duplicates"
   ]
  },
  {
   "cell_type": "code",
   "execution_count": null,
   "id": "da15c054",
   "metadata": {},
   "outputs": [
    {
     "name": "stdout",
     "output_type": "stream",
     "text": [
      "Number of duplicates: 198\n"
     ]
    }
   ],
   "source": [
    "print(f\"Number of duplicates: {egfr_activities['molecule_dictionary.chembl_id'].duplicated().sum()}\")"
   ]
  },
  {
   "cell_type": "markdown",
   "id": "7552a610",
   "metadata": {},
   "source": [
    "There are different approaches, how to deal with duplicates, e.g. simply drop them, use the mean value, ....\n",
    "\n",
    "Here, we will use the mean pIC50 for duplicates:"
   ]
  },
  {
   "cell_type": "code",
   "execution_count": null,
   "id": "306ad9a8",
   "metadata": {},
   "outputs": [
    {
     "data": {
      "text/html": [
       "<div>\n",
       "<style scoped>\n",
       "    .dataframe tbody tr th:only-of-type {\n",
       "        vertical-align: middle;\n",
       "    }\n",
       "\n",
       "    .dataframe tbody tr th {\n",
       "        vertical-align: top;\n",
       "    }\n",
       "\n",
       "    .dataframe thead th {\n",
       "        text-align: right;\n",
       "    }\n",
       "</style>\n",
       "<table border=\"1\" class=\"dataframe\">\n",
       "  <thead>\n",
       "    <tr style=\"text-align: right;\">\n",
       "      <th></th>\n",
       "      <th>molecule_dictionary.chembl_id</th>\n",
       "      <th>canonical_smiles</th>\n",
       "      <th>pIC50</th>\n",
       "      <th>standard_units</th>\n",
       "    </tr>\n",
       "  </thead>\n",
       "  <tbody>\n",
       "    <tr>\n",
       "      <th>0</th>\n",
       "      <td>CHEMBL101253</td>\n",
       "      <td>Clc1ccc(Nc2nnc(Cc3ccncc3)c3ccccc23)cc1</td>\n",
       "      <td>6.339419</td>\n",
       "      <td>nM</td>\n",
       "    </tr>\n",
       "    <tr>\n",
       "      <th>1</th>\n",
       "      <td>CHEMBL1016</td>\n",
       "      <td>CCOc1nc2cccc(C(=O)O)c2n1Cc1ccc(-c2ccccc2-c2nnn...</td>\n",
       "      <td>5.484537</td>\n",
       "      <td>nM</td>\n",
       "    </tr>\n",
       "    <tr>\n",
       "      <th>2</th>\n",
       "      <td>CHEMBL101683</td>\n",
       "      <td>O=C(Nc1ccc(Cl)cc1)c1ccccc1NCc1ccncc1</td>\n",
       "      <td>5.136677</td>\n",
       "      <td>nM</td>\n",
       "    </tr>\n",
       "    <tr>\n",
       "      <th>3</th>\n",
       "      <td>CHEMBL102726</td>\n",
       "      <td>c1ccc(CNc2ncnc3ccccc23)cc1</td>\n",
       "      <td>6.494850</td>\n",
       "      <td>nM</td>\n",
       "    </tr>\n",
       "    <tr>\n",
       "      <th>4</th>\n",
       "      <td>CHEMBL103552</td>\n",
       "      <td>O=C(O)c1cc(N(Cc2ccccc2O)Cc2cc(O)ccc2O)ccc1O</td>\n",
       "      <td>5.387216</td>\n",
       "      <td>nM</td>\n",
       "    </tr>\n",
       "  </tbody>\n",
       "</table>\n",
       "</div>"
      ],
      "text/plain": [
       "  molecule_dictionary.chembl_id  \\\n",
       "0                  CHEMBL101253   \n",
       "1                    CHEMBL1016   \n",
       "2                  CHEMBL101683   \n",
       "3                  CHEMBL102726   \n",
       "4                  CHEMBL103552   \n",
       "\n",
       "                                    canonical_smiles     pIC50 standard_units  \n",
       "0             Clc1ccc(Nc2nnc(Cc3ccncc3)c3ccccc23)cc1  6.339419             nM  \n",
       "1  CCOc1nc2cccc(C(=O)O)c2n1Cc1ccc(-c2ccccc2-c2nnn...  5.484537             nM  \n",
       "2               O=C(Nc1ccc(Cl)cc1)c1ccccc1NCc1ccncc1  5.136677             nM  \n",
       "3                         c1ccc(CNc2ncnc3ccccc23)cc1  6.494850             nM  \n",
       "4        O=C(O)c1cc(N(Cc2ccccc2O)Cc2cc(O)ccc2O)ccc1O  5.387216             nM  "
      ]
     },
     "execution_count": 638,
     "metadata": {},
     "output_type": "execute_result"
    }
   ],
   "source": [
    "egfr_activities_deduplicated = egfr_activities.groupby(\"molecule_dictionary.chembl_id\", as_index=False).agg(\n",
    "    {\"molecule_dictionary.chembl_id\": \"first\",\n",
    "        \"canonical_smiles\": \"first\", \"pIC50\": \"mean\",\n",
    "        \"standard_units\": \"first\"\n",
    "        })\n",
    "egfr_activities_deduplicated.head()"
   ]
  },
  {
   "cell_type": "markdown",
   "id": "d090782d",
   "metadata": {},
   "source": [
    "# TODO check (for us) no dupl. smiles"
   ]
  },
  {
   "cell_type": "markdown",
   "id": "6d6ea5b3",
   "metadata": {},
   "source": [
    "## Add molecular information + RDKit\n",
    "RDKit is a powerfull library to handle molecules, we will use this to calculate different molecular properies of our EGFR ligand. "
   ]
  },
  {
   "cell_type": "markdown",
   "id": "a3e94ce4",
   "metadata": {},
   "source": [
    "### RDKit Intro\n",
    "\n",
    "In RDKit, we can generate RDKit molecule instances from their SMILES:"
   ]
  },
  {
   "cell_type": "code",
   "execution_count": 639,
   "id": "617fddbe",
   "metadata": {},
   "outputs": [
    {
     "data": {
      "image/png": "[encoded data removed]",
      "text/plain": [
       "<rdkit.Chem.rdchem.Mol at 0x1951fb680>"
      ]
     },
     "execution_count": 639,
     "metadata": {},
     "output_type": "execute_result"
    }
   ],
   "source": [
    "smiles_caffeine = \"CN1C=NC2=C1C(=O)N(C(=O)N2C)C\"\n",
    "caffeine = Chem.MolFromSmiles(smiles_caffeine)\n",
    "caffeine"
   ]
  },
  {
   "cell_type": "markdown",
   "id": "d7db3025",
   "metadata": {},
   "source": [
    "We can also caluclate different physiochemical properties of the molcule:"
   ]
  },
  {
   "cell_type": "code",
   "execution_count": 640,
   "id": "db1c6419",
   "metadata": {},
   "outputs": [
    {
     "name": "stdout",
     "output_type": "stream",
     "text": [
      "MolWt: 194.194\n",
      "logP: -1.0293\n",
      "Num HBA: 6\n",
      "Num HBD: 0\n"
     ]
    }
   ],
   "source": [
    "print(f\"MolWt: {Descriptors.MolWt(caffeine)}\")\n",
    "print(f\"logP: {Descriptors.MolLogP(caffeine)}\")\n",
    "print(f\"Num HBA: {rdMolDescriptors.CalcNumHBA(caffeine)}\")\n",
    "print(f\"Num HBD: {rdMolDescriptors.CalcNumHBD(caffeine)}\")"
   ]
  },
  {
   "cell_type": "markdown",
   "id": "d4e7f3cf",
   "metadata": {},
   "source": [
    "### Molecular propeties to EGFR data"
   ]
  },
  {
   "cell_type": "code",
   "execution_count": null,
   "id": "2bccc700",
   "metadata": {},
   "outputs": [
    {
     "data": {
      "text/html": [
       "<div>\n",
       "<style scoped>\n",
       "    .dataframe tbody tr th:only-of-type {\n",
       "        vertical-align: middle;\n",
       "    }\n",
       "\n",
       "    .dataframe tbody tr th {\n",
       "        vertical-align: top;\n",
       "    }\n",
       "\n",
       "    .dataframe thead th {\n",
       "        text-align: right;\n",
       "    }\n",
       "</style>\n",
       "<table border=\"1\" class=\"dataframe\">\n",
       "  <thead>\n",
       "    <tr style=\"text-align: right;\">\n",
       "      <th></th>\n",
       "      <th>molecule_dictionary.chembl_id</th>\n",
       "      <th>canonical_smiles</th>\n",
       "      <th>pIC50</th>\n",
       "      <th>standard_units</th>\n",
       "      <th>ROMol</th>\n",
       "    </tr>\n",
       "  </thead>\n",
       "  <tbody>\n",
       "    <tr>\n",
       "      <th>0</th>\n",
       "      <td>CHEMBL101253</td>\n",
       "      <td>Clc1ccc(Nc2nnc(Cc3ccncc3)c3ccccc23)cc1</td>\n",
       "      <td>6.339419</td>\n",
       "      <td>nM</td>\n",
       "      <td>&lt;rdkit.Chem.rdchem.Mol object at 0x1951fba00&gt;</td>\n",
       "    </tr>\n",
       "    <tr>\n",
       "      <th>1</th>\n",
       "      <td>CHEMBL1016</td>\n",
       "      <td>CCOc1nc2cccc(C(=O)O)c2n1Cc1ccc(-c2ccccc2-c2nnn...</td>\n",
       "      <td>5.484537</td>\n",
       "      <td>nM</td>\n",
       "      <td>&lt;rdkit.Chem.rdchem.Mol object at 0x1953b80b0&gt;</td>\n",
       "    </tr>\n",
       "    <tr>\n",
       "      <th>2</th>\n",
       "      <td>CHEMBL101683</td>\n",
       "      <td>O=C(Nc1ccc(Cl)cc1)c1ccccc1NCc1ccncc1</td>\n",
       "      <td>5.136677</td>\n",
       "      <td>nM</td>\n",
       "      <td>&lt;rdkit.Chem.rdchem.Mol object at 0x1953b8120&gt;</td>\n",
       "    </tr>\n",
       "    <tr>\n",
       "      <th>3</th>\n",
       "      <td>CHEMBL102726</td>\n",
       "      <td>c1ccc(CNc2ncnc3ccccc23)cc1</td>\n",
       "      <td>6.494850</td>\n",
       "      <td>nM</td>\n",
       "      <td>&lt;rdkit.Chem.rdchem.Mol object at 0x1953b8200&gt;</td>\n",
       "    </tr>\n",
       "    <tr>\n",
       "      <th>4</th>\n",
       "      <td>CHEMBL103552</td>\n",
       "      <td>O=C(O)c1cc(N(Cc2ccccc2O)Cc2cc(O)ccc2O)ccc1O</td>\n",
       "      <td>5.387216</td>\n",
       "      <td>nM</td>\n",
       "      <td>&lt;rdkit.Chem.rdchem.Mol object at 0x1953b8270&gt;</td>\n",
       "    </tr>\n",
       "  </tbody>\n",
       "</table>\n",
       "</div>"
      ],
      "text/plain": [
       "  molecule_dictionary.chembl_id  \\\n",
       "0                  CHEMBL101253   \n",
       "1                    CHEMBL1016   \n",
       "2                  CHEMBL101683   \n",
       "3                  CHEMBL102726   \n",
       "4                  CHEMBL103552   \n",
       "\n",
       "                                    canonical_smiles     pIC50 standard_units  \\\n",
       "0             Clc1ccc(Nc2nnc(Cc3ccncc3)c3ccccc23)cc1  6.339419             nM   \n",
       "1  CCOc1nc2cccc(C(=O)O)c2n1Cc1ccc(-c2ccccc2-c2nnn...  5.484537             nM   \n",
       "2               O=C(Nc1ccc(Cl)cc1)c1ccccc1NCc1ccncc1  5.136677             nM   \n",
       "3                         c1ccc(CNc2ncnc3ccccc23)cc1  6.494850             nM   \n",
       "4        O=C(O)c1cc(N(Cc2ccccc2O)Cc2cc(O)ccc2O)ccc1O  5.387216             nM   \n",
       "\n",
       "                                           ROMol  \n",
       "0  <rdkit.Chem.rdchem.Mol object at 0x1951fba00>  \n",
       "1  <rdkit.Chem.rdchem.Mol object at 0x1953b80b0>  \n",
       "2  <rdkit.Chem.rdchem.Mol object at 0x1953b8120>  \n",
       "3  <rdkit.Chem.rdchem.Mol object at 0x1953b8200>  \n",
       "4  <rdkit.Chem.rdchem.Mol object at 0x1953b8270>  "
      ]
     },
     "execution_count": 641,
     "metadata": {},
     "output_type": "execute_result"
    }
   ],
   "source": [
    "PandasTools.AddMoleculeColumnToFrame(egfr_activities_deduplicated, \"canonical_smiles\")\n",
    "egfr_activities_deduplicated.head()"
   ]
  },
  {
   "cell_type": "code",
   "execution_count": null,
   "id": "0278cf46",
   "metadata": {},
   "outputs": [
    {
     "data": {
      "text/html": [
       "<div>\n",
       "<style scoped>\n",
       "    .dataframe tbody tr th:only-of-type {\n",
       "        vertical-align: middle;\n",
       "    }\n",
       "\n",
       "    .dataframe tbody tr th {\n",
       "        vertical-align: top;\n",
       "    }\n",
       "\n",
       "    .dataframe thead th {\n",
       "        text-align: right;\n",
       "    }\n",
       "</style>\n",
       "<table border=\"1\" class=\"dataframe\">\n",
       "  <thead>\n",
       "    <tr style=\"text-align: right;\">\n",
       "      <th></th>\n",
       "      <th>molecule_dictionary.chembl_id</th>\n",
       "      <th>canonical_smiles</th>\n",
       "      <th>pIC50</th>\n",
       "      <th>standard_units</th>\n",
       "      <th>ROMol</th>\n",
       "      <th>mol_weight</th>\n",
       "    </tr>\n",
       "  </thead>\n",
       "  <tbody>\n",
       "    <tr>\n",
       "      <th>0</th>\n",
       "      <td>CHEMBL101253</td>\n",
       "      <td>Clc1ccc(Nc2nnc(Cc3ccncc3)c3ccccc23)cc1</td>\n",
       "      <td>6.339419</td>\n",
       "      <td>nM</td>\n",
       "      <td>&lt;rdkit.Chem.rdchem.Mol object at 0x1951fba00&gt;</td>\n",
       "      <td>346.821</td>\n",
       "    </tr>\n",
       "    <tr>\n",
       "      <th>1</th>\n",
       "      <td>CHEMBL1016</td>\n",
       "      <td>CCOc1nc2cccc(C(=O)O)c2n1Cc1ccc(-c2ccccc2-c2nnn...</td>\n",
       "      <td>5.484537</td>\n",
       "      <td>nM</td>\n",
       "      <td>&lt;rdkit.Chem.rdchem.Mol object at 0x1953b80b0&gt;</td>\n",
       "      <td>440.463</td>\n",
       "    </tr>\n",
       "    <tr>\n",
       "      <th>2</th>\n",
       "      <td>CHEMBL101683</td>\n",
       "      <td>O=C(Nc1ccc(Cl)cc1)c1ccccc1NCc1ccncc1</td>\n",
       "      <td>5.136677</td>\n",
       "      <td>nM</td>\n",
       "      <td>&lt;rdkit.Chem.rdchem.Mol object at 0x1953b8120&gt;</td>\n",
       "      <td>337.810</td>\n",
       "    </tr>\n",
       "    <tr>\n",
       "      <th>3</th>\n",
       "      <td>CHEMBL102726</td>\n",
       "      <td>c1ccc(CNc2ncnc3ccccc23)cc1</td>\n",
       "      <td>6.494850</td>\n",
       "      <td>nM</td>\n",
       "      <td>&lt;rdkit.Chem.rdchem.Mol object at 0x1953b8200&gt;</td>\n",
       "      <td>235.290</td>\n",
       "    </tr>\n",
       "    <tr>\n",
       "      <th>4</th>\n",
       "      <td>CHEMBL103552</td>\n",
       "      <td>O=C(O)c1cc(N(Cc2ccccc2O)Cc2cc(O)ccc2O)ccc1O</td>\n",
       "      <td>5.387216</td>\n",
       "      <td>nM</td>\n",
       "      <td>&lt;rdkit.Chem.rdchem.Mol object at 0x1953b8270&gt;</td>\n",
       "      <td>381.384</td>\n",
       "    </tr>\n",
       "  </tbody>\n",
       "</table>\n",
       "</div>"
      ],
      "text/plain": [
       "  molecule_dictionary.chembl_id  \\\n",
       "0                  CHEMBL101253   \n",
       "1                    CHEMBL1016   \n",
       "2                  CHEMBL101683   \n",
       "3                  CHEMBL102726   \n",
       "4                  CHEMBL103552   \n",
       "\n",
       "                                    canonical_smiles     pIC50 standard_units  \\\n",
       "0             Clc1ccc(Nc2nnc(Cc3ccncc3)c3ccccc23)cc1  6.339419             nM   \n",
       "1  CCOc1nc2cccc(C(=O)O)c2n1Cc1ccc(-c2ccccc2-c2nnn...  5.484537             nM   \n",
       "2               O=C(Nc1ccc(Cl)cc1)c1ccccc1NCc1ccncc1  5.136677             nM   \n",
       "3                         c1ccc(CNc2ncnc3ccccc23)cc1  6.494850             nM   \n",
       "4        O=C(O)c1cc(N(Cc2ccccc2O)Cc2cc(O)ccc2O)ccc1O  5.387216             nM   \n",
       "\n",
       "                                           ROMol  mol_weight  \n",
       "0  <rdkit.Chem.rdchem.Mol object at 0x1951fba00>     346.821  \n",
       "1  <rdkit.Chem.rdchem.Mol object at 0x1953b80b0>     440.463  \n",
       "2  <rdkit.Chem.rdchem.Mol object at 0x1953b8120>     337.810  \n",
       "3  <rdkit.Chem.rdchem.Mol object at 0x1953b8200>     235.290  \n",
       "4  <rdkit.Chem.rdchem.Mol object at 0x1953b8270>     381.384  "
      ]
     },
     "execution_count": 642,
     "metadata": {},
     "output_type": "execute_result"
    }
   ],
   "source": [
    "egfr_activities_deduplicated[\"mol_weight\"] = egfr_activities_deduplicated[\"ROMol\"].apply(Descriptors.MolWt)\n",
    "egfr_activities_deduplicated.head()"
   ]
  },
  {
   "cell_type": "code",
   "execution_count": null,
   "id": "608316c2",
   "metadata": {},
   "outputs": [
    {
     "data": {
      "text/html": [
       "<div>\n",
       "<style scoped>\n",
       "    .dataframe tbody tr th:only-of-type {\n",
       "        vertical-align: middle;\n",
       "    }\n",
       "\n",
       "    .dataframe tbody tr th {\n",
       "        vertical-align: top;\n",
       "    }\n",
       "\n",
       "    .dataframe thead th {\n",
       "        text-align: right;\n",
       "    }\n",
       "</style>\n",
       "<table border=\"1\" class=\"dataframe\">\n",
       "  <thead>\n",
       "    <tr style=\"text-align: right;\">\n",
       "      <th></th>\n",
       "      <th>molecule_dictionary.chembl_id</th>\n",
       "      <th>canonical_smiles</th>\n",
       "      <th>pIC50</th>\n",
       "      <th>standard_units</th>\n",
       "      <th>ROMol</th>\n",
       "      <th>mol_weight</th>\n",
       "      <th>logP</th>\n",
       "    </tr>\n",
       "  </thead>\n",
       "  <tbody>\n",
       "    <tr>\n",
       "      <th>0</th>\n",
       "      <td>CHEMBL101253</td>\n",
       "      <td>Clc1ccc(Nc2nnc(Cc3ccncc3)c3ccccc23)cc1</td>\n",
       "      <td>6.339419</td>\n",
       "      <td>nM</td>\n",
       "      <td>&lt;rdkit.Chem.rdchem.Mol object at 0x1951fba00&gt;</td>\n",
       "      <td>346.821</td>\n",
       "      <td>5.0126</td>\n",
       "    </tr>\n",
       "    <tr>\n",
       "      <th>1</th>\n",
       "      <td>CHEMBL1016</td>\n",
       "      <td>CCOc1nc2cccc(C(=O)O)c2n1Cc1ccc(-c2ccccc2-c2nnn...</td>\n",
       "      <td>5.484537</td>\n",
       "      <td>nM</td>\n",
       "      <td>&lt;rdkit.Chem.rdchem.Mol object at 0x1953b80b0&gt;</td>\n",
       "      <td>440.463</td>\n",
       "      <td>4.0286</td>\n",
       "    </tr>\n",
       "    <tr>\n",
       "      <th>2</th>\n",
       "      <td>CHEMBL101683</td>\n",
       "      <td>O=C(Nc1ccc(Cl)cc1)c1ccccc1NCc1ccncc1</td>\n",
       "      <td>5.136677</td>\n",
       "      <td>nM</td>\n",
       "      <td>&lt;rdkit.Chem.rdchem.Mol object at 0x1953b8120&gt;</td>\n",
       "      <td>337.810</td>\n",
       "      <td>4.5994</td>\n",
       "    </tr>\n",
       "    <tr>\n",
       "      <th>3</th>\n",
       "      <td>CHEMBL102726</td>\n",
       "      <td>c1ccc(CNc2ncnc3ccccc23)cc1</td>\n",
       "      <td>6.494850</td>\n",
       "      <td>nM</td>\n",
       "      <td>&lt;rdkit.Chem.rdchem.Mol object at 0x1953b8200&gt;</td>\n",
       "      <td>235.290</td>\n",
       "      <td>3.2419</td>\n",
       "    </tr>\n",
       "    <tr>\n",
       "      <th>4</th>\n",
       "      <td>CHEMBL103552</td>\n",
       "      <td>O=C(O)c1cc(N(Cc2ccccc2O)Cc2cc(O)ccc2O)ccc1O</td>\n",
       "      <td>5.387216</td>\n",
       "      <td>nM</td>\n",
       "      <td>&lt;rdkit.Chem.rdchem.Mol object at 0x1953b8270&gt;</td>\n",
       "      <td>381.384</td>\n",
       "      <td>3.4140</td>\n",
       "    </tr>\n",
       "  </tbody>\n",
       "</table>\n",
       "</div>"
      ],
      "text/plain": [
       "  molecule_dictionary.chembl_id  \\\n",
       "0                  CHEMBL101253   \n",
       "1                    CHEMBL1016   \n",
       "2                  CHEMBL101683   \n",
       "3                  CHEMBL102726   \n",
       "4                  CHEMBL103552   \n",
       "\n",
       "                                    canonical_smiles     pIC50 standard_units  \\\n",
       "0             Clc1ccc(Nc2nnc(Cc3ccncc3)c3ccccc23)cc1  6.339419             nM   \n",
       "1  CCOc1nc2cccc(C(=O)O)c2n1Cc1ccc(-c2ccccc2-c2nnn...  5.484537             nM   \n",
       "2               O=C(Nc1ccc(Cl)cc1)c1ccccc1NCc1ccncc1  5.136677             nM   \n",
       "3                         c1ccc(CNc2ncnc3ccccc23)cc1  6.494850             nM   \n",
       "4        O=C(O)c1cc(N(Cc2ccccc2O)Cc2cc(O)ccc2O)ccc1O  5.387216             nM   \n",
       "\n",
       "                                           ROMol  mol_weight    logP  \n",
       "0  <rdkit.Chem.rdchem.Mol object at 0x1951fba00>     346.821  5.0126  \n",
       "1  <rdkit.Chem.rdchem.Mol object at 0x1953b80b0>     440.463  4.0286  \n",
       "2  <rdkit.Chem.rdchem.Mol object at 0x1953b8120>     337.810  4.5994  \n",
       "3  <rdkit.Chem.rdchem.Mol object at 0x1953b8200>     235.290  3.2419  \n",
       "4  <rdkit.Chem.rdchem.Mol object at 0x1953b8270>     381.384  3.4140  "
      ]
     },
     "execution_count": 643,
     "metadata": {},
     "output_type": "execute_result"
    }
   ],
   "source": [
    "egfr_activities_deduplicated[\"logP\"] = egfr_activities_deduplicated[\"ROMol\"].apply(Descriptors.MolLogP)\n",
    "egfr_activities_deduplicated.head()"
   ]
  },
  {
   "cell_type": "markdown",
   "id": "45c0e9a5",
   "metadata": {},
   "source": [
    "Let's safe the prepared dataset in a CSV file:"
   ]
  },
  {
   "cell_type": "code",
   "execution_count": null,
   "id": "63f482f1",
   "metadata": {},
   "outputs": [],
   "source": [
    "egfr_activities_deduplicated.to_csv(\"../data/EGFR-activities-chembl33-prepared.csv\")"
   ]
  },
  {
   "cell_type": "markdown",
   "id": "6b11c768",
   "metadata": {},
   "source": [
    "## Data exploration and visualization"
   ]
  },
  {
   "cell_type": "code",
   "execution_count": null,
   "id": "3f2004ee",
   "metadata": {},
   "outputs": [
    {
     "data": {
      "text/html": [
       "<div>\n",
       "<style scoped>\n",
       "    .dataframe tbody tr th:only-of-type {\n",
       "        vertical-align: middle;\n",
       "    }\n",
       "\n",
       "    .dataframe tbody tr th {\n",
       "        vertical-align: top;\n",
       "    }\n",
       "\n",
       "    .dataframe thead th {\n",
       "        text-align: right;\n",
       "    }\n",
       "</style>\n",
       "<table border=\"1\" class=\"dataframe\">\n",
       "  <thead>\n",
       "    <tr style=\"text-align: right;\">\n",
       "      <th></th>\n",
       "      <th>pIC50</th>\n",
       "      <th>mol_weight</th>\n",
       "      <th>logP</th>\n",
       "    </tr>\n",
       "  </thead>\n",
       "  <tbody>\n",
       "    <tr>\n",
       "      <th>count</th>\n",
       "      <td>6698.000000</td>\n",
       "      <td>6698.000000</td>\n",
       "      <td>6698.000000</td>\n",
       "    </tr>\n",
       "    <tr>\n",
       "      <th>mean</th>\n",
       "      <td>6.876000</td>\n",
       "      <td>456.787818</td>\n",
       "      <td>4.449014</td>\n",
       "    </tr>\n",
       "    <tr>\n",
       "      <th>std</th>\n",
       "      <td>1.443117</td>\n",
       "      <td>114.490567</td>\n",
       "      <td>1.410899</td>\n",
       "    </tr>\n",
       "    <tr>\n",
       "      <th>min</th>\n",
       "      <td>1.602060</td>\n",
       "      <td>110.112000</td>\n",
       "      <td>-10.326100</td>\n",
       "    </tr>\n",
       "    <tr>\n",
       "      <th>25%</th>\n",
       "      <td>5.795880</td>\n",
       "      <td>377.245000</td>\n",
       "      <td>3.590700</td>\n",
       "    </tr>\n",
       "    <tr>\n",
       "      <th>50%</th>\n",
       "      <td>6.967988</td>\n",
       "      <td>456.143000</td>\n",
       "      <td>4.422390</td>\n",
       "    </tr>\n",
       "    <tr>\n",
       "      <th>75%</th>\n",
       "      <td>8.000000</td>\n",
       "      <td>529.645000</td>\n",
       "      <td>5.299345</td>\n",
       "    </tr>\n",
       "    <tr>\n",
       "      <th>max</th>\n",
       "      <td>11.522879</td>\n",
       "      <td>2296.971000</td>\n",
       "      <td>13.028900</td>\n",
       "    </tr>\n",
       "  </tbody>\n",
       "</table>\n",
       "</div>"
      ],
      "text/plain": [
       "             pIC50   mol_weight         logP\n",
       "count  6698.000000  6698.000000  6698.000000\n",
       "mean      6.876000   456.787818     4.449014\n",
       "std       1.443117   114.490567     1.410899\n",
       "min       1.602060   110.112000   -10.326100\n",
       "25%       5.795880   377.245000     3.590700\n",
       "50%       6.967988   456.143000     4.422390\n",
       "75%       8.000000   529.645000     5.299345\n",
       "max      11.522879  2296.971000    13.028900"
      ]
     },
     "execution_count": 645,
     "metadata": {},
     "output_type": "execute_result"
    }
   ],
   "source": [
    "egfr_activities_deduplicated.describe()"
   ]
  },
  {
   "cell_type": "markdown",
   "id": "9c61646e",
   "metadata": {},
   "source": [
    "Let's plot the distribution of pIC50 values:"
   ]
  },
  {
   "cell_type": "code",
   "execution_count": null,
   "id": "b5f3d2df",
   "metadata": {},
   "outputs": [
    {
     "data": {
      "image/png": "[encoded data removed]",
      "text/plain": [
       "<Figure size 640x480 with 1 Axes>"
      ]
     },
     "metadata": {},
     "output_type": "display_data"
    }
   ],
   "source": [
    "sns.histplot(egfr_activities[\"pIC50\"])\n",
    "plt.show()"
   ]
  },
  {
   "cell_type": "markdown",
   "id": "95e6978f",
   "metadata": {},
   "source": [
    "What do we see here?"
   ]
  },
  {
   "cell_type": "markdown",
   "id": "f4174c46",
   "metadata": {},
   "source": [
    "Let's also inspect, how our moleules look like in terms of molecular properties:"
   ]
  },
  {
   "cell_type": "code",
   "execution_count": null,
   "id": "c92069ae",
   "metadata": {},
   "outputs": [
    {
     "data": {
      "text/plain": [
       "<Axes: >"
      ]
     },
     "execution_count": 647,
     "metadata": {},
     "output_type": "execute_result"
    },
    {
     "data": {
      "image/png": "[encoded data removed]",
      "text/plain": [
       "<Figure size 640x480 with 1 Axes>"
      ]
     },
     "metadata": {},
     "output_type": "display_data"
    }
   ],
   "source": [
    "egfr_activities_deduplicated[\"mol_weight\"].hist()"
   ]
  },
  {
   "cell_type": "code",
   "execution_count": null,
   "id": "5f2e8765",
   "metadata": {},
   "outputs": [
    {
     "name": "stdout",
     "output_type": "stream",
     "text": [
      "Molecules with molecular weight <= 500 Da: 4397 (65.6%)\n"
     ]
    }
   ],
   "source": [
    "num_small_molecules = (egfr_activities_deduplicated['mol_weight'] <= 500).sum()\n",
    "percent_small_molecules = 100 * num_small_molecules / len(egfr_activities_deduplicated)\n",
    "print(f\"Molecules with molecular weight <= 500 Da: {num_small_molecules} ({percent_small_molecules:.1f}%)\")"
   ]
  },
  {
   "cell_type": "markdown",
   "id": "516b8e8c",
   "metadata": {},
   "source": [
    "We can also look at pairwise relationships of all variables:"
   ]
  },
  {
   "cell_type": "code",
   "execution_count": null,
   "id": "21710496",
   "metadata": {},
   "outputs": [
    {
     "data": {
      "image/png": "[encoded data removed]",
      "text/plain": [
       "<Figure size 750x750 with 12 Axes>"
      ]
     },
     "metadata": {},
     "output_type": "display_data"
    }
   ],
   "source": [
    "sns.pairplot(egfr_activities_deduplicated[[\"mol_weight\", \"logP\", \"pIC50\"]])\n",
    "plt.show()"
   ]
  },
  {
   "cell_type": "markdown",
   "id": "6cac341e",
   "metadata": {},
   "source": [
    "# Fingerprints ? e.g. morgan"
   ]
  },
  {
   "cell_type": "code",
   "execution_count": null,
   "id": "7bc1dfc0",
   "metadata": {},
   "outputs": [
    {
     "data": {
      "text/html": [
       "<div>\n",
       "<style scoped>\n",
       "    .dataframe tbody tr th:only-of-type {\n",
       "        vertical-align: middle;\n",
       "    }\n",
       "\n",
       "    .dataframe tbody tr th {\n",
       "        vertical-align: top;\n",
       "    }\n",
       "\n",
       "    .dataframe thead th {\n",
       "        text-align: right;\n",
       "    }\n",
       "</style>\n",
       "<table border=\"1\" class=\"dataframe\">\n",
       "  <thead>\n",
       "    <tr style=\"text-align: right;\">\n",
       "      <th></th>\n",
       "      <th>molecule_dictionary.chembl_id</th>\n",
       "      <th>canonical_smiles</th>\n",
       "      <th>pIC50</th>\n",
       "      <th>standard_units</th>\n",
       "      <th>ROMol</th>\n",
       "      <th>mol_weight</th>\n",
       "      <th>logP</th>\n",
       "      <th>morgan_fp</th>\n",
       "    </tr>\n",
       "  </thead>\n",
       "  <tbody>\n",
       "    <tr>\n",
       "      <th>0</th>\n",
       "      <td>CHEMBL101253</td>\n",
       "      <td>Clc1ccc(Nc2nnc(Cc3ccncc3)c3ccccc23)cc1</td>\n",
       "      <td>6.339419</td>\n",
       "      <td>nM</td>\n",
       "      <td>&lt;rdkit.Chem.rdchem.Mol object at 0x1951fba00&gt;</td>\n",
       "      <td>346.821</td>\n",
       "      <td>5.0126</td>\n",
       "      <td>[0, 0, 0, 0, 0, 0, 0, 0, 0, 0, 0, 0, 0, 0, 0, ...</td>\n",
       "    </tr>\n",
       "    <tr>\n",
       "      <th>1</th>\n",
       "      <td>CHEMBL1016</td>\n",
       "      <td>CCOc1nc2cccc(C(=O)O)c2n1Cc1ccc(-c2ccccc2-c2nnn...</td>\n",
       "      <td>5.484537</td>\n",
       "      <td>nM</td>\n",
       "      <td>&lt;rdkit.Chem.rdchem.Mol object at 0x1953b80b0&gt;</td>\n",
       "      <td>440.463</td>\n",
       "      <td>4.0286</td>\n",
       "      <td>[0, 0, 0, 0, 0, 0, 0, 0, 0, 0, 0, 0, 0, 0, 0, ...</td>\n",
       "    </tr>\n",
       "    <tr>\n",
       "      <th>2</th>\n",
       "      <td>CHEMBL101683</td>\n",
       "      <td>O=C(Nc1ccc(Cl)cc1)c1ccccc1NCc1ccncc1</td>\n",
       "      <td>5.136677</td>\n",
       "      <td>nM</td>\n",
       "      <td>&lt;rdkit.Chem.rdchem.Mol object at 0x1953b8120&gt;</td>\n",
       "      <td>337.810</td>\n",
       "      <td>4.5994</td>\n",
       "      <td>[0, 0, 0, 0, 0, 0, 0, 0, 0, 0, 0, 0, 0, 0, 0, ...</td>\n",
       "    </tr>\n",
       "    <tr>\n",
       "      <th>3</th>\n",
       "      <td>CHEMBL102726</td>\n",
       "      <td>c1ccc(CNc2ncnc3ccccc23)cc1</td>\n",
       "      <td>6.494850</td>\n",
       "      <td>nM</td>\n",
       "      <td>&lt;rdkit.Chem.rdchem.Mol object at 0x1953b8200&gt;</td>\n",
       "      <td>235.290</td>\n",
       "      <td>3.2419</td>\n",
       "      <td>[0, 0, 0, 0, 0, 0, 0, 0, 0, 0, 0, 0, 0, 0, 0, ...</td>\n",
       "    </tr>\n",
       "    <tr>\n",
       "      <th>4</th>\n",
       "      <td>CHEMBL103552</td>\n",
       "      <td>O=C(O)c1cc(N(Cc2ccccc2O)Cc2cc(O)ccc2O)ccc1O</td>\n",
       "      <td>5.387216</td>\n",
       "      <td>nM</td>\n",
       "      <td>&lt;rdkit.Chem.rdchem.Mol object at 0x1953b8270&gt;</td>\n",
       "      <td>381.384</td>\n",
       "      <td>3.4140</td>\n",
       "      <td>[0, 0, 0, 0, 0, 0, 0, 0, 0, 0, 0, 0, 0, 0, 0, ...</td>\n",
       "    </tr>\n",
       "  </tbody>\n",
       "</table>\n",
       "</div>"
      ],
      "text/plain": [
       "  molecule_dictionary.chembl_id  \\\n",
       "0                  CHEMBL101253   \n",
       "1                    CHEMBL1016   \n",
       "2                  CHEMBL101683   \n",
       "3                  CHEMBL102726   \n",
       "4                  CHEMBL103552   \n",
       "\n",
       "                                    canonical_smiles     pIC50 standard_units  \\\n",
       "0             Clc1ccc(Nc2nnc(Cc3ccncc3)c3ccccc23)cc1  6.339419             nM   \n",
       "1  CCOc1nc2cccc(C(=O)O)c2n1Cc1ccc(-c2ccccc2-c2nnn...  5.484537             nM   \n",
       "2               O=C(Nc1ccc(Cl)cc1)c1ccccc1NCc1ccncc1  5.136677             nM   \n",
       "3                         c1ccc(CNc2ncnc3ccccc23)cc1  6.494850             nM   \n",
       "4        O=C(O)c1cc(N(Cc2ccccc2O)Cc2cc(O)ccc2O)ccc1O  5.387216             nM   \n",
       "\n",
       "                                           ROMol  mol_weight    logP  \\\n",
       "0  <rdkit.Chem.rdchem.Mol object at 0x1951fba00>     346.821  5.0126   \n",
       "1  <rdkit.Chem.rdchem.Mol object at 0x1953b80b0>     440.463  4.0286   \n",
       "2  <rdkit.Chem.rdchem.Mol object at 0x1953b8120>     337.810  4.5994   \n",
       "3  <rdkit.Chem.rdchem.Mol object at 0x1953b8200>     235.290  3.2419   \n",
       "4  <rdkit.Chem.rdchem.Mol object at 0x1953b8270>     381.384  3.4140   \n",
       "\n",
       "                                           morgan_fp  \n",
       "0  [0, 0, 0, 0, 0, 0, 0, 0, 0, 0, 0, 0, 0, 0, 0, ...  \n",
       "1  [0, 0, 0, 0, 0, 0, 0, 0, 0, 0, 0, 0, 0, 0, 0, ...  \n",
       "2  [0, 0, 0, 0, 0, 0, 0, 0, 0, 0, 0, 0, 0, 0, 0, ...  \n",
       "3  [0, 0, 0, 0, 0, 0, 0, 0, 0, 0, 0, 0, 0, 0, 0, ...  \n",
       "4  [0, 0, 0, 0, 0, 0, 0, 0, 0, 0, 0, 0, 0, 0, 0, ...  "
      ]
     },
     "execution_count": 659,
     "metadata": {},
     "output_type": "execute_result"
    }
   ],
   "source": [
    "from rdkit.Chem import AllChem\n",
    "fpgen = AllChem.GetMorganGenerator(radius=2, fpSize=1024) # default radius 3\n",
    "\n",
    "egfr_activities_deduplicated['morgan_fp'] = egfr_activities_deduplicated['ROMol'].apply(fpgen.GetFingerprint)\n",
    "egfr_activities_deduplicated['morgan_fp'] = egfr_activities_deduplicated['morgan_fp'].apply(list)\n",
    "egfr_activities_deduplicated.head()"
   ]
  },
  {
   "cell_type": "code",
   "execution_count": null,
   "id": "c12d99d4",
   "metadata": {},
   "outputs": [],
   "source": [
    "egfr_activities_deduplicated.to_csv(\"../data/EGFR-activities-prepared.csv\", columns=['pIC50', \n",
    "                                                                                     'standard_units', \n",
    "                                                                                     'molecule_dictionary.chembl_id', \n",
    "                                                                                     'canonical_smiles'])"
   ]
  },
  {
   "cell_type": "markdown",
   "id": "e1336593",
   "metadata": {},
   "source": []
  },
  {
   "cell_type": "markdown",
   "id": "513afac2",
   "metadata": {},
   "source": [
    "# Tanimoto similarity between 2"
   ]
  },
  {
   "cell_type": "markdown",
   "id": "af5f324e",
   "metadata": {},
   "source": [
    "## Exercises"
   ]
  },
  {
   "cell_type": "markdown",
   "id": "3b590b98",
   "metadata": {},
   "source": [
    "### Exercise 1"
   ]
  },
  {
   "cell_type": "code",
   "execution_count": 652,
   "id": "aa81768b",
   "metadata": {},
   "outputs": [],
   "source": [
    "# Complete the function that converts the pIC50 to IC50\n",
    "def pIC50_to_IC50(pIC50_value: float) -> float:\n",
    "    # TODO\n",
    "    return None"
   ]
  },
  {
   "cell_type": "code",
   "execution_count": 653,
   "id": "3a696250",
   "metadata": {},
   "outputs": [],
   "source": [
    "# Use the function to add a IC50 column to the deduplicated egfr dataframe\n",
    "\n",
    "# TODO"
   ]
  },
  {
   "cell_type": "code",
   "execution_count": 654,
   "id": "1e7ce1b3",
   "metadata": {},
   "outputs": [],
   "source": [
    "# Plot the distributions of IC50 values\n",
    "\n",
    "# TODO\n",
    "\n",
    "# Would you prefer IC50 or pIC50 values for visualization? Why?"
   ]
  },
  {
   "cell_type": "markdown",
   "id": "52e8d05f",
   "metadata": {},
   "source": [
    "### Exercise 2"
   ]
  },
  {
   "cell_type": "code",
   "execution_count": 655,
   "id": "7360cd03",
   "metadata": {},
   "outputs": [],
   "source": [
    "# Add the following molecular property descriptors to the deduplicated egfr dataframe: number of HBD, HBA, RB\n",
    "\n",
    "# TODO"
   ]
  },
  {
   "cell_type": "code",
   "execution_count": 656,
   "id": "c68c8e8a",
   "metadata": {},
   "outputs": [],
   "source": [
    "# Complete this function that determines how many of the four Ro5 are fulfilles:\n",
    "\n",
    "def num_ro5(mol_weight, num_HBA, num_HBD, logP) -> int:\n",
    "    # TODO\n",
    "    return None"
   ]
  },
  {
   "cell_type": "code",
   "execution_count": 657,
   "id": "a1e643ed",
   "metadata": {},
   "outputs": [],
   "source": [
    "# Add a column to the dataframe that states how many Ro5 rules are fulfilled\n",
    "\n",
    "# TODO"
   ]
  },
  {
   "cell_type": "code",
   "execution_count": 658,
   "id": "501bba2d",
   "metadata": {},
   "outputs": [],
   "source": [
    "# Determine how many ligands fulfill all four Ro5\n",
    "\n",
    "# TODO"
   ]
  },
  {
   "cell_type": "markdown",
   "id": "9033299e",
   "metadata": {},
   "source": []
  },
  {
   "cell_type": "markdown",
   "id": "c4d1545a",
   "metadata": {},
   "source": [
    "# TODO Expert exercise"
   ]
  },
  {
   "cell_type": "markdown",
   "id": "803b7aaf",
   "metadata": {},
   "source": [
    "E.g. given molecule -> calc tanimoto similarity, sort, determine x most similar onces"
   ]
  }
 ],
 "metadata": {
  "kernelspec": {
   "display_name": "py310_caddseminar2024",
   "language": "python",
   "name": "python3"
  },
  "language_info": {
   "codemirror_mode": {
    "name": "ipython",
    "version": 3
   },
   "file_extension": ".py",
   "mimetype": "text/x-python",
   "name": "python",
   "nbconvert_exporter": "python",
   "pygments_lexer": "ipython3",
   "version": "3.10.16"
  }
 },
 "nbformat": 4,
 "nbformat_minor": 5
}
