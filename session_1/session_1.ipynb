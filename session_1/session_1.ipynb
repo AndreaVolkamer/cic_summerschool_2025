{
 "cells": [
  {
   "cell_type": "markdown",
   "id": "3ccfe730",
   "metadata": {},
   "source": [
    "# Session 1"
   ]
  },
  {
   "cell_type": "code",
   "execution_count": null,
   "id": "3f2f2e1b",
   "metadata": {},
   "outputs": [],
   "source": [
    "import pandas as pd"
   ]
  }
 ],
 "metadata": {
  "kernelspec": {
   "display_name": "py310_caddseminar2024",
   "language": "python",
   "name": "python3"
  },
  "language_info": {
   "name": "python",
   "version": "3.10.16"
  }
 },
 "nbformat": 4,
 "nbformat_minor": 5
}
