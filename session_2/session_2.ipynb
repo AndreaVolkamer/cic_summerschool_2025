{
 "cells": [
  {
   "cell_type": "markdown",
   "id": "1dc87530",
   "metadata": {},
   "source": [
    "# Session 2"
   ]
  }
 ],
 "metadata": {
  "language_info": {
   "name": "python"
  }
 },
 "nbformat": 4,
 "nbformat_minor": 5
}
