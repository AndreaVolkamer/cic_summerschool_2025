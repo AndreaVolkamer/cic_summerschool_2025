{
 "cells": [
  {
   "cell_type": "markdown",
   "id": "1dc87530",
   "metadata": {},
   "source": [
    "# Session 2\n",
    "In this session, we will use the prepared dataset of EGFR activity data from Session to train ML models that predict the pIC50 value of a given molecule. \n",
    "\n",
    "**Content:**\n",
    "1. Featuration\n",
    "2. Training a random forest (RF)\n",
    "    1. Data splitting\n",
    "    2. Training\n",
    "    3. Assessment\n",
    "3. A bit about data splitting\n",
    "4. Model comparision"
   ]
  },
  {
   "cell_type": "code",
   "execution_count": 11,
   "id": "e46eef19",
   "metadata": {},
   "outputs": [],
   "source": [
    "import pandas as pd\n",
    "import numpy as np\n",
    "from rdkit import Chem\n",
    "from rdkit.Chem import AllChem, Draw\n",
    "from sklearn.model_selection import train_test_split\n",
    "from sklearn.linear_model import Ridge\n",
    "from sklearn.ensemble import RandomForestRegressor\n",
    "from sklearn.metrics import mean_squared_error, r2_score\n",
    "from sklearn.model_selection import cross_validate\n",
    "from sklearn.model_selection import KFold\n",
    "import statistics\n",
    "from sklearn.model_selection import cross_val_score\n",
    "import matplotlib.pyplot as plt\n",
    "import seaborn as sns\n"
   ]
  },
  {
   "cell_type": "markdown",
   "id": "01361472",
   "metadata": {},
   "source": [
    "First, we reload the prepared data from Session 1 into a DataFrame:"
   ]
  },
  {
   "cell_type": "code",
   "execution_count": 12,
   "id": "c6666be5",
   "metadata": {},
   "outputs": [
    {
     "data": {
      "text/html": [
       "<div>\n",
       "<style scoped>\n",
       "    .dataframe tbody tr th:only-of-type {\n",
       "        vertical-align: middle;\n",
       "    }\n",
       "\n",
       "    .dataframe tbody tr th {\n",
       "        vertical-align: top;\n",
       "    }\n",
       "\n",
       "    .dataframe thead th {\n",
       "        text-align: right;\n",
       "    }\n",
       "</style>\n",
       "<table border=\"1\" class=\"dataframe\">\n",
       "  <thead>\n",
       "    <tr style=\"text-align: right;\">\n",
       "      <th></th>\n",
       "      <th>pIC50</th>\n",
       "      <th>standard_units</th>\n",
       "      <th>molecule_dictionary.chembl_id</th>\n",
       "      <th>canonical_smiles</th>\n",
       "    </tr>\n",
       "  </thead>\n",
       "  <tbody>\n",
       "    <tr>\n",
       "      <th>0</th>\n",
       "      <td>6.339419</td>\n",
       "      <td>nM</td>\n",
       "      <td>CHEMBL101253</td>\n",
       "      <td>Clc1ccc(Nc2nnc(Cc3ccncc3)c3ccccc23)cc1</td>\n",
       "    </tr>\n",
       "    <tr>\n",
       "      <th>1</th>\n",
       "      <td>5.484537</td>\n",
       "      <td>nM</td>\n",
       "      <td>CHEMBL1016</td>\n",
       "      <td>CCOc1nc2cccc(C(=O)O)c2n1Cc1ccc(-c2ccccc2-c2nnn...</td>\n",
       "    </tr>\n",
       "    <tr>\n",
       "      <th>2</th>\n",
       "      <td>5.136677</td>\n",
       "      <td>nM</td>\n",
       "      <td>CHEMBL101683</td>\n",
       "      <td>O=C(Nc1ccc(Cl)cc1)c1ccccc1NCc1ccncc1</td>\n",
       "    </tr>\n",
       "    <tr>\n",
       "      <th>3</th>\n",
       "      <td>6.494850</td>\n",
       "      <td>nM</td>\n",
       "      <td>CHEMBL102726</td>\n",
       "      <td>c1ccc(CNc2ncnc3ccccc23)cc1</td>\n",
       "    </tr>\n",
       "    <tr>\n",
       "      <th>4</th>\n",
       "      <td>5.387216</td>\n",
       "      <td>nM</td>\n",
       "      <td>CHEMBL103552</td>\n",
       "      <td>O=C(O)c1cc(N(Cc2ccccc2O)Cc2cc(O)ccc2O)ccc1O</td>\n",
       "    </tr>\n",
       "  </tbody>\n",
       "</table>\n",
       "</div>"
      ],
      "text/plain": [
       "      pIC50  ...                                   canonical_smiles\n",
       "0  6.339419  ...             Clc1ccc(Nc2nnc(Cc3ccncc3)c3ccccc23)cc1\n",
       "1  5.484537  ...  CCOc1nc2cccc(C(=O)O)c2n1Cc1ccc(-c2ccccc2-c2nnn...\n",
       "2  5.136677  ...               O=C(Nc1ccc(Cl)cc1)c1ccccc1NCc1ccncc1\n",
       "3  6.494850  ...                         c1ccc(CNc2ncnc3ccccc23)cc1\n",
       "4  5.387216  ...        O=C(O)c1cc(N(Cc2ccccc2O)Cc2cc(O)ccc2O)ccc1O\n",
       "\n",
       "[5 rows x 4 columns]"
      ]
     },
     "execution_count": 12,
     "metadata": {},
     "output_type": "execute_result"
    }
   ],
   "source": [
    "egfr_activities_df = pd.read_csv(\"https://github.com/volkamerlab/cic_summerschool_2025/raw/refs/heads/main/data/EGFR-activities-prepared.csv\", \n",
    "                                 index_col=0)\n",
    "egfr_activities_df.head()"
   ]
  },
  {
   "cell_type": "markdown",
   "id": "c242f605",
   "metadata": {},
   "source": [
    "## Featuration\n",
    "To use molecules in machine learning models, we need to encode them numerically. We do this by generating fingerprint bit vectors for each molecule. Each molecule is then represented as a vector of fixed length ($1024$ in our example)."
   ]
  },
  {
   "cell_type": "code",
   "execution_count": 13,
   "id": "23bf4b5e",
   "metadata": {},
   "outputs": [
    {
     "data": {
      "text/html": [
       "<div>\n",
       "<style scoped>\n",
       "    .dataframe tbody tr th:only-of-type {\n",
       "        vertical-align: middle;\n",
       "    }\n",
       "\n",
       "    .dataframe tbody tr th {\n",
       "        vertical-align: top;\n",
       "    }\n",
       "\n",
       "    .dataframe thead th {\n",
       "        text-align: right;\n",
       "    }\n",
       "</style>\n",
       "<table border=\"1\" class=\"dataframe\">\n",
       "  <thead>\n",
       "    <tr style=\"text-align: right;\">\n",
       "      <th></th>\n",
       "      <th>pIC50</th>\n",
       "      <th>standard_units</th>\n",
       "      <th>molecule_dictionary.chembl_id</th>\n",
       "      <th>canonical_smiles</th>\n",
       "      <th>morgan_fp</th>\n",
       "    </tr>\n",
       "  </thead>\n",
       "  <tbody>\n",
       "    <tr>\n",
       "      <th>0</th>\n",
       "      <td>6.339419</td>\n",
       "      <td>nM</td>\n",
       "      <td>CHEMBL101253</td>\n",
       "      <td>Clc1ccc(Nc2nnc(Cc3ccncc3)c3ccccc23)cc1</td>\n",
       "      <td>[0, 0, 0, 0, 0, 0, 0, 0, 0, 0, 0, 0, 0, 0, 0, ...</td>\n",
       "    </tr>\n",
       "    <tr>\n",
       "      <th>1</th>\n",
       "      <td>5.484537</td>\n",
       "      <td>nM</td>\n",
       "      <td>CHEMBL1016</td>\n",
       "      <td>CCOc1nc2cccc(C(=O)O)c2n1Cc1ccc(-c2ccccc2-c2nnn...</td>\n",
       "      <td>[0, 0, 0, 0, 0, 0, 0, 0, 0, 0, 0, 0, 0, 0, 0, ...</td>\n",
       "    </tr>\n",
       "    <tr>\n",
       "      <th>2</th>\n",
       "      <td>5.136677</td>\n",
       "      <td>nM</td>\n",
       "      <td>CHEMBL101683</td>\n",
       "      <td>O=C(Nc1ccc(Cl)cc1)c1ccccc1NCc1ccncc1</td>\n",
       "      <td>[0, 0, 0, 0, 0, 0, 0, 0, 0, 0, 0, 0, 0, 0, 0, ...</td>\n",
       "    </tr>\n",
       "    <tr>\n",
       "      <th>3</th>\n",
       "      <td>6.494850</td>\n",
       "      <td>nM</td>\n",
       "      <td>CHEMBL102726</td>\n",
       "      <td>c1ccc(CNc2ncnc3ccccc23)cc1</td>\n",
       "      <td>[0, 0, 0, 0, 0, 0, 0, 0, 0, 0, 0, 0, 0, 0, 0, ...</td>\n",
       "    </tr>\n",
       "    <tr>\n",
       "      <th>4</th>\n",
       "      <td>5.387216</td>\n",
       "      <td>nM</td>\n",
       "      <td>CHEMBL103552</td>\n",
       "      <td>O=C(O)c1cc(N(Cc2ccccc2O)Cc2cc(O)ccc2O)ccc1O</td>\n",
       "      <td>[0, 0, 0, 0, 0, 0, 0, 0, 0, 0, 0, 0, 0, 0, 0, ...</td>\n",
       "    </tr>\n",
       "  </tbody>\n",
       "</table>\n",
       "</div>"
      ],
      "text/plain": [
       "      pIC50  ...                                          morgan_fp\n",
       "0  6.339419  ...  [0, 0, 0, 0, 0, 0, 0, 0, 0, 0, 0, 0, 0, 0, 0, ...\n",
       "1  5.484537  ...  [0, 0, 0, 0, 0, 0, 0, 0, 0, 0, 0, 0, 0, 0, 0, ...\n",
       "2  5.136677  ...  [0, 0, 0, 0, 0, 0, 0, 0, 0, 0, 0, 0, 0, 0, 0, ...\n",
       "3  6.494850  ...  [0, 0, 0, 0, 0, 0, 0, 0, 0, 0, 0, 0, 0, 0, 0, ...\n",
       "4  5.387216  ...  [0, 0, 0, 0, 0, 0, 0, 0, 0, 0, 0, 0, 0, 0, 0, ...\n",
       "\n",
       "[5 rows x 5 columns]"
      ]
     },
     "execution_count": 13,
     "metadata": {},
     "output_type": "execute_result"
    }
   ],
   "source": [
    "fpgen = AllChem.GetMorganGenerator(radius=2, fpSize=1024)\n",
    "\n",
    "egfr_activities_df['morgan_fp'] = egfr_activities_df['canonical_smiles'].apply(lambda smiles : fpgen.GetFingerprintAsNumPy(Chem.MolFromSmiles(smiles)))\n",
    "egfr_activities_df.head()"
   ]
  },
  {
   "cell_type": "markdown",
   "id": "2256df6e",
   "metadata": {},
   "source": [
    "## Training a random forest (RF)\n",
    "We aim to train a function that takes a bit vector as input and predicts the pIC50 value."
   ]
  },
  {
   "cell_type": "markdown",
   "id": "15093735",
   "metadata": {},
   "source": [
    "### Data splitting\n",
    "Our goal is to be learn a (machine learning) model that generalizes well.\n",
    "\n",
    "Therefore, we split our dataset into 2 subsets:\n",
    "* A larger subset on which we will train our model called the *training set*.\n",
    "* A smaller subset on which we will *test* the model. It is important that we evaluate our model on a subset of the data it has **never seen before** to ensure that we are not overfitting the data and that our model can generalize well to unseen data.\n",
    "\n",
    "Here, we will randomly split the data. However, note that usually in a real world scenaria, one should avoid random splitting in this area to avoid data leacage, e.g., since molecules with similar scaffold have been already seen during training. (TODO rephrase)"
   ]
  },
  {
   "cell_type": "markdown",
   "id": "cbf53cc6",
   "metadata": {},
   "source": [
    "We use the `train_test_split` function of the **sklearn** library to split 80% of the data for training and 20% for testing. **sklearn** is a machine learning library that provides several convenient functions for machine learning."
   ]
  },
  {
   "cell_type": "code",
   "execution_count": null,
   "id": "9700bf35",
   "metadata": {},
   "outputs": [],
   "source": [
    "df_train, df_test = train_test_split(egfr_activities_df, test_size=0.2, random_state=42)\n",
    "print(f\"{len(df_train)} traing samples, {len(df_test)} test samples\")"
   ]
  },
  {
   "cell_type": "markdown",
   "id": "83a525a3",
   "metadata": {},
   "source": [
    "We convert our fingerprints (X) and pIC50 (y) values into **NumPy** arrays. **NumPy** allows to create vectors (1D), matrices (2D), tensors (>= 3D) in the form of arrays. Further it offers a large collection of efficient numerical operations on arrays, which is crucial for machine learning."
   ]
  },
  {
   "cell_type": "code",
   "execution_count": 24,
   "id": "63bd8dc5",
   "metadata": {},
   "outputs": [],
   "source": [
    "X_train, y_train = np.stack(df_train['morgan_fp']), np.array(df_train['pIC50'])\n",
    "X_test, y_test = np.stack(df_test['morgan_fp']), np.array(df_test['pIC50'])"
   ]
  },
  {
   "cell_type": "code",
   "execution_count": 25,
   "id": "fd5c3dd1",
   "metadata": {},
   "outputs": [
    {
     "name": "stdout",
     "output_type": "stream",
     "text": [
      "Dimentions of training input: (5358, 1024)\n",
      "Dimentions of training output: (5358,)\n",
      "Dimentions of training input: (1340, 1024)\n",
      "Dimentions of training output: (1340,)\n"
     ]
    }
   ],
   "source": [
    "print(f\"Dimentions of training input: {X_train.shape}\")\n",
    "print(f\"Dimentions of training output: {y_train.shape}\")\n",
    "print(f\"Dimentions of training input: {X_test.shape}\")\n",
    "print(f\"Dimentions of training output: {y_test.shape}\")"
   ]
  },
  {
   "cell_type": "markdown",
   "id": "e4b4774d",
   "metadata": {},
   "source": [
    "### Training \n",
    "With **sklearn**, we first initialize the model, fit it to the training data using the `fit`-function, and then predict on new inputs using the `predict`-function of the model."
   ]
  },
  {
   "cell_type": "code",
   "execution_count": null,
   "id": "ea3141be",
   "metadata": {},
   "outputs": [
    {
     "data": {
      "text/html": [
       "<style>#sk-container-id-1 {\n",
       "  /* Definition of color scheme common for light and dark mode */\n",
       "  --sklearn-color-text: #000;\n",
       "  --sklearn-color-text-muted: #666;\n",
       "  --sklearn-color-line: gray;\n",
       "  /* Definition of color scheme for unfitted estimators */\n",
       "  --sklearn-color-unfitted-level-0: #fff5e6;\n",
       "  --sklearn-color-unfitted-level-1: #f6e4d2;\n",
       "  --sklearn-color-unfitted-level-2: #ffe0b3;\n",
       "  --sklearn-color-unfitted-level-3: chocolate;\n",
       "  /* Definition of color scheme for fitted estimators */\n",
       "  --sklearn-color-fitted-level-0: #f0f8ff;\n",
       "  --sklearn-color-fitted-level-1: #d4ebff;\n",
       "  --sklearn-color-fitted-level-2: #b3dbfd;\n",
       "  --sklearn-color-fitted-level-3: cornflowerblue;\n",
       "\n",
       "  /* Specific color for light theme */\n",
       "  --sklearn-color-text-on-default-background: var(--sg-text-color, var(--theme-code-foreground, var(--jp-content-font-color1, black)));\n",
       "  --sklearn-color-background: var(--sg-background-color, var(--theme-background, var(--jp-layout-color0, white)));\n",
       "  --sklearn-color-border-box: var(--sg-text-color, var(--theme-code-foreground, var(--jp-content-font-color1, black)));\n",
       "  --sklearn-color-icon: #696969;\n",
       "\n",
       "  @media (prefers-color-scheme: dark) {\n",
       "    /* Redefinition of color scheme for dark theme */\n",
       "    --sklearn-color-text-on-default-background: var(--sg-text-color, var(--theme-code-foreground, var(--jp-content-font-color1, white)));\n",
       "    --sklearn-color-background: var(--sg-background-color, var(--theme-background, var(--jp-layout-color0, #111)));\n",
       "    --sklearn-color-border-box: var(--sg-text-color, var(--theme-code-foreground, var(--jp-content-font-color1, white)));\n",
       "    --sklearn-color-icon: #878787;\n",
       "  }\n",
       "}\n",
       "\n",
       "#sk-container-id-1 {\n",
       "  color: var(--sklearn-color-text);\n",
       "}\n",
       "\n",
       "#sk-container-id-1 pre {\n",
       "  padding: 0;\n",
       "}\n",
       "\n",
       "#sk-container-id-1 input.sk-hidden--visually {\n",
       "  border: 0;\n",
       "  clip: rect(1px 1px 1px 1px);\n",
       "  clip: rect(1px, 1px, 1px, 1px);\n",
       "  height: 1px;\n",
       "  margin: -1px;\n",
       "  overflow: hidden;\n",
       "  padding: 0;\n",
       "  position: absolute;\n",
       "  width: 1px;\n",
       "}\n",
       "\n",
       "#sk-container-id-1 div.sk-dashed-wrapped {\n",
       "  border: 1px dashed var(--sklearn-color-line);\n",
       "  margin: 0 0.4em 0.5em 0.4em;\n",
       "  box-sizing: border-box;\n",
       "  padding-bottom: 0.4em;\n",
       "  background-color: var(--sklearn-color-background);\n",
       "}\n",
       "\n",
       "#sk-container-id-1 div.sk-container {\n",
       "  /* jupyter's `normalize.less` sets `[hidden] { display: none; }`\n",
       "     but bootstrap.min.css set `[hidden] { display: none !important; }`\n",
       "     so we also need the `!important` here to be able to override the\n",
       "     default hidden behavior on the sphinx rendered scikit-learn.org.\n",
       "     See: https://github.com/scikit-learn/scikit-learn/issues/21755 */\n",
       "  display: inline-block !important;\n",
       "  position: relative;\n",
       "}\n",
       "\n",
       "#sk-container-id-1 div.sk-text-repr-fallback {\n",
       "  display: none;\n",
       "}\n",
       "\n",
       "div.sk-parallel-item,\n",
       "div.sk-serial,\n",
       "div.sk-item {\n",
       "  /* draw centered vertical line to link estimators */\n",
       "  background-image: linear-gradient(var(--sklearn-color-text-on-default-background), var(--sklearn-color-text-on-default-background));\n",
       "  background-size: 2px 100%;\n",
       "  background-repeat: no-repeat;\n",
       "  background-position: center center;\n",
       "}\n",
       "\n",
       "/* Parallel-specific style estimator block */\n",
       "\n",
       "#sk-container-id-1 div.sk-parallel-item::after {\n",
       "  content: \"\";\n",
       "  width: 100%;\n",
       "  border-bottom: 2px solid var(--sklearn-color-text-on-default-background);\n",
       "  flex-grow: 1;\n",
       "}\n",
       "\n",
       "#sk-container-id-1 div.sk-parallel {\n",
       "  display: flex;\n",
       "  align-items: stretch;\n",
       "  justify-content: center;\n",
       "  background-color: var(--sklearn-color-background);\n",
       "  position: relative;\n",
       "}\n",
       "\n",
       "#sk-container-id-1 div.sk-parallel-item {\n",
       "  display: flex;\n",
       "  flex-direction: column;\n",
       "}\n",
       "\n",
       "#sk-container-id-1 div.sk-parallel-item:first-child::after {\n",
       "  align-self: flex-end;\n",
       "  width: 50%;\n",
       "}\n",
       "\n",
       "#sk-container-id-1 div.sk-parallel-item:last-child::after {\n",
       "  align-self: flex-start;\n",
       "  width: 50%;\n",
       "}\n",
       "\n",
       "#sk-container-id-1 div.sk-parallel-item:only-child::after {\n",
       "  width: 0;\n",
       "}\n",
       "\n",
       "/* Serial-specific style estimator block */\n",
       "\n",
       "#sk-container-id-1 div.sk-serial {\n",
       "  display: flex;\n",
       "  flex-direction: column;\n",
       "  align-items: center;\n",
       "  background-color: var(--sklearn-color-background);\n",
       "  padding-right: 1em;\n",
       "  padding-left: 1em;\n",
       "}\n",
       "\n",
       "\n",
       "/* Toggleable style: style used for estimator/Pipeline/ColumnTransformer box that is\n",
       "clickable and can be expanded/collapsed.\n",
       "- Pipeline and ColumnTransformer use this feature and define the default style\n",
       "- Estimators will overwrite some part of the style using the `sk-estimator` class\n",
       "*/\n",
       "\n",
       "/* Pipeline and ColumnTransformer style (default) */\n",
       "\n",
       "#sk-container-id-1 div.sk-toggleable {\n",
       "  /* Default theme specific background. It is overwritten whether we have a\n",
       "  specific estimator or a Pipeline/ColumnTransformer */\n",
       "  background-color: var(--sklearn-color-background);\n",
       "}\n",
       "\n",
       "/* Toggleable label */\n",
       "#sk-container-id-1 label.sk-toggleable__label {\n",
       "  cursor: pointer;\n",
       "  display: flex;\n",
       "  width: 100%;\n",
       "  margin-bottom: 0;\n",
       "  padding: 0.5em;\n",
       "  box-sizing: border-box;\n",
       "  text-align: center;\n",
       "  align-items: start;\n",
       "  justify-content: space-between;\n",
       "  gap: 0.5em;\n",
       "}\n",
       "\n",
       "#sk-container-id-1 label.sk-toggleable__label .caption {\n",
       "  font-size: 0.6rem;\n",
       "  font-weight: lighter;\n",
       "  color: var(--sklearn-color-text-muted);\n",
       "}\n",
       "\n",
       "#sk-container-id-1 label.sk-toggleable__label-arrow:before {\n",
       "  /* Arrow on the left of the label */\n",
       "  content: \"▸\";\n",
       "  float: left;\n",
       "  margin-right: 0.25em;\n",
       "  color: var(--sklearn-color-icon);\n",
       "}\n",
       "\n",
       "#sk-container-id-1 label.sk-toggleable__label-arrow:hover:before {\n",
       "  color: var(--sklearn-color-text);\n",
       "}\n",
       "\n",
       "/* Toggleable content - dropdown */\n",
       "\n",
       "#sk-container-id-1 div.sk-toggleable__content {\n",
       "  max-height: 0;\n",
       "  max-width: 0;\n",
       "  overflow: hidden;\n",
       "  text-align: left;\n",
       "  /* unfitted */\n",
       "  background-color: var(--sklearn-color-unfitted-level-0);\n",
       "}\n",
       "\n",
       "#sk-container-id-1 div.sk-toggleable__content.fitted {\n",
       "  /* fitted */\n",
       "  background-color: var(--sklearn-color-fitted-level-0);\n",
       "}\n",
       "\n",
       "#sk-container-id-1 div.sk-toggleable__content pre {\n",
       "  margin: 0.2em;\n",
       "  border-radius: 0.25em;\n",
       "  color: var(--sklearn-color-text);\n",
       "  /* unfitted */\n",
       "  background-color: var(--sklearn-color-unfitted-level-0);\n",
       "}\n",
       "\n",
       "#sk-container-id-1 div.sk-toggleable__content.fitted pre {\n",
       "  /* unfitted */\n",
       "  background-color: var(--sklearn-color-fitted-level-0);\n",
       "}\n",
       "\n",
       "#sk-container-id-1 input.sk-toggleable__control:checked~div.sk-toggleable__content {\n",
       "  /* Expand drop-down */\n",
       "  max-height: 200px;\n",
       "  max-width: 100%;\n",
       "  overflow: auto;\n",
       "}\n",
       "\n",
       "#sk-container-id-1 input.sk-toggleable__control:checked~label.sk-toggleable__label-arrow:before {\n",
       "  content: \"▾\";\n",
       "}\n",
       "\n",
       "/* Pipeline/ColumnTransformer-specific style */\n",
       "\n",
       "#sk-container-id-1 div.sk-label input.sk-toggleable__control:checked~label.sk-toggleable__label {\n",
       "  color: var(--sklearn-color-text);\n",
       "  background-color: var(--sklearn-color-unfitted-level-2);\n",
       "}\n",
       "\n",
       "#sk-container-id-1 div.sk-label.fitted input.sk-toggleable__control:checked~label.sk-toggleable__label {\n",
       "  background-color: var(--sklearn-color-fitted-level-2);\n",
       "}\n",
       "\n",
       "/* Estimator-specific style */\n",
       "\n",
       "/* Colorize estimator box */\n",
       "#sk-container-id-1 div.sk-estimator input.sk-toggleable__control:checked~label.sk-toggleable__label {\n",
       "  /* unfitted */\n",
       "  background-color: var(--sklearn-color-unfitted-level-2);\n",
       "}\n",
       "\n",
       "#sk-container-id-1 div.sk-estimator.fitted input.sk-toggleable__control:checked~label.sk-toggleable__label {\n",
       "  /* fitted */\n",
       "  background-color: var(--sklearn-color-fitted-level-2);\n",
       "}\n",
       "\n",
       "#sk-container-id-1 div.sk-label label.sk-toggleable__label,\n",
       "#sk-container-id-1 div.sk-label label {\n",
       "  /* The background is the default theme color */\n",
       "  color: var(--sklearn-color-text-on-default-background);\n",
       "}\n",
       "\n",
       "/* On hover, darken the color of the background */\n",
       "#sk-container-id-1 div.sk-label:hover label.sk-toggleable__label {\n",
       "  color: var(--sklearn-color-text);\n",
       "  background-color: var(--sklearn-color-unfitted-level-2);\n",
       "}\n",
       "\n",
       "/* Label box, darken color on hover, fitted */\n",
       "#sk-container-id-1 div.sk-label.fitted:hover label.sk-toggleable__label.fitted {\n",
       "  color: var(--sklearn-color-text);\n",
       "  background-color: var(--sklearn-color-fitted-level-2);\n",
       "}\n",
       "\n",
       "/* Estimator label */\n",
       "\n",
       "#sk-container-id-1 div.sk-label label {\n",
       "  font-family: monospace;\n",
       "  font-weight: bold;\n",
       "  display: inline-block;\n",
       "  line-height: 1.2em;\n",
       "}\n",
       "\n",
       "#sk-container-id-1 div.sk-label-container {\n",
       "  text-align: center;\n",
       "}\n",
       "\n",
       "/* Estimator-specific */\n",
       "#sk-container-id-1 div.sk-estimator {\n",
       "  font-family: monospace;\n",
       "  border: 1px dotted var(--sklearn-color-border-box);\n",
       "  border-radius: 0.25em;\n",
       "  box-sizing: border-box;\n",
       "  margin-bottom: 0.5em;\n",
       "  /* unfitted */\n",
       "  background-color: var(--sklearn-color-unfitted-level-0);\n",
       "}\n",
       "\n",
       "#sk-container-id-1 div.sk-estimator.fitted {\n",
       "  /* fitted */\n",
       "  background-color: var(--sklearn-color-fitted-level-0);\n",
       "}\n",
       "\n",
       "/* on hover */\n",
       "#sk-container-id-1 div.sk-estimator:hover {\n",
       "  /* unfitted */\n",
       "  background-color: var(--sklearn-color-unfitted-level-2);\n",
       "}\n",
       "\n",
       "#sk-container-id-1 div.sk-estimator.fitted:hover {\n",
       "  /* fitted */\n",
       "  background-color: var(--sklearn-color-fitted-level-2);\n",
       "}\n",
       "\n",
       "/* Specification for estimator info (e.g. \"i\" and \"?\") */\n",
       "\n",
       "/* Common style for \"i\" and \"?\" */\n",
       "\n",
       ".sk-estimator-doc-link,\n",
       "a:link.sk-estimator-doc-link,\n",
       "a:visited.sk-estimator-doc-link {\n",
       "  float: right;\n",
       "  font-size: smaller;\n",
       "  line-height: 1em;\n",
       "  font-family: monospace;\n",
       "  background-color: var(--sklearn-color-background);\n",
       "  border-radius: 1em;\n",
       "  height: 1em;\n",
       "  width: 1em;\n",
       "  text-decoration: none !important;\n",
       "  margin-left: 0.5em;\n",
       "  text-align: center;\n",
       "  /* unfitted */\n",
       "  border: var(--sklearn-color-unfitted-level-1) 1pt solid;\n",
       "  color: var(--sklearn-color-unfitted-level-1);\n",
       "}\n",
       "\n",
       ".sk-estimator-doc-link.fitted,\n",
       "a:link.sk-estimator-doc-link.fitted,\n",
       "a:visited.sk-estimator-doc-link.fitted {\n",
       "  /* fitted */\n",
       "  border: var(--sklearn-color-fitted-level-1) 1pt solid;\n",
       "  color: var(--sklearn-color-fitted-level-1);\n",
       "}\n",
       "\n",
       "/* On hover */\n",
       "div.sk-estimator:hover .sk-estimator-doc-link:hover,\n",
       ".sk-estimator-doc-link:hover,\n",
       "div.sk-label-container:hover .sk-estimator-doc-link:hover,\n",
       ".sk-estimator-doc-link:hover {\n",
       "  /* unfitted */\n",
       "  background-color: var(--sklearn-color-unfitted-level-3);\n",
       "  color: var(--sklearn-color-background);\n",
       "  text-decoration: none;\n",
       "}\n",
       "\n",
       "div.sk-estimator.fitted:hover .sk-estimator-doc-link.fitted:hover,\n",
       ".sk-estimator-doc-link.fitted:hover,\n",
       "div.sk-label-container:hover .sk-estimator-doc-link.fitted:hover,\n",
       ".sk-estimator-doc-link.fitted:hover {\n",
       "  /* fitted */\n",
       "  background-color: var(--sklearn-color-fitted-level-3);\n",
       "  color: var(--sklearn-color-background);\n",
       "  text-decoration: none;\n",
       "}\n",
       "\n",
       "/* Span, style for the box shown on hovering the info icon */\n",
       ".sk-estimator-doc-link span {\n",
       "  display: none;\n",
       "  z-index: 9999;\n",
       "  position: relative;\n",
       "  font-weight: normal;\n",
       "  right: .2ex;\n",
       "  padding: .5ex;\n",
       "  margin: .5ex;\n",
       "  width: min-content;\n",
       "  min-width: 20ex;\n",
       "  max-width: 50ex;\n",
       "  color: var(--sklearn-color-text);\n",
       "  box-shadow: 2pt 2pt 4pt #999;\n",
       "  /* unfitted */\n",
       "  background: var(--sklearn-color-unfitted-level-0);\n",
       "  border: .5pt solid var(--sklearn-color-unfitted-level-3);\n",
       "}\n",
       "\n",
       ".sk-estimator-doc-link.fitted span {\n",
       "  /* fitted */\n",
       "  background: var(--sklearn-color-fitted-level-0);\n",
       "  border: var(--sklearn-color-fitted-level-3);\n",
       "}\n",
       "\n",
       ".sk-estimator-doc-link:hover span {\n",
       "  display: block;\n",
       "}\n",
       "\n",
       "/* \"?\"-specific style due to the `<a>` HTML tag */\n",
       "\n",
       "#sk-container-id-1 a.estimator_doc_link {\n",
       "  float: right;\n",
       "  font-size: 1rem;\n",
       "  line-height: 1em;\n",
       "  font-family: monospace;\n",
       "  background-color: var(--sklearn-color-background);\n",
       "  border-radius: 1rem;\n",
       "  height: 1rem;\n",
       "  width: 1rem;\n",
       "  text-decoration: none;\n",
       "  /* unfitted */\n",
       "  color: var(--sklearn-color-unfitted-level-1);\n",
       "  border: var(--sklearn-color-unfitted-level-1) 1pt solid;\n",
       "}\n",
       "\n",
       "#sk-container-id-1 a.estimator_doc_link.fitted {\n",
       "  /* fitted */\n",
       "  border: var(--sklearn-color-fitted-level-1) 1pt solid;\n",
       "  color: var(--sklearn-color-fitted-level-1);\n",
       "}\n",
       "\n",
       "/* On hover */\n",
       "#sk-container-id-1 a.estimator_doc_link:hover {\n",
       "  /* unfitted */\n",
       "  background-color: var(--sklearn-color-unfitted-level-3);\n",
       "  color: var(--sklearn-color-background);\n",
       "  text-decoration: none;\n",
       "}\n",
       "\n",
       "#sk-container-id-1 a.estimator_doc_link.fitted:hover {\n",
       "  /* fitted */\n",
       "  background-color: var(--sklearn-color-fitted-level-3);\n",
       "}\n",
       "</style><div id=\"sk-container-id-1\" class=\"sk-top-container\"><div class=\"sk-text-repr-fallback\"><pre>RandomForestRegressor(random_state=42)</pre><b>In a Jupyter environment, please rerun this cell to show the HTML representation or trust the notebook. <br />On GitHub, the HTML representation is unable to render, please try loading this page with nbviewer.org.</b></div><div class=\"sk-container\" hidden><div class=\"sk-item\"><div class=\"sk-estimator fitted sk-toggleable\"><input class=\"sk-toggleable__control sk-hidden--visually\" id=\"sk-estimator-id-1\" type=\"checkbox\" checked><label for=\"sk-estimator-id-1\" class=\"sk-toggleable__label fitted sk-toggleable__label-arrow\"><div><div>RandomForestRegressor</div></div><div><a class=\"sk-estimator-doc-link fitted\" rel=\"noreferrer\" target=\"_blank\" href=\"https://scikit-learn.org/1.6/modules/generated/sklearn.ensemble.RandomForestRegressor.html\">?<span>Documentation for RandomForestRegressor</span></a><span class=\"sk-estimator-doc-link fitted\">i<span>Fitted</span></span></div></label><div class=\"sk-toggleable__content fitted\"><pre>RandomForestRegressor(random_state=42)</pre></div> </div></div></div></div>"
      ],
      "text/plain": [
       "RandomForestRegressor(random_state=42)"
      ]
     },
     "execution_count": 18,
     "metadata": {},
     "output_type": "execute_result"
    }
   ],
   "source": [
    "rf_model = RandomForestRegressor(n_estimators=100, random_state=42)\n",
    "\n",
    "rf_model.fit(X_train, y_train)"
   ]
  },
  {
   "cell_type": "code",
   "execution_count": 19,
   "id": "3d08d6ab",
   "metadata": {},
   "outputs": [
    {
     "name": "stdout",
     "output_type": "stream",
     "text": [
      "Train (MSE): 0.09156707646344872\n",
      "Train (R^2): 0.9564770804566474\n"
     ]
    }
   ],
   "source": [
    "y_pred_train = rf_model.predict(X_train)\n",
    "\n",
    "mse_train = mean_squared_error(y_train, y_pred_train)\n",
    "r_square_train = r2_score(y_train, y_pred_train)\n",
    "\n",
    "print(f\"Train (MSE): {mse_train}\")\n",
    "print(f\"Train (R^2): {r_square_train}\")"
   ]
  },
  {
   "cell_type": "markdown",
   "id": "e8b67013",
   "metadata": {},
   "source": [
    "### Assessment\n",
    "TODO small intro whats gonna come"
   ]
  },
  {
   "cell_type": "code",
   "execution_count": 20,
   "id": "dc92aafa",
   "metadata": {},
   "outputs": [
    {
     "name": "stdout",
     "output_type": "stream",
     "text": [
      "Test (MSE): 0.6564187034112835\n",
      "Test (R^2): 0.6710319339224109\n"
     ]
    }
   ],
   "source": [
    "y_pred = rf_model.predict(X_test)\n",
    "\n",
    "mse = mean_squared_error(y_test, y_pred)\n",
    "r_square = r2_score(y_test, y_pred)\n",
    "print(f\"Test (MSE): {mse}\")\n",
    "print(f\"Test (R^2): {r_square}\")"
   ]
  },
  {
   "cell_type": "markdown",
   "id": "4ff02d75",
   "metadata": {},
   "source": [
    "TODO"
   ]
  },
  {
   "cell_type": "code",
   "execution_count": null,
   "id": "0175d7cf",
   "metadata": {},
   "outputs": [
    {
     "data": {
      "image/png": "[encoded data removed]",
      "text/plain": [
       "<Figure size 640x480 with 1 Axes>"
      ]
     },
     "metadata": {},
     "output_type": "display_data"
    }
   ],
   "source": [
    "sns.regplot(x = y_pred, y = y_test, scatter_kws={'s':10})\n",
    "plt.ylabel('true value')\n",
    "plt.xlabel('predicted value')\n",
    "plt.show()"
   ]
  },
  {
   "cell_type": "markdown",
   "id": "98701deb",
   "metadata": {},
   "source": [
    "TODO comment on feature imporatnce"
   ]
  },
  {
   "cell_type": "code",
   "execution_count": 22,
   "id": "e4a62969",
   "metadata": {},
   "outputs": [
    {
     "name": "stdout",
     "output_type": "stream",
     "text": [
      "Top 3 bits: [428 128 621]\n"
     ]
    },
    {
     "data": {
      "image/png": "[encoded data removed]",
      "text/plain": [
       "<Figure size 640x480 with 1 Axes>"
      ]
     },
     "metadata": {},
     "output_type": "display_data"
    }
   ],
   "source": [
    "plt.bar(range(100), sorted(rf_model.feature_importances_, reverse=True)[:100])\n",
    "plt.ylabel('feature importance')\n",
    "plt.xlabel('features')\n",
    "top3bits = np.argsort(rf_model.feature_importances_)[:-4:-1]\n",
    "print(f\"Top 3 bits: {top3bits}\")"
   ]
  },
  {
   "cell_type": "markdown",
   "id": "8ce80707",
   "metadata": {},
   "source": [
    "Let's look for an example for the most import bit:"
   ]
  },
  {
   "cell_type": "code",
   "execution_count": 36,
   "id": "8d69eb1d",
   "metadata": {},
   "outputs": [
    {
     "data": {
      "image/svg+xml": [
       "<svg xmlns=\"http://www.w3.org/2000/svg\" xmlns:rdkit=\"http://www.rdkit.org/xml\" xmlns:xlink=\"http://www.w3.org/1999/xlink\" version=\"1.1\" baseProfile=\"full\" xml:space=\"preserve\" width=\"150px\" height=\"150px\" viewBox=\"0 0 150 150\">\n",
       "<!-- END OF HEADER -->\n",
       "<rect style=\"opacity:1.0;fill:#FFFFFF;stroke:none\" width=\"150.0\" height=\"150.0\" x=\"0.0\" y=\"0.0\"> </rect>\n",
       "<ellipse cx=\"71.0\" cy=\"99.1\" rx=\"8.8\" ry=\"8.8\" class=\"atom-1\" style=\"fill:#E5E533;fill-rule:evenodd;stroke:#E5E533;stroke-width:1.0px;stroke-linecap:butt;stroke-linejoin:miter;stroke-opacity:1\"/>\n",
       "<ellipse cx=\"109.7\" cy=\"78.0\" rx=\"8.8\" ry=\"8.8\" class=\"atom-3\" style=\"fill:#9999E5;fill-rule:evenodd;stroke:#9999E5;stroke-width:1.0px;stroke-linecap:butt;stroke-linejoin:miter;stroke-opacity:1\"/>\n",
       "<ellipse cx=\"110.7\" cy=\"33.9\" rx=\"8.8\" ry=\"8.8\" class=\"atom-4\" style=\"fill:#E5E533;fill-rule:evenodd;stroke:#E5E533;stroke-width:1.0px;stroke-linecap:butt;stroke-linejoin:miter;stroke-opacity:1\"/>\n",
       "<path class=\"bond-0 atom-0 atom-1\" d=\"M 36.5,74.2 L 74.4,97.3\" style=\"fill:none;fill-rule:evenodd;stroke:#E5E5E5;stroke-width:2.3px;stroke-linecap:butt;stroke-linejoin:miter;stroke-opacity:1\"/>\n",
       "<path class=\"bond-0 atom-0 atom-1\" d=\"M 33.0,79.8 L 70.9,102.9\" style=\"fill:none;fill-rule:evenodd;stroke:#E5E5E5;stroke-width:2.3px;stroke-linecap:butt;stroke-linejoin:miter;stroke-opacity:1;stroke-dasharray:6,4\"/>\n",
       "<path class=\"bond-1 atom-1 atom-2\" d=\"M 71.0,99.1 L 70.2,135.3\" style=\"fill:none;fill-rule:evenodd;stroke:#E5E5E5;stroke-width:2.3px;stroke-linecap:butt;stroke-linejoin:miter;stroke-opacity:1\"/>\n",
       "<path class=\"bond-2 atom-1 atom-3\" d=\"M 71.0,99.1 L 87.3,90.2\" style=\"fill:none;fill-rule:evenodd;stroke:#000000;stroke-width:2.0px;stroke-linecap:butt;stroke-linejoin:miter;stroke-opacity:1\"/>\n",
       "<path class=\"bond-2 atom-1 atom-3\" d=\"M 87.3,90.2 L 103.5,81.4\" style=\"fill:none;fill-rule:evenodd;stroke:#0000FF;stroke-width:2.0px;stroke-linecap:butt;stroke-linejoin:miter;stroke-opacity:1\"/>\n",
       "<path class=\"bond-2 atom-1 atom-3\" d=\"M 71.2,91.5 L 85.8,83.5\" style=\"fill:none;fill-rule:evenodd;stroke:#000000;stroke-width:2.0px;stroke-linecap:butt;stroke-linejoin:miter;stroke-opacity:1;stroke-dasharray:6,4\"/>\n",
       "<path class=\"bond-2 atom-1 atom-3\" d=\"M 85.8,83.5 L 100.3,75.6\" style=\"fill:none;fill-rule:evenodd;stroke:#0000FF;stroke-width:2.0px;stroke-linecap:butt;stroke-linejoin:miter;stroke-opacity:1;stroke-dasharray:6,4\"/>\n",
       "<path class=\"bond-3 atom-3 atom-4\" d=\"M 109.9,70.3 L 110.3,52.1\" style=\"fill:none;fill-rule:evenodd;stroke:#0000FF;stroke-width:2.0px;stroke-linecap:butt;stroke-linejoin:miter;stroke-opacity:1\"/>\n",
       "<path class=\"bond-3 atom-3 atom-4\" d=\"M 110.3,52.1 L 110.7,33.9\" style=\"fill:none;fill-rule:evenodd;stroke:#000000;stroke-width:2.0px;stroke-linecap:butt;stroke-linejoin:miter;stroke-opacity:1\"/>\n",
       "<path class=\"bond-3 atom-3 atom-4\" d=\"M 103.3,70.1 L 103.6,53.9\" style=\"fill:none;fill-rule:evenodd;stroke:#0000FF;stroke-width:2.0px;stroke-linecap:butt;stroke-linejoin:miter;stroke-opacity:1;stroke-dasharray:6,4\"/>\n",
       "<path class=\"bond-3 atom-3 atom-4\" d=\"M 103.6,53.9 L 104.0,37.6\" style=\"fill:none;fill-rule:evenodd;stroke:#000000;stroke-width:2.0px;stroke-linecap:butt;stroke-linejoin:miter;stroke-opacity:1;stroke-dasharray:6,4\"/>\n",
       "<path class=\"bond-4 atom-4 atom-5\" d=\"M 110.7,33.9 L 74.5,11.8\" style=\"fill:none;fill-rule:evenodd;stroke:#E5E5E5;stroke-width:2.3px;stroke-linecap:butt;stroke-linejoin:miter;stroke-opacity:1\"/>\n",
       "<path class=\"bond-4 atom-4 atom-5\" d=\"M 104.0,37.6 L 71.0,17.5\" style=\"fill:none;fill-rule:evenodd;stroke:#E5E5E5;stroke-width:2.3px;stroke-linecap:butt;stroke-linejoin:miter;stroke-opacity:1;stroke-dasharray:6,4\"/>\n",
       "<path d=\"M 110.7,34.4 L 110.7,33.9 L 109.8,33.4\" style=\"fill:none;stroke:#000000;stroke-width:2.0px;stroke-linecap:butt;stroke-linejoin:miter;stroke-opacity:1;\"/>\n",
       "<path class=\"atom-0\" d=\"M 31.1 74.8 L 32.9 72.9 L 30.5 72.4 L 30.8 71.2 L 33.1 72.3 L 32.7 69.8 L 34.1 69.8 L 33.7 72.3 L 36.0 71.2 L 36.4 72.4 L 33.9 72.9 L 35.7 74.8 L 34.6 75.5 L 33.4 73.2 L 32.1 75.5 L 31.1 74.8 \" fill=\"#191919\"/>\n",
       "<path class=\"atom-2\" d=\"M 67.6 141.7 L 69.5 139.9 L 67.0 139.4 L 67.4 138.1 L 69.6 139.3 L 69.3 136.8 L 70.6 136.8 L 70.3 139.2 L 72.5 138.2 L 72.9 139.4 L 70.5 139.8 L 72.2 141.7 L 71.1 142.5 L 69.9 140.2 L 68.7 142.5 L 67.6 141.7 \" fill=\"#191919\"/>\n",
       "<path class=\"atom-3\" d=\"M 106.9 71.7 L 111.0 78.4 Q 111.4 79.0, 112.1 80.2 Q 112.7 81.4, 112.8 81.4 L 112.8 71.7 L 114.4 71.7 L 114.4 84.2 L 112.7 84.2 L 108.3 77.0 Q 107.8 76.2, 107.3 75.2 Q 106.7 74.2, 106.6 73.9 L 106.6 84.2 L 105.0 84.2 L 105.0 71.7 L 106.9 71.7 \" fill=\"#0000FF\"/>\n",
       "<path class=\"atom-5\" d=\"M 69.0 12.5 L 70.9 10.6 L 68.4 10.1 L 68.8 8.8 L 71.1 10.0 L 70.7 7.5 L 72.1 7.5 L 71.7 9.9 L 74.0 8.9 L 74.3 10.1 L 71.9 10.5 L 73.6 12.4 L 72.6 13.2 L 71.4 10.9 L 70.1 13.2 L 69.0 12.5 \" fill=\"#191919\"/>\n",
       "</svg>"
      ],
      "text/plain": [
       "<IPython.core.display.SVG object>"
      ]
     },
     "execution_count": 36,
     "metadata": {},
     "output_type": "execute_result"
    }
   ],
   "source": [
    "from IPython.display import SVG\n",
    "\n",
    "top_bit = top3bits[0]\n",
    "top_bit_active = df_train[df_train['morgan_fp'].apply(lambda fp: fp[top_bit] == 1)].reset_index(drop = True)\n",
    "example_mol = Chem.MolFromSmiles(top_bit_active['canonical_smiles'][0])\n",
    "ao = AllChem.AdditionalOutput()\n",
    "ao.CollectBitInfoMap()\n",
    "fp = fpgen.GetFingerprint(example_mol, additionalOutput = ao)\n",
    "bi = ao.GetBitInfoMap()\n",
    "Draw.DrawMorganBit(example_mol, top_bit, bi)\n",
    "\n",
    "SVG(Draw.DrawMorganBit(example_mol, top_bit, bi))"
   ]
  },
  {
   "cell_type": "markdown",
   "id": "4b126d85",
   "metadata": {},
   "source": [
    "##  Model comparison"
   ]
  },
  {
   "cell_type": "markdown",
   "id": "63866a2c",
   "metadata": {},
   "source": [
    "CV with random split?"
   ]
  },
  {
   "cell_type": "markdown",
   "id": "c74ed3be",
   "metadata": {},
   "source": [
    "10-fold CV"
   ]
  },
  {
   "cell_type": "code",
   "execution_count": null,
   "id": "d04c5e72",
   "metadata": {},
   "outputs": [
    {
     "name": "stdout",
     "output_type": "stream",
     "text": [
      "Split 0:\n",
      "\tMSE=0.6391358367281814\n",
      "\tR^2=0.6717535195086208\n",
      "Split 1:\n",
      "\tMSE=0.5759685552875256\n",
      "\tR^2=0.7343841153971666\n",
      "Split 2:\n",
      "\tMSE=0.6023956520987523\n",
      "\tR^2=0.7055028793061981\n",
      "Split 3:\n",
      "\tMSE=0.6116147206528161\n",
      "\tR^2=0.7140100738603347\n",
      "Split 4:\n",
      "\tMSE=0.6277859853674681\n",
      "\tR^2=0.7000079846743568\n"
     ]
    }
   ],
   "source": [
    "kf = KFold(n_splits=5)\n",
    "rf_model = RandomForestRegressor(n_estimators=100, random_state=42)\n",
    "rf_cv_test_scores = {\"MSE\": [], \"R2\": []}\n",
    "\n",
    "for split, (train_idx, val_idx) in enumerate(kf.split(X_cv, y_cv)):\n",
    "    X_train, y_train = X_cv[train_idx], y_cv[train_idx]\n",
    "    X_val, y_val = X_cv[val_idx], y_cv[val_idx]\n",
    "    \n",
    "    rf_model.fit(X_train, y_train)\n",
    "    rf_model.predict(X)\n",
    "    \n",
    "    y_pred = rf_model.predict(X_val)\n",
    "    \n",
    "    mse = mean_squared_error(y_val, y_pred)\n",
    "    r_square = r2_score(y_val, y_pred)\n",
    "    \n",
    "    print(f\"Split {split}:\\n\\tMSE={mse}\\n\\tR^2={r_square}\")\n",
    "    \n",
    "    rf_cv_test_scores[\"MSE\"].append(mse)\n",
    "    rf_cv_test_scores[\"R2\"].append(mse)"
   ]
  },
  {
   "cell_type": "code",
   "execution_count": null,
   "id": "b5b27376",
   "metadata": {},
   "outputs": [
    {
     "name": "stdout",
     "output_type": "stream",
     "text": [
      "Mean validation MSE: 0.61±0.02\n"
     ]
    }
   ],
   "source": [
    "print(f\"Mean validation MSE: {statistics.mean(rf_cv_test_scores['MSE']):.2f}±{statistics.stdev(rf_cv_test_scores['MSE']):.2f}\")"
   ]
  },
  {
   "cell_type": "markdown",
   "id": "58c00913",
   "metadata": {},
   "source": [
    "## Boxplot"
   ]
  },
  {
   "cell_type": "markdown",
   "id": "0e82fc82",
   "metadata": {},
   "source": [
    "## Grid Search"
   ]
  },
  {
   "cell_type": "code",
   "execution_count": null,
   "id": "d1450f98",
   "metadata": {},
   "outputs": [
    {
     "name": "stdout",
     "output_type": "stream",
     "text": [
      "Mean validation MSE: 0.94±0.04\n"
     ]
    }
   ],
   "source": [
    "ridge = Ridge(solver = \"svd\")\n",
    "ridge_mse_cv = cross_val_score(ridge, X_cv, y_cv, scoring='neg_mean_squared_error')\n",
    "print(f\"Mean validation MSE: {-ridge_mse_cv.mean():.2f}±{ridge_mse_cv.std():.2f}\")"
   ]
  },
  {
   "cell_type": "markdown",
   "id": "7204424c",
   "metadata": {},
   "source": [
    "## Classification (?)"
   ]
  },
  {
   "cell_type": "markdown",
   "id": "ddfe32f7",
   "metadata": {},
   "source": [
    "## Excercises\n",
    "\n",
    "## TODO scaffold split "
   ]
  },
  {
   "cell_type": "markdown",
   "id": "ee4f5e20",
   "metadata": {},
   "source": [
    "### Excerise 1 (Hyperparameter tuning -> naiv)"
   ]
  },
  {
   "cell_type": "code",
   "execution_count": null,
   "id": "679c1e32",
   "metadata": {},
   "outputs": [],
   "source": [
    "# Can the CV MSE of the RF be improved by changing the number of trees? Try different numbers here\n",
    "# TODO"
   ]
  },
  {
   "cell_type": "code",
   "execution_count": null,
   "id": "ee613514",
   "metadata": {},
   "outputs": [],
   "source": [
    "# Do the same for Ridge"
   ]
  },
  {
   "cell_type": "markdown",
   "id": "2ea430bd",
   "metadata": {},
   "source": [
    "### Exercise 2 (Hyperparameter tuning -> Grid Search)"
   ]
  },
  {
   "cell_type": "code",
   "execution_count": null,
   "id": "5c6a0e38",
   "metadata": {},
   "outputs": [],
   "source": []
  },
  {
   "cell_type": "markdown",
   "id": "b7210b00",
   "metadata": {},
   "source": [
    "### Excerise 3 (Classification)"
   ]
  },
  {
   "cell_type": "code",
   "execution_count": null,
   "id": "16ceb9bb",
   "metadata": {},
   "outputs": [],
   "source": [
    "# generate labels from pIC50, if > x => active (1), else inactive (0)\n",
    "# TODO"
   ]
  },
  {
   "cell_type": "code",
   "execution_count": null,
   "id": "93ceccfe",
   "metadata": {},
   "outputs": [],
   "source": [
    "# train a RF, use f1_score as metric"
   ]
  },
  {
   "cell_type": "code",
   "execution_count": null,
   "id": "91e869b7",
   "metadata": {},
   "outputs": [],
   "source": [
    "# in lecture learned SVM, train a SVM. Is it's performance superior to RF?"
   ]
  },
  {
   "cell_type": "markdown",
   "id": "28f7b103",
   "metadata": {},
   "source": [
    "## Cluster-based Split (?) -> maybe as exercise "
   ]
  },
  {
   "cell_type": "markdown",
   "id": "fe6eaf13",
   "metadata": {},
   "source": [
    "### Play around with different models to beat RF"
   ]
  },
  {
   "cell_type": "markdown",
   "id": "4bc14ae5",
   "metadata": {},
   "source": [
    "## Plot the results"
   ]
  }
 ],
 "metadata": {
  "kernelspec": {
   "display_name": "py310_caddseminar2024",
   "language": "python",
   "name": "python3"
  },
  "language_info": {
   "codemirror_mode": {
    "name": "ipython",
    "version": 3
   },
   "file_extension": ".py",
   "mimetype": "text/x-python",
   "name": "python",
   "nbconvert_exporter": "python",
   "pygments_lexer": "ipython3",
   "version": "3.10.16"
  }
 },
 "nbformat": 4,
 "nbformat_minor": 5
}
